{
  "cells": [
    {
      "cell_type": "markdown",
      "source": [
        "Download and extract data from dataset using roboflow api"
      ],
      "metadata": {
        "id": "bea6JOk6XK0G"
      }
    },
    {
      "cell_type": "code",
      "execution_count": 3,
      "metadata": {
        "colab": {
          "base_uri": "https://localhost:8080/"
        },
        "id": "O_tesog3kj5Y",
        "outputId": "d0fa9b16-e8be-4073-9c5c-54c3d0257a40"
      },
      "outputs": [
        {
          "output_type": "stream",
          "name": "stdout",
          "text": [
            "Requirement already satisfied: roboflow in /usr/local/lib/python3.10/dist-packages (1.1.49)\n",
            "Requirement already satisfied: certifi in /usr/local/lib/python3.10/dist-packages (from roboflow) (2024.8.30)\n",
            "Requirement already satisfied: idna==3.7 in /usr/local/lib/python3.10/dist-packages (from roboflow) (3.7)\n",
            "Requirement already satisfied: cycler in /usr/local/lib/python3.10/dist-packages (from roboflow) (0.12.1)\n",
            "Requirement already satisfied: kiwisolver>=1.3.1 in /usr/local/lib/python3.10/dist-packages (from roboflow) (1.4.7)\n",
            "Requirement already satisfied: matplotlib in /usr/local/lib/python3.10/dist-packages (from roboflow) (3.8.0)\n",
            "Requirement already satisfied: numpy>=1.18.5 in /usr/local/lib/python3.10/dist-packages (from roboflow) (1.26.4)\n",
            "Requirement already satisfied: opencv-python-headless==4.10.0.84 in /usr/local/lib/python3.10/dist-packages (from roboflow) (4.10.0.84)\n",
            "Requirement already satisfied: Pillow>=7.1.2 in /usr/local/lib/python3.10/dist-packages (from roboflow) (11.0.0)\n",
            "Requirement already satisfied: python-dateutil in /usr/local/lib/python3.10/dist-packages (from roboflow) (2.8.2)\n",
            "Requirement already satisfied: python-dotenv in /usr/local/lib/python3.10/dist-packages (from roboflow) (1.0.1)\n",
            "Requirement already satisfied: requests in /usr/local/lib/python3.10/dist-packages (from roboflow) (2.32.3)\n",
            "Requirement already satisfied: six in /usr/local/lib/python3.10/dist-packages (from roboflow) (1.16.0)\n",
            "Requirement already satisfied: urllib3>=1.26.6 in /usr/local/lib/python3.10/dist-packages (from roboflow) (2.2.3)\n",
            "Requirement already satisfied: tqdm>=4.41.0 in /usr/local/lib/python3.10/dist-packages (from roboflow) (4.66.6)\n",
            "Requirement already satisfied: PyYAML>=5.3.1 in /usr/local/lib/python3.10/dist-packages (from roboflow) (6.0.2)\n",
            "Requirement already satisfied: requests-toolbelt in /usr/local/lib/python3.10/dist-packages (from roboflow) (1.0.0)\n",
            "Requirement already satisfied: filetype in /usr/local/lib/python3.10/dist-packages (from roboflow) (1.2.0)\n",
            "Requirement already satisfied: contourpy>=1.0.1 in /usr/local/lib/python3.10/dist-packages (from matplotlib->roboflow) (1.3.1)\n",
            "Requirement already satisfied: fonttools>=4.22.0 in /usr/local/lib/python3.10/dist-packages (from matplotlib->roboflow) (4.55.0)\n",
            "Requirement already satisfied: packaging>=20.0 in /usr/local/lib/python3.10/dist-packages (from matplotlib->roboflow) (24.2)\n",
            "Requirement already satisfied: pyparsing>=2.3.1 in /usr/local/lib/python3.10/dist-packages (from matplotlib->roboflow) (3.2.0)\n",
            "Requirement already satisfied: charset-normalizer<4,>=2 in /usr/local/lib/python3.10/dist-packages (from requests->roboflow) (3.4.0)\n",
            "loading Roboflow workspace...\n",
            "loading Roboflow project...\n"
          ]
        },
        {
          "output_type": "stream",
          "name": "stderr",
          "text": [
            "Downloading Dataset Version Zip in Deteksi-Polisi-Tidur-1 to yolov8:: 100%|██████████| 86177/86177 [00:06<00:00, 13259.35it/s]"
          ]
        },
        {
          "output_type": "stream",
          "name": "stdout",
          "text": [
            "\n"
          ]
        },
        {
          "output_type": "stream",
          "name": "stderr",
          "text": [
            "\n",
            "Extracting Dataset Version Zip to Deteksi-Polisi-Tidur-1 in yolov8:: 100%|██████████| 2012/2012 [00:00<00:00, 4814.93it/s]\n"
          ]
        }
      ],
      "source": [
        "!pip install roboflow\n",
        "\n",
        "from roboflow import Roboflow\n",
        "rf = Roboflow(api_key=\"CS5LA1rnI9UW9X5BN2op\")\n",
        "project = rf.workspace(\"sca5a-kelompok-5-zus60\").project(\"deteksi-polisi-tidur\")\n",
        "version = project.version(1)\n",
        "dataset = version.download(\"yolov8\")\n",
        "\n"
      ]
    },
    {
      "cell_type": "markdown",
      "source": [
        "Installing the Ultralytics library to train the Yolo model"
      ],
      "metadata": {
        "id": "75cmEn2DXKtT"
      }
    },
    {
      "cell_type": "code",
      "execution_count": 4,
      "metadata": {
        "colab": {
          "base_uri": "https://localhost:8080/"
        },
        "id": "gKdf_R33k2ah",
        "outputId": "c375891b-86af-4da5-a83d-ce932ccb4dbc"
      },
      "outputs": [
        {
          "output_type": "stream",
          "name": "stdout",
          "text": [
            "Collecting ultralytics\n",
            "  Downloading ultralytics-8.3.37-py3-none-any.whl.metadata (35 kB)\n",
            "Requirement already satisfied: numpy>=1.23.0 in /usr/local/lib/python3.10/dist-packages (from ultralytics) (1.26.4)\n",
            "Requirement already satisfied: matplotlib>=3.3.0 in /usr/local/lib/python3.10/dist-packages (from ultralytics) (3.8.0)\n",
            "Requirement already satisfied: opencv-python>=4.6.0 in /usr/local/lib/python3.10/dist-packages (from ultralytics) (4.10.0.84)\n",
            "Requirement already satisfied: pillow>=7.1.2 in /usr/local/lib/python3.10/dist-packages (from ultralytics) (11.0.0)\n",
            "Requirement already satisfied: pyyaml>=5.3.1 in /usr/local/lib/python3.10/dist-packages (from ultralytics) (6.0.2)\n",
            "Requirement already satisfied: requests>=2.23.0 in /usr/local/lib/python3.10/dist-packages (from ultralytics) (2.32.3)\n",
            "Requirement already satisfied: scipy>=1.4.1 in /usr/local/lib/python3.10/dist-packages (from ultralytics) (1.13.1)\n",
            "Requirement already satisfied: torch>=1.8.0 in /usr/local/lib/python3.10/dist-packages (from ultralytics) (2.5.1+cu121)\n",
            "Requirement already satisfied: torchvision>=0.9.0 in /usr/local/lib/python3.10/dist-packages (from ultralytics) (0.20.1+cu121)\n",
            "Requirement already satisfied: tqdm>=4.64.0 in /usr/local/lib/python3.10/dist-packages (from ultralytics) (4.66.6)\n",
            "Requirement already satisfied: psutil in /usr/local/lib/python3.10/dist-packages (from ultralytics) (5.9.5)\n",
            "Requirement already satisfied: py-cpuinfo in /usr/local/lib/python3.10/dist-packages (from ultralytics) (9.0.0)\n",
            "Requirement already satisfied: pandas>=1.1.4 in /usr/local/lib/python3.10/dist-packages (from ultralytics) (2.2.2)\n",
            "Requirement already satisfied: seaborn>=0.11.0 in /usr/local/lib/python3.10/dist-packages (from ultralytics) (0.13.2)\n",
            "Collecting ultralytics-thop>=2.0.0 (from ultralytics)\n",
            "  Downloading ultralytics_thop-2.0.12-py3-none-any.whl.metadata (9.4 kB)\n",
            "Requirement already satisfied: contourpy>=1.0.1 in /usr/local/lib/python3.10/dist-packages (from matplotlib>=3.3.0->ultralytics) (1.3.1)\n",
            "Requirement already satisfied: cycler>=0.10 in /usr/local/lib/python3.10/dist-packages (from matplotlib>=3.3.0->ultralytics) (0.12.1)\n",
            "Requirement already satisfied: fonttools>=4.22.0 in /usr/local/lib/python3.10/dist-packages (from matplotlib>=3.3.0->ultralytics) (4.55.0)\n",
            "Requirement already satisfied: kiwisolver>=1.0.1 in /usr/local/lib/python3.10/dist-packages (from matplotlib>=3.3.0->ultralytics) (1.4.7)\n",
            "Requirement already satisfied: packaging>=20.0 in /usr/local/lib/python3.10/dist-packages (from matplotlib>=3.3.0->ultralytics) (24.2)\n",
            "Requirement already satisfied: pyparsing>=2.3.1 in /usr/local/lib/python3.10/dist-packages (from matplotlib>=3.3.0->ultralytics) (3.2.0)\n",
            "Requirement already satisfied: python-dateutil>=2.7 in /usr/local/lib/python3.10/dist-packages (from matplotlib>=3.3.0->ultralytics) (2.8.2)\n",
            "Requirement already satisfied: pytz>=2020.1 in /usr/local/lib/python3.10/dist-packages (from pandas>=1.1.4->ultralytics) (2024.2)\n",
            "Requirement already satisfied: tzdata>=2022.7 in /usr/local/lib/python3.10/dist-packages (from pandas>=1.1.4->ultralytics) (2024.2)\n",
            "Requirement already satisfied: charset-normalizer<4,>=2 in /usr/local/lib/python3.10/dist-packages (from requests>=2.23.0->ultralytics) (3.4.0)\n",
            "Requirement already satisfied: idna<4,>=2.5 in /usr/local/lib/python3.10/dist-packages (from requests>=2.23.0->ultralytics) (3.7)\n",
            "Requirement already satisfied: urllib3<3,>=1.21.1 in /usr/local/lib/python3.10/dist-packages (from requests>=2.23.0->ultralytics) (2.2.3)\n",
            "Requirement already satisfied: certifi>=2017.4.17 in /usr/local/lib/python3.10/dist-packages (from requests>=2.23.0->ultralytics) (2024.8.30)\n",
            "Requirement already satisfied: filelock in /usr/local/lib/python3.10/dist-packages (from torch>=1.8.0->ultralytics) (3.16.1)\n",
            "Requirement already satisfied: typing-extensions>=4.8.0 in /usr/local/lib/python3.10/dist-packages (from torch>=1.8.0->ultralytics) (4.12.2)\n",
            "Requirement already satisfied: networkx in /usr/local/lib/python3.10/dist-packages (from torch>=1.8.0->ultralytics) (3.4.2)\n",
            "Requirement already satisfied: jinja2 in /usr/local/lib/python3.10/dist-packages (from torch>=1.8.0->ultralytics) (3.1.4)\n",
            "Requirement already satisfied: fsspec in /usr/local/lib/python3.10/dist-packages (from torch>=1.8.0->ultralytics) (2024.10.0)\n",
            "Requirement already satisfied: sympy==1.13.1 in /usr/local/lib/python3.10/dist-packages (from torch>=1.8.0->ultralytics) (1.13.1)\n",
            "Requirement already satisfied: mpmath<1.4,>=1.1.0 in /usr/local/lib/python3.10/dist-packages (from sympy==1.13.1->torch>=1.8.0->ultralytics) (1.3.0)\n",
            "Requirement already satisfied: six>=1.5 in /usr/local/lib/python3.10/dist-packages (from python-dateutil>=2.7->matplotlib>=3.3.0->ultralytics) (1.16.0)\n",
            "Requirement already satisfied: MarkupSafe>=2.0 in /usr/local/lib/python3.10/dist-packages (from jinja2->torch>=1.8.0->ultralytics) (3.0.2)\n",
            "Downloading ultralytics-8.3.37-py3-none-any.whl (887 kB)\n",
            "\u001b[2K   \u001b[90m━━━━━━━━━━━━━━━━━━━━━━━━━━━━━━━━━━━━━━━━\u001b[0m \u001b[32m887.5/887.5 kB\u001b[0m \u001b[31m43.0 MB/s\u001b[0m eta \u001b[36m0:00:00\u001b[0m\n",
            "\u001b[?25hDownloading ultralytics_thop-2.0.12-py3-none-any.whl (26 kB)\n",
            "Installing collected packages: ultralytics-thop, ultralytics\n",
            "Successfully installed ultralytics-8.3.37 ultralytics-thop-2.0.12\n"
          ]
        }
      ],
      "source": [
        "!pip install ultralytics"
      ]
    },
    {
      "cell_type": "markdown",
      "source": [
        "(optional) Give drive access to google colab because sometimes the feature fails because it's still asking for access."
      ],
      "metadata": {
        "id": "p_f1Hk4LXfYs"
      }
    },
    {
      "cell_type": "code",
      "execution_count": null,
      "metadata": {
        "colab": {
          "base_uri": "https://localhost:8080/"
        },
        "id": "kDCx5LDplH2k",
        "outputId": "4ead41c1-5476-4b85-a4ab-f2c12b88f8b1"
      },
      "outputs": [
        {
          "name": "stdout",
          "output_type": "stream",
          "text": [
            "Mounted at /content/drive\n"
          ]
        }
      ],
      "source": [
        "from google.colab import drive\n",
        "drive.mount('/content/drive')"
      ]
    },
    {
      "cell_type": "markdown",
      "source": [
        "**important note**\n",
        "a recent update from yolo ultralytics will need WandDB API to train the model. click the link on the terminal (you will also need to create wandb) and copy the code and paste it in terminal.\n",
        "\n",
        "**optional notes**\n",
        "You don't need to prepare the yolov8n yaml and pt you just declare it in the YOLO and it will be automatically downlod the file. Train the yolo model using the pretrained model yolov8n.pt (you can use a better model like yolov8x, but it takes much more time and computation). you can also change the yolo version to another yolo version yolov11n.pt, and yolov11.yaml if you want.\n",
        "\n"
      ],
      "metadata": {
        "id": "JVk9tH3mY8K9"
      }
    },
    {
      "cell_type": "code",
      "execution_count": 5,
      "metadata": {
        "colab": {
          "base_uri": "https://localhost:8080/"
        },
        "id": "0FpXIqKC9Fyx",
        "outputId": "aaeade33-c6bd-448c-a2c8-1d46078a3133"
      },
      "outputs": [
        {
          "output_type": "stream",
          "name": "stdout",
          "text": [
            "Creating new Ultralytics Settings v0.0.6 file ✅ \n",
            "View Ultralytics Settings with 'yolo settings' or at '/root/.config/Ultralytics/settings.json'\n",
            "Update Settings with 'yolo settings key=value', i.e. 'yolo settings runs_dir=path/to/dir'. For help see https://docs.ultralytics.com/quickstart/#ultralytics-settings.\n",
            "Downloading https://github.com/ultralytics/assets/releases/download/v8.3.0/yolov8n.pt to 'yolov8n.pt'...\n"
          ]
        },
        {
          "output_type": "stream",
          "name": "stderr",
          "text": [
            "100%|██████████| 6.25M/6.25M [00:00<00:00, 306MB/s]\n"
          ]
        },
        {
          "output_type": "stream",
          "name": "stdout",
          "text": [
            "Transferred 355/355 items from pretrained weights\n",
            "Ultralytics 8.3.37 🚀 Python-3.10.12 torch-2.5.1+cu121 CUDA:0 (Tesla T4, 15102MiB)\n",
            "\u001b[34m\u001b[1mengine/trainer: \u001b[0mtask=detect, mode=train, model=yolov8n.yaml, data=/content/Deteksi-Polisi-Tidur-1/data.yaml, epochs=100, time=None, patience=100, batch=16, imgsz=640, save=True, save_period=-1, cache=False, device=None, workers=8, project=None, name=train, exist_ok=False, pretrained=yolov8n.pt, optimizer=auto, verbose=True, seed=0, deterministic=True, single_cls=False, rect=False, cos_lr=False, close_mosaic=10, resume=False, amp=True, fraction=1.0, profile=False, freeze=None, multi_scale=False, overlap_mask=True, mask_ratio=4, dropout=0.0, val=True, split=val, save_json=False, save_hybrid=False, conf=None, iou=0.7, max_det=300, half=False, dnn=False, plots=True, source=None, vid_stride=1, stream_buffer=False, visualize=False, augment=False, agnostic_nms=False, classes=None, retina_masks=False, embed=None, show=False, save_frames=False, save_txt=False, save_conf=False, save_crop=False, show_labels=True, show_conf=True, show_boxes=True, line_width=None, format=torchscript, keras=False, optimize=False, int8=False, dynamic=False, simplify=True, opset=None, workspace=None, nms=False, lr0=0.01, lrf=0.01, momentum=0.937, weight_decay=0.0005, warmup_epochs=3.0, warmup_momentum=0.8, warmup_bias_lr=0.1, box=7.5, cls=0.5, dfl=1.5, pose=12.0, kobj=1.0, label_smoothing=0.0, nbs=64, hsv_h=0.015, hsv_s=0.7, hsv_v=0.4, degrees=0.0, translate=0.1, scale=0.5, shear=0.0, perspective=0.0, flipud=0.0, fliplr=0.5, bgr=0.0, mosaic=1.0, mixup=0.0, copy_paste=0.0, copy_paste_mode=flip, auto_augment=randaugment, erasing=0.4, crop_fraction=1.0, cfg=None, tracker=botsort.yaml, save_dir=runs/detect/train\n",
            "Downloading https://ultralytics.com/assets/Arial.ttf to '/root/.config/Ultralytics/Arial.ttf'...\n"
          ]
        },
        {
          "output_type": "stream",
          "name": "stderr",
          "text": [
            "100%|██████████| 755k/755k [00:00<00:00, 102MB/s]\n"
          ]
        },
        {
          "output_type": "stream",
          "name": "stdout",
          "text": [
            "Overriding model.yaml nc=80 with nc=2\n",
            "\n",
            "                   from  n    params  module                                       arguments                     \n",
            "  0                  -1  1       464  ultralytics.nn.modules.conv.Conv             [3, 16, 3, 2]                 \n",
            "  1                  -1  1      4672  ultralytics.nn.modules.conv.Conv             [16, 32, 3, 2]                \n",
            "  2                  -1  1      7360  ultralytics.nn.modules.block.C2f             [32, 32, 1, True]             \n",
            "  3                  -1  1     18560  ultralytics.nn.modules.conv.Conv             [32, 64, 3, 2]                \n",
            "  4                  -1  2     49664  ultralytics.nn.modules.block.C2f             [64, 64, 2, True]             \n",
            "  5                  -1  1     73984  ultralytics.nn.modules.conv.Conv             [64, 128, 3, 2]               \n",
            "  6                  -1  2    197632  ultralytics.nn.modules.block.C2f             [128, 128, 2, True]           \n",
            "  7                  -1  1    295424  ultralytics.nn.modules.conv.Conv             [128, 256, 3, 2]              \n",
            "  8                  -1  1    460288  ultralytics.nn.modules.block.C2f             [256, 256, 1, True]           \n",
            "  9                  -1  1    164608  ultralytics.nn.modules.block.SPPF            [256, 256, 5]                 \n",
            " 10                  -1  1         0  torch.nn.modules.upsampling.Upsample         [None, 2, 'nearest']          \n",
            " 11             [-1, 6]  1         0  ultralytics.nn.modules.conv.Concat           [1]                           \n",
            " 12                  -1  1    148224  ultralytics.nn.modules.block.C2f             [384, 128, 1]                 \n",
            " 13                  -1  1         0  torch.nn.modules.upsampling.Upsample         [None, 2, 'nearest']          \n",
            " 14             [-1, 4]  1         0  ultralytics.nn.modules.conv.Concat           [1]                           \n",
            " 15                  -1  1     37248  ultralytics.nn.modules.block.C2f             [192, 64, 1]                  \n",
            " 16                  -1  1     36992  ultralytics.nn.modules.conv.Conv             [64, 64, 3, 2]                \n",
            " 17            [-1, 12]  1         0  ultralytics.nn.modules.conv.Concat           [1]                           \n",
            " 18                  -1  1    123648  ultralytics.nn.modules.block.C2f             [192, 128, 1]                 \n",
            " 19                  -1  1    147712  ultralytics.nn.modules.conv.Conv             [128, 128, 3, 2]              \n",
            " 20             [-1, 9]  1         0  ultralytics.nn.modules.conv.Concat           [1]                           \n",
            " 21                  -1  1    493056  ultralytics.nn.modules.block.C2f             [384, 256, 1]                 \n",
            " 22        [15, 18, 21]  1    751702  ultralytics.nn.modules.head.Detect           [2, [64, 128, 256]]           \n",
            "YOLOv8n summary: 225 layers, 3,011,238 parameters, 3,011,222 gradients, 8.2 GFLOPs\n",
            "\n",
            "Transferred 319/355 items from pretrained weights\n",
            "\u001b[34m\u001b[1mTensorBoard: \u001b[0mStart with 'tensorboard --logdir runs/detect/train', view at http://localhost:6006/\n",
            "Freezing layer 'model.22.dfl.conv.weight'\n",
            "\u001b[34m\u001b[1mAMP: \u001b[0mrunning Automatic Mixed Precision (AMP) checks...\n",
            "Downloading https://github.com/ultralytics/assets/releases/download/v8.3.0/yolo11n.pt to 'yolo11n.pt'...\n"
          ]
        },
        {
          "output_type": "stream",
          "name": "stderr",
          "text": [
            "100%|██████████| 5.35M/5.35M [00:00<00:00, 173MB/s]\n"
          ]
        },
        {
          "output_type": "stream",
          "name": "stdout",
          "text": [
            "\u001b[34m\u001b[1mAMP: \u001b[0mchecks passed ✅\n"
          ]
        },
        {
          "output_type": "stream",
          "name": "stderr",
          "text": [
            "\u001b[34m\u001b[1mtrain: \u001b[0mScanning /content/Deteksi-Polisi-Tidur-1/train/labels... 700 images, 0 backgrounds, 0 corrupt: 100%|██████████| 700/700 [00:00<00:00, 1782.77it/s]"
          ]
        },
        {
          "output_type": "stream",
          "name": "stdout",
          "text": [
            "\u001b[34m\u001b[1mtrain: \u001b[0mNew cache created: /content/Deteksi-Polisi-Tidur-1/train/labels.cache\n"
          ]
        },
        {
          "output_type": "stream",
          "name": "stderr",
          "text": [
            "\n"
          ]
        },
        {
          "output_type": "stream",
          "name": "stdout",
          "text": [
            "\u001b[34m\u001b[1malbumentations: \u001b[0mBlur(p=0.01, blur_limit=(3, 7)), MedianBlur(p=0.01, blur_limit=(3, 7)), ToGray(p=0.01, num_output_channels=3, method='weighted_average'), CLAHE(p=0.01, clip_limit=(1.0, 4.0), tile_grid_size=(8, 8))\n"
          ]
        },
        {
          "output_type": "stream",
          "name": "stderr",
          "text": [
            "A new version of Albumentations is available: 1.4.21 (you have 1.4.20). Upgrade using: pip install -U albumentations. To disable automatic update checks, set the environment variable NO_ALBUMENTATIONS_UPDATE to 1.\n",
            "\u001b[34m\u001b[1mval: \u001b[0mScanning /content/Deteksi-Polisi-Tidur-1/valid/labels... 201 images, 0 backgrounds, 0 corrupt: 100%|██████████| 201/201 [00:00<00:00, 963.16it/s] "
          ]
        },
        {
          "output_type": "stream",
          "name": "stdout",
          "text": [
            "\u001b[34m\u001b[1mval: \u001b[0mNew cache created: /content/Deteksi-Polisi-Tidur-1/valid/labels.cache\n"
          ]
        },
        {
          "output_type": "stream",
          "name": "stderr",
          "text": [
            "\n"
          ]
        },
        {
          "output_type": "stream",
          "name": "stdout",
          "text": [
            "Plotting labels to runs/detect/train/labels.jpg... \n",
            "\u001b[34m\u001b[1moptimizer:\u001b[0m 'optimizer=auto' found, ignoring 'lr0=0.01' and 'momentum=0.937' and determining best 'optimizer', 'lr0' and 'momentum' automatically... \n",
            "\u001b[34m\u001b[1moptimizer:\u001b[0m AdamW(lr=0.001667, momentum=0.9) with parameter groups 57 weight(decay=0.0), 64 weight(decay=0.0005), 63 bias(decay=0.0)\n",
            "\u001b[34m\u001b[1mTensorBoard: \u001b[0mmodel graph visualization added ✅\n",
            "Image sizes 640 train, 640 val\n",
            "Using 2 dataloader workers\n",
            "Logging results to \u001b[1mruns/detect/train\u001b[0m\n",
            "Starting training for 100 epochs...\n",
            "\n",
            "      Epoch    GPU_mem   box_loss   cls_loss   dfl_loss  Instances       Size\n"
          ]
        },
        {
          "output_type": "stream",
          "name": "stderr",
          "text": [
            "      1/100       2.2G      1.614      3.024        1.3         25        640: 100%|██████████| 44/44 [00:16<00:00,  2.63it/s]\n",
            "                 Class     Images  Instances      Box(P          R      mAP50  mAP50-95): 100%|██████████| 7/7 [00:04<00:00,  1.73it/s]"
          ]
        },
        {
          "output_type": "stream",
          "name": "stdout",
          "text": [
            "                   all        201        201    0.00265      0.752      0.344      0.169\n"
          ]
        },
        {
          "output_type": "stream",
          "name": "stderr",
          "text": [
            "\n"
          ]
        },
        {
          "output_type": "stream",
          "name": "stdout",
          "text": [
            "\n",
            "      Epoch    GPU_mem   box_loss   cls_loss   dfl_loss  Instances       Size\n"
          ]
        },
        {
          "output_type": "stream",
          "name": "stderr",
          "text": [
            "      2/100      2.14G      1.481      2.065      1.231         20        640: 100%|██████████| 44/44 [00:14<00:00,  2.93it/s]\n",
            "                 Class     Images  Instances      Box(P          R      mAP50  mAP50-95): 100%|██████████| 7/7 [00:02<00:00,  3.10it/s]"
          ]
        },
        {
          "output_type": "stream",
          "name": "stdout",
          "text": [
            "                   all        201        201      0.569      0.576      0.566      0.272\n"
          ]
        },
        {
          "output_type": "stream",
          "name": "stderr",
          "text": [
            "\n"
          ]
        },
        {
          "output_type": "stream",
          "name": "stdout",
          "text": [
            "\n",
            "      Epoch    GPU_mem   box_loss   cls_loss   dfl_loss  Instances       Size\n"
          ]
        },
        {
          "output_type": "stream",
          "name": "stderr",
          "text": [
            "      3/100      2.14G      1.483      1.916      1.199         22        640: 100%|██████████| 44/44 [00:15<00:00,  2.90it/s]\n",
            "                 Class     Images  Instances      Box(P          R      mAP50  mAP50-95): 100%|██████████| 7/7 [00:01<00:00,  3.61it/s]\n"
          ]
        },
        {
          "output_type": "stream",
          "name": "stdout",
          "text": [
            "                   all        201        201      0.526      0.609      0.522      0.247\n",
            "\n",
            "      Epoch    GPU_mem   box_loss   cls_loss   dfl_loss  Instances       Size\n"
          ]
        },
        {
          "output_type": "stream",
          "name": "stderr",
          "text": [
            "      4/100      2.15G      1.458      1.689      1.208         24        640: 100%|██████████| 44/44 [00:14<00:00,  3.05it/s]\n",
            "                 Class     Images  Instances      Box(P          R      mAP50  mAP50-95): 100%|██████████| 7/7 [00:01<00:00,  3.58it/s]\n"
          ]
        },
        {
          "output_type": "stream",
          "name": "stdout",
          "text": [
            "                   all        201        201      0.583      0.708       0.66      0.332\n",
            "\n",
            "      Epoch    GPU_mem   box_loss   cls_loss   dfl_loss  Instances       Size\n"
          ]
        },
        {
          "output_type": "stream",
          "name": "stderr",
          "text": [
            "      5/100      2.15G      1.413       1.49      1.163         19        640: 100%|██████████| 44/44 [00:14<00:00,  2.97it/s]\n",
            "                 Class     Images  Instances      Box(P          R      mAP50  mAP50-95): 100%|██████████| 7/7 [00:01<00:00,  3.73it/s]"
          ]
        },
        {
          "output_type": "stream",
          "name": "stdout",
          "text": [
            "                   all        201        201      0.688      0.839       0.86      0.431\n"
          ]
        },
        {
          "output_type": "stream",
          "name": "stderr",
          "text": [
            "\n"
          ]
        },
        {
          "output_type": "stream",
          "name": "stdout",
          "text": [
            "\n",
            "      Epoch    GPU_mem   box_loss   cls_loss   dfl_loss  Instances       Size\n"
          ]
        },
        {
          "output_type": "stream",
          "name": "stderr",
          "text": [
            "      6/100      2.15G      1.441       1.34      1.179         24        640: 100%|██████████| 44/44 [00:14<00:00,  3.02it/s]\n",
            "                 Class     Images  Instances      Box(P          R      mAP50  mAP50-95): 100%|██████████| 7/7 [00:01<00:00,  3.58it/s]"
          ]
        },
        {
          "output_type": "stream",
          "name": "stdout",
          "text": [
            "                   all        201        201       0.83      0.864      0.916      0.514\n"
          ]
        },
        {
          "output_type": "stream",
          "name": "stderr",
          "text": [
            "\n"
          ]
        },
        {
          "output_type": "stream",
          "name": "stdout",
          "text": [
            "\n",
            "      Epoch    GPU_mem   box_loss   cls_loss   dfl_loss  Instances       Size\n"
          ]
        },
        {
          "output_type": "stream",
          "name": "stderr",
          "text": [
            "      7/100      2.15G      1.333      1.226       1.14         18        640: 100%|██████████| 44/44 [00:15<00:00,  2.90it/s]\n",
            "                 Class     Images  Instances      Box(P          R      mAP50  mAP50-95): 100%|██████████| 7/7 [00:01<00:00,  3.69it/s]\n"
          ]
        },
        {
          "output_type": "stream",
          "name": "stdout",
          "text": [
            "                   all        201        201      0.814      0.899      0.901       0.52\n",
            "\n",
            "      Epoch    GPU_mem   box_loss   cls_loss   dfl_loss  Instances       Size\n"
          ]
        },
        {
          "output_type": "stream",
          "name": "stderr",
          "text": [
            "      8/100      2.15G      1.292      1.132      1.106         19        640: 100%|██████████| 44/44 [00:14<00:00,  3.09it/s]\n",
            "                 Class     Images  Instances      Box(P          R      mAP50  mAP50-95): 100%|██████████| 7/7 [00:01<00:00,  3.72it/s]"
          ]
        },
        {
          "output_type": "stream",
          "name": "stdout",
          "text": [
            "                   all        201        201        0.9      0.906      0.957      0.574\n"
          ]
        },
        {
          "output_type": "stream",
          "name": "stderr",
          "text": [
            "\n"
          ]
        },
        {
          "output_type": "stream",
          "name": "stdout",
          "text": [
            "\n",
            "      Epoch    GPU_mem   box_loss   cls_loss   dfl_loss  Instances       Size\n"
          ]
        },
        {
          "output_type": "stream",
          "name": "stderr",
          "text": [
            "      9/100      2.15G      1.262      1.071      1.109         17        640: 100%|██████████| 44/44 [00:14<00:00,  2.94it/s]\n",
            "                 Class     Images  Instances      Box(P          R      mAP50  mAP50-95): 100%|██████████| 7/7 [00:01<00:00,  3.68it/s]"
          ]
        },
        {
          "output_type": "stream",
          "name": "stdout",
          "text": [
            "                   all        201        201      0.861      0.866      0.927      0.558\n"
          ]
        },
        {
          "output_type": "stream",
          "name": "stderr",
          "text": [
            "\n"
          ]
        },
        {
          "output_type": "stream",
          "name": "stdout",
          "text": [
            "\n",
            "      Epoch    GPU_mem   box_loss   cls_loss   dfl_loss  Instances       Size\n"
          ]
        },
        {
          "output_type": "stream",
          "name": "stderr",
          "text": [
            "     10/100      2.15G      1.265      1.002      1.103         14        640: 100%|██████████| 44/44 [00:14<00:00,  3.07it/s]\n",
            "                 Class     Images  Instances      Box(P          R      mAP50  mAP50-95): 100%|██████████| 7/7 [00:01<00:00,  3.54it/s]"
          ]
        },
        {
          "output_type": "stream",
          "name": "stdout",
          "text": [
            "                   all        201        201      0.939      0.926      0.979      0.516\n"
          ]
        },
        {
          "output_type": "stream",
          "name": "stderr",
          "text": [
            "\n"
          ]
        },
        {
          "output_type": "stream",
          "name": "stdout",
          "text": [
            "\n",
            "      Epoch    GPU_mem   box_loss   cls_loss   dfl_loss  Instances       Size\n"
          ]
        },
        {
          "output_type": "stream",
          "name": "stderr",
          "text": [
            "     11/100      2.15G      1.328       1.01      1.108         19        640: 100%|██████████| 44/44 [00:14<00:00,  3.06it/s]\n",
            "                 Class     Images  Instances      Box(P          R      mAP50  mAP50-95): 100%|██████████| 7/7 [00:01<00:00,  3.66it/s]"
          ]
        },
        {
          "output_type": "stream",
          "name": "stdout",
          "text": [
            "                   all        201        201      0.941      0.849      0.939      0.595\n"
          ]
        },
        {
          "output_type": "stream",
          "name": "stderr",
          "text": [
            "\n"
          ]
        },
        {
          "output_type": "stream",
          "name": "stdout",
          "text": [
            "\n",
            "      Epoch    GPU_mem   box_loss   cls_loss   dfl_loss  Instances       Size\n"
          ]
        },
        {
          "output_type": "stream",
          "name": "stderr",
          "text": [
            "     12/100      2.15G      1.229     0.9372      1.093         22        640: 100%|██████████| 44/44 [00:14<00:00,  3.03it/s]\n",
            "                 Class     Images  Instances      Box(P          R      mAP50  mAP50-95): 100%|██████████| 7/7 [00:02<00:00,  3.40it/s]"
          ]
        },
        {
          "output_type": "stream",
          "name": "stdout",
          "text": [
            "                   all        201        201      0.943      0.945       0.99      0.599\n"
          ]
        },
        {
          "output_type": "stream",
          "name": "stderr",
          "text": [
            "\n"
          ]
        },
        {
          "output_type": "stream",
          "name": "stdout",
          "text": [
            "\n",
            "      Epoch    GPU_mem   box_loss   cls_loss   dfl_loss  Instances       Size\n"
          ]
        },
        {
          "output_type": "stream",
          "name": "stderr",
          "text": [
            "     13/100      2.15G      1.225      0.922      1.083         27        640: 100%|██████████| 44/44 [00:14<00:00,  2.98it/s]\n",
            "                 Class     Images  Instances      Box(P          R      mAP50  mAP50-95): 100%|██████████| 7/7 [00:01<00:00,  3.69it/s]"
          ]
        },
        {
          "output_type": "stream",
          "name": "stdout",
          "text": [
            "                   all        201        201      0.945      0.959      0.975      0.629\n"
          ]
        },
        {
          "output_type": "stream",
          "name": "stderr",
          "text": [
            "\n"
          ]
        },
        {
          "output_type": "stream",
          "name": "stdout",
          "text": [
            "\n",
            "      Epoch    GPU_mem   box_loss   cls_loss   dfl_loss  Instances       Size\n"
          ]
        },
        {
          "output_type": "stream",
          "name": "stderr",
          "text": [
            "     14/100      2.15G      1.225     0.9205      1.088         18        640: 100%|██████████| 44/44 [00:14<00:00,  3.03it/s]\n",
            "                 Class     Images  Instances      Box(P          R      mAP50  mAP50-95): 100%|██████████| 7/7 [00:02<00:00,  3.13it/s]"
          ]
        },
        {
          "output_type": "stream",
          "name": "stdout",
          "text": [
            "                   all        201        201        0.9      0.904      0.958      0.617\n"
          ]
        },
        {
          "output_type": "stream",
          "name": "stderr",
          "text": [
            "\n"
          ]
        },
        {
          "output_type": "stream",
          "name": "stdout",
          "text": [
            "\n",
            "      Epoch    GPU_mem   box_loss   cls_loss   dfl_loss  Instances       Size\n"
          ]
        },
        {
          "output_type": "stream",
          "name": "stderr",
          "text": [
            "     15/100      2.15G      1.169     0.8795      1.075         28        640: 100%|██████████| 44/44 [00:14<00:00,  3.14it/s]\n",
            "                 Class     Images  Instances      Box(P          R      mAP50  mAP50-95): 100%|██████████| 7/7 [00:02<00:00,  3.05it/s]"
          ]
        },
        {
          "output_type": "stream",
          "name": "stdout",
          "text": [
            "                   all        201        201      0.983      0.878      0.966      0.627\n"
          ]
        },
        {
          "output_type": "stream",
          "name": "stderr",
          "text": [
            "\n"
          ]
        },
        {
          "output_type": "stream",
          "name": "stdout",
          "text": [
            "\n",
            "      Epoch    GPU_mem   box_loss   cls_loss   dfl_loss  Instances       Size\n"
          ]
        },
        {
          "output_type": "stream",
          "name": "stderr",
          "text": [
            "     16/100      2.15G      1.149     0.8237      1.056         27        640: 100%|██████████| 44/44 [00:14<00:00,  3.02it/s]\n",
            "                 Class     Images  Instances      Box(P          R      mAP50  mAP50-95): 100%|██████████| 7/7 [00:02<00:00,  3.41it/s]"
          ]
        },
        {
          "output_type": "stream",
          "name": "stdout",
          "text": [
            "                   all        201        201      0.961      0.878      0.963      0.622\n"
          ]
        },
        {
          "output_type": "stream",
          "name": "stderr",
          "text": [
            "\n"
          ]
        },
        {
          "output_type": "stream",
          "name": "stdout",
          "text": [
            "\n",
            "      Epoch    GPU_mem   box_loss   cls_loss   dfl_loss  Instances       Size\n"
          ]
        },
        {
          "output_type": "stream",
          "name": "stderr",
          "text": [
            "     17/100      2.15G      1.184     0.8759      1.096         25        640: 100%|██████████| 44/44 [00:14<00:00,  3.13it/s]\n",
            "                 Class     Images  Instances      Box(P          R      mAP50  mAP50-95): 100%|██████████| 7/7 [00:02<00:00,  2.76it/s]"
          ]
        },
        {
          "output_type": "stream",
          "name": "stdout",
          "text": [
            "                   all        201        201       0.91      0.964      0.984      0.644\n"
          ]
        },
        {
          "output_type": "stream",
          "name": "stderr",
          "text": [
            "\n"
          ]
        },
        {
          "output_type": "stream",
          "name": "stdout",
          "text": [
            "\n",
            "      Epoch    GPU_mem   box_loss   cls_loss   dfl_loss  Instances       Size\n"
          ]
        },
        {
          "output_type": "stream",
          "name": "stderr",
          "text": [
            "     18/100      2.15G      1.182     0.8505      1.074         25        640: 100%|██████████| 44/44 [00:13<00:00,  3.25it/s]\n",
            "                 Class     Images  Instances      Box(P          R      mAP50  mAP50-95): 100%|██████████| 7/7 [00:02<00:00,  2.78it/s]"
          ]
        },
        {
          "output_type": "stream",
          "name": "stdout",
          "text": [
            "                   all        201        201      0.984      0.992      0.993      0.646\n"
          ]
        },
        {
          "output_type": "stream",
          "name": "stderr",
          "text": [
            "\n"
          ]
        },
        {
          "output_type": "stream",
          "name": "stdout",
          "text": [
            "\n",
            "      Epoch    GPU_mem   box_loss   cls_loss   dfl_loss  Instances       Size\n"
          ]
        },
        {
          "output_type": "stream",
          "name": "stderr",
          "text": [
            "     19/100      2.15G      1.169     0.8173      1.069         15        640: 100%|██████████| 44/44 [00:13<00:00,  3.24it/s]\n",
            "                 Class     Images  Instances      Box(P          R      mAP50  mAP50-95): 100%|██████████| 7/7 [00:02<00:00,  2.75it/s]"
          ]
        },
        {
          "output_type": "stream",
          "name": "stdout",
          "text": [
            "                   all        201        201      0.983      0.904      0.978      0.583\n"
          ]
        },
        {
          "output_type": "stream",
          "name": "stderr",
          "text": [
            "\n"
          ]
        },
        {
          "output_type": "stream",
          "name": "stdout",
          "text": [
            "\n",
            "      Epoch    GPU_mem   box_loss   cls_loss   dfl_loss  Instances       Size\n"
          ]
        },
        {
          "output_type": "stream",
          "name": "stderr",
          "text": [
            "     20/100      2.15G      1.153     0.8086      1.063         17        640: 100%|██████████| 44/44 [00:13<00:00,  3.21it/s]\n",
            "                 Class     Images  Instances      Box(P          R      mAP50  mAP50-95): 100%|██████████| 7/7 [00:02<00:00,  2.59it/s]"
          ]
        },
        {
          "output_type": "stream",
          "name": "stdout",
          "text": [
            "                   all        201        201      0.989          1      0.995      0.654\n"
          ]
        },
        {
          "output_type": "stream",
          "name": "stderr",
          "text": [
            "\n"
          ]
        },
        {
          "output_type": "stream",
          "name": "stdout",
          "text": [
            "\n",
            "      Epoch    GPU_mem   box_loss   cls_loss   dfl_loss  Instances       Size\n"
          ]
        },
        {
          "output_type": "stream",
          "name": "stderr",
          "text": [
            "     21/100      2.15G      1.128     0.8063      1.056         18        640: 100%|██████████| 44/44 [00:13<00:00,  3.34it/s]\n",
            "                 Class     Images  Instances      Box(P          R      mAP50  mAP50-95): 100%|██████████| 7/7 [00:02<00:00,  2.42it/s]"
          ]
        },
        {
          "output_type": "stream",
          "name": "stdout",
          "text": [
            "                   all        201        201      0.955      0.982      0.993      0.652\n"
          ]
        },
        {
          "output_type": "stream",
          "name": "stderr",
          "text": [
            "\n"
          ]
        },
        {
          "output_type": "stream",
          "name": "stdout",
          "text": [
            "\n",
            "      Epoch    GPU_mem   box_loss   cls_loss   dfl_loss  Instances       Size\n"
          ]
        },
        {
          "output_type": "stream",
          "name": "stderr",
          "text": [
            "     22/100      2.15G      1.137     0.7791      1.065         20        640: 100%|██████████| 44/44 [00:13<00:00,  3.27it/s]\n",
            "                 Class     Images  Instances      Box(P          R      mAP50  mAP50-95): 100%|██████████| 7/7 [00:03<00:00,  2.30it/s]"
          ]
        },
        {
          "output_type": "stream",
          "name": "stdout",
          "text": [
            "                   all        201        201      0.982          1      0.994      0.693\n"
          ]
        },
        {
          "output_type": "stream",
          "name": "stderr",
          "text": [
            "\n"
          ]
        },
        {
          "output_type": "stream",
          "name": "stdout",
          "text": [
            "\n",
            "      Epoch    GPU_mem   box_loss   cls_loss   dfl_loss  Instances       Size\n"
          ]
        },
        {
          "output_type": "stream",
          "name": "stderr",
          "text": [
            "     23/100      2.15G      1.115     0.7816      1.053         17        640: 100%|██████████| 44/44 [00:13<00:00,  3.35it/s]\n",
            "                 Class     Images  Instances      Box(P          R      mAP50  mAP50-95): 100%|██████████| 7/7 [00:03<00:00,  2.18it/s]"
          ]
        },
        {
          "output_type": "stream",
          "name": "stdout",
          "text": [
            "                   all        201        201       0.96      0.961      0.993      0.659\n"
          ]
        },
        {
          "output_type": "stream",
          "name": "stderr",
          "text": [
            "\n"
          ]
        },
        {
          "output_type": "stream",
          "name": "stdout",
          "text": [
            "\n",
            "      Epoch    GPU_mem   box_loss   cls_loss   dfl_loss  Instances       Size\n"
          ]
        },
        {
          "output_type": "stream",
          "name": "stderr",
          "text": [
            "     24/100      2.15G      1.124     0.7688      1.036         28        640: 100%|██████████| 44/44 [00:13<00:00,  3.37it/s]\n",
            "                 Class     Images  Instances      Box(P          R      mAP50  mAP50-95): 100%|██████████| 7/7 [00:03<00:00,  1.99it/s]"
          ]
        },
        {
          "output_type": "stream",
          "name": "stdout",
          "text": [
            "                   all        201        201      0.953      0.991      0.993       0.67\n"
          ]
        },
        {
          "output_type": "stream",
          "name": "stderr",
          "text": [
            "\n"
          ]
        },
        {
          "output_type": "stream",
          "name": "stdout",
          "text": [
            "\n",
            "      Epoch    GPU_mem   box_loss   cls_loss   dfl_loss  Instances       Size\n"
          ]
        },
        {
          "output_type": "stream",
          "name": "stderr",
          "text": [
            "     25/100      2.15G        1.1     0.7336      1.032         19        640: 100%|██████████| 44/44 [00:12<00:00,  3.55it/s]\n",
            "                 Class     Images  Instances      Box(P          R      mAP50  mAP50-95): 100%|██████████| 7/7 [00:03<00:00,  1.93it/s]"
          ]
        },
        {
          "output_type": "stream",
          "name": "stdout",
          "text": [
            "                   all        201        201      0.995      0.996      0.995      0.693\n"
          ]
        },
        {
          "output_type": "stream",
          "name": "stderr",
          "text": [
            "\n"
          ]
        },
        {
          "output_type": "stream",
          "name": "stdout",
          "text": [
            "\n",
            "      Epoch    GPU_mem   box_loss   cls_loss   dfl_loss  Instances       Size\n"
          ]
        },
        {
          "output_type": "stream",
          "name": "stderr",
          "text": [
            "     26/100      2.15G      1.054     0.7242      1.021         18        640: 100%|██████████| 44/44 [00:12<00:00,  3.64it/s]\n",
            "                 Class     Images  Instances      Box(P          R      mAP50  mAP50-95): 100%|██████████| 7/7 [00:03<00:00,  1.86it/s]"
          ]
        },
        {
          "output_type": "stream",
          "name": "stdout",
          "text": [
            "                   all        201        201      0.976          1      0.995      0.676\n"
          ]
        },
        {
          "output_type": "stream",
          "name": "stderr",
          "text": [
            "\n"
          ]
        },
        {
          "output_type": "stream",
          "name": "stdout",
          "text": [
            "\n",
            "      Epoch    GPU_mem   box_loss   cls_loss   dfl_loss  Instances       Size\n"
          ]
        },
        {
          "output_type": "stream",
          "name": "stderr",
          "text": [
            "     27/100      2.15G       1.08     0.7155      1.029         23        640: 100%|██████████| 44/44 [00:12<00:00,  3.60it/s]\n",
            "                 Class     Images  Instances      Box(P          R      mAP50  mAP50-95): 100%|██████████| 7/7 [00:03<00:00,  1.84it/s]"
          ]
        },
        {
          "output_type": "stream",
          "name": "stdout",
          "text": [
            "                   all        201        201       0.94      0.969      0.987      0.629\n"
          ]
        },
        {
          "output_type": "stream",
          "name": "stderr",
          "text": [
            "\n"
          ]
        },
        {
          "output_type": "stream",
          "name": "stdout",
          "text": [
            "\n",
            "      Epoch    GPU_mem   box_loss   cls_loss   dfl_loss  Instances       Size\n"
          ]
        },
        {
          "output_type": "stream",
          "name": "stderr",
          "text": [
            "     28/100      2.15G      1.079     0.7345      1.041         23        640: 100%|██████████| 44/44 [00:12<00:00,  3.60it/s]\n",
            "                 Class     Images  Instances      Box(P          R      mAP50  mAP50-95): 100%|██████████| 7/7 [00:03<00:00,  2.21it/s]"
          ]
        },
        {
          "output_type": "stream",
          "name": "stdout",
          "text": [
            "                   all        201        201      0.923      0.926      0.946      0.637\n"
          ]
        },
        {
          "output_type": "stream",
          "name": "stderr",
          "text": [
            "\n"
          ]
        },
        {
          "output_type": "stream",
          "name": "stdout",
          "text": [
            "\n",
            "      Epoch    GPU_mem   box_loss   cls_loss   dfl_loss  Instances       Size\n"
          ]
        },
        {
          "output_type": "stream",
          "name": "stderr",
          "text": [
            "     29/100      2.15G      1.085     0.7141      1.023         22        640: 100%|██████████| 44/44 [00:12<00:00,  3.56it/s]\n",
            "                 Class     Images  Instances      Box(P          R      mAP50  mAP50-95): 100%|██████████| 7/7 [00:03<00:00,  2.11it/s]"
          ]
        },
        {
          "output_type": "stream",
          "name": "stdout",
          "text": [
            "                   all        201        201      0.946      0.998      0.986      0.664\n"
          ]
        },
        {
          "output_type": "stream",
          "name": "stderr",
          "text": [
            "\n"
          ]
        },
        {
          "output_type": "stream",
          "name": "stdout",
          "text": [
            "\n",
            "      Epoch    GPU_mem   box_loss   cls_loss   dfl_loss  Instances       Size\n"
          ]
        },
        {
          "output_type": "stream",
          "name": "stderr",
          "text": [
            "     30/100      2.15G      1.077      0.737      1.038         26        640: 100%|██████████| 44/44 [00:12<00:00,  3.53it/s]\n",
            "                 Class     Images  Instances      Box(P          R      mAP50  mAP50-95): 100%|██████████| 7/7 [00:03<00:00,  2.29it/s]"
          ]
        },
        {
          "output_type": "stream",
          "name": "stdout",
          "text": [
            "                   all        201        201      0.819      0.893       0.95       0.65\n"
          ]
        },
        {
          "output_type": "stream",
          "name": "stderr",
          "text": [
            "\n"
          ]
        },
        {
          "output_type": "stream",
          "name": "stdout",
          "text": [
            "\n",
            "      Epoch    GPU_mem   box_loss   cls_loss   dfl_loss  Instances       Size\n"
          ]
        },
        {
          "output_type": "stream",
          "name": "stderr",
          "text": [
            "     31/100      2.15G      1.101       0.74      1.046         17        640: 100%|██████████| 44/44 [00:12<00:00,  3.59it/s]\n",
            "                 Class     Images  Instances      Box(P          R      mAP50  mAP50-95): 100%|██████████| 7/7 [00:02<00:00,  2.34it/s]"
          ]
        },
        {
          "output_type": "stream",
          "name": "stdout",
          "text": [
            "                   all        201        201      0.982          1      0.994      0.683\n"
          ]
        },
        {
          "output_type": "stream",
          "name": "stderr",
          "text": [
            "\n"
          ]
        },
        {
          "output_type": "stream",
          "name": "stdout",
          "text": [
            "\n",
            "      Epoch    GPU_mem   box_loss   cls_loss   dfl_loss  Instances       Size\n"
          ]
        },
        {
          "output_type": "stream",
          "name": "stderr",
          "text": [
            "     32/100      2.15G      1.048     0.6946      1.015         21        640: 100%|██████████| 44/44 [00:12<00:00,  3.56it/s]\n",
            "                 Class     Images  Instances      Box(P          R      mAP50  mAP50-95): 100%|██████████| 7/7 [00:03<00:00,  2.29it/s]"
          ]
        },
        {
          "output_type": "stream",
          "name": "stdout",
          "text": [
            "                   all        201        201      0.999          1      0.995      0.659\n"
          ]
        },
        {
          "output_type": "stream",
          "name": "stderr",
          "text": [
            "\n"
          ]
        },
        {
          "output_type": "stream",
          "name": "stdout",
          "text": [
            "\n",
            "      Epoch    GPU_mem   box_loss   cls_loss   dfl_loss  Instances       Size\n"
          ]
        },
        {
          "output_type": "stream",
          "name": "stderr",
          "text": [
            "     33/100      2.15G      1.043     0.6771       1.03         23        640: 100%|██████████| 44/44 [00:12<00:00,  3.48it/s]\n",
            "                 Class     Images  Instances      Box(P          R      mAP50  mAP50-95): 100%|██████████| 7/7 [00:02<00:00,  2.62it/s]"
          ]
        },
        {
          "output_type": "stream",
          "name": "stdout",
          "text": [
            "                   all        201        201      0.996          1      0.995      0.692\n"
          ]
        },
        {
          "output_type": "stream",
          "name": "stderr",
          "text": [
            "\n"
          ]
        },
        {
          "output_type": "stream",
          "name": "stdout",
          "text": [
            "\n",
            "      Epoch    GPU_mem   box_loss   cls_loss   dfl_loss  Instances       Size\n"
          ]
        },
        {
          "output_type": "stream",
          "name": "stderr",
          "text": [
            "     34/100      2.15G      1.059     0.6741      1.022         22        640: 100%|██████████| 44/44 [00:12<00:00,  3.40it/s]\n",
            "                 Class     Images  Instances      Box(P          R      mAP50  mAP50-95): 100%|██████████| 7/7 [00:02<00:00,  2.83it/s]"
          ]
        },
        {
          "output_type": "stream",
          "name": "stdout",
          "text": [
            "                   all        201        201      0.985          1      0.994      0.698\n"
          ]
        },
        {
          "output_type": "stream",
          "name": "stderr",
          "text": [
            "\n"
          ]
        },
        {
          "output_type": "stream",
          "name": "stdout",
          "text": [
            "\n",
            "      Epoch    GPU_mem   box_loss   cls_loss   dfl_loss  Instances       Size\n"
          ]
        },
        {
          "output_type": "stream",
          "name": "stderr",
          "text": [
            "     35/100      2.15G      1.053     0.6791      1.019         25        640: 100%|██████████| 44/44 [00:13<00:00,  3.30it/s]\n",
            "                 Class     Images  Instances      Box(P          R      mAP50  mAP50-95): 100%|██████████| 7/7 [00:02<00:00,  3.47it/s]"
          ]
        },
        {
          "output_type": "stream",
          "name": "stdout",
          "text": [
            "                   all        201        201      0.998          1      0.995      0.725\n"
          ]
        },
        {
          "output_type": "stream",
          "name": "stderr",
          "text": [
            "\n"
          ]
        },
        {
          "output_type": "stream",
          "name": "stdout",
          "text": [
            "\n",
            "      Epoch    GPU_mem   box_loss   cls_loss   dfl_loss  Instances       Size\n"
          ]
        },
        {
          "output_type": "stream",
          "name": "stderr",
          "text": [
            "     36/100      2.15G      1.047     0.6702      1.018         23        640: 100%|██████████| 44/44 [00:14<00:00,  3.12it/s]\n",
            "                 Class     Images  Instances      Box(P          R      mAP50  mAP50-95): 100%|██████████| 7/7 [00:01<00:00,  3.88it/s]"
          ]
        },
        {
          "output_type": "stream",
          "name": "stdout",
          "text": [
            "                   all        201        201      0.968      0.972      0.993      0.712\n"
          ]
        },
        {
          "output_type": "stream",
          "name": "stderr",
          "text": [
            "\n"
          ]
        },
        {
          "output_type": "stream",
          "name": "stdout",
          "text": [
            "\n",
            "      Epoch    GPU_mem   box_loss   cls_loss   dfl_loss  Instances       Size\n"
          ]
        },
        {
          "output_type": "stream",
          "name": "stderr",
          "text": [
            "     37/100      2.15G      1.035     0.6778      1.019         24        640: 100%|██████████| 44/44 [00:14<00:00,  3.07it/s]\n",
            "                 Class     Images  Instances      Box(P          R      mAP50  mAP50-95): 100%|██████████| 7/7 [00:01<00:00,  3.66it/s]"
          ]
        },
        {
          "output_type": "stream",
          "name": "stdout",
          "text": [
            "                   all        201        201      0.999      0.999      0.995      0.725\n"
          ]
        },
        {
          "output_type": "stream",
          "name": "stderr",
          "text": [
            "\n"
          ]
        },
        {
          "output_type": "stream",
          "name": "stdout",
          "text": [
            "\n",
            "      Epoch    GPU_mem   box_loss   cls_loss   dfl_loss  Instances       Size\n"
          ]
        },
        {
          "output_type": "stream",
          "name": "stderr",
          "text": [
            "     38/100      2.15G      1.063     0.6582      1.035         22        640: 100%|██████████| 44/44 [00:13<00:00,  3.23it/s]\n",
            "                 Class     Images  Instances      Box(P          R      mAP50  mAP50-95): 100%|██████████| 7/7 [00:02<00:00,  3.48it/s]\n"
          ]
        },
        {
          "output_type": "stream",
          "name": "stdout",
          "text": [
            "                   all        201        201      0.999      0.998      0.995      0.728\n",
            "\n",
            "      Epoch    GPU_mem   box_loss   cls_loss   dfl_loss  Instances       Size\n"
          ]
        },
        {
          "output_type": "stream",
          "name": "stderr",
          "text": [
            "     39/100      2.15G       1.01      0.653     0.9985         17        640: 100%|██████████| 44/44 [00:14<00:00,  3.11it/s]\n",
            "                 Class     Images  Instances      Box(P          R      mAP50  mAP50-95): 100%|██████████| 7/7 [00:01<00:00,  4.05it/s]"
          ]
        },
        {
          "output_type": "stream",
          "name": "stdout",
          "text": [
            "                   all        201        201      0.964          1      0.995       0.71\n"
          ]
        },
        {
          "output_type": "stream",
          "name": "stderr",
          "text": [
            "\n"
          ]
        },
        {
          "output_type": "stream",
          "name": "stdout",
          "text": [
            "\n",
            "      Epoch    GPU_mem   box_loss   cls_loss   dfl_loss  Instances       Size\n"
          ]
        },
        {
          "output_type": "stream",
          "name": "stderr",
          "text": [
            "     40/100      2.15G      1.037      0.642       1.01         21        640: 100%|██████████| 44/44 [00:14<00:00,  3.06it/s]\n",
            "                 Class     Images  Instances      Box(P          R      mAP50  mAP50-95): 100%|██████████| 7/7 [00:01<00:00,  3.69it/s]"
          ]
        },
        {
          "output_type": "stream",
          "name": "stdout",
          "text": [
            "                   all        201        201      0.996          1      0.995      0.721\n"
          ]
        },
        {
          "output_type": "stream",
          "name": "stderr",
          "text": [
            "\n"
          ]
        },
        {
          "output_type": "stream",
          "name": "stdout",
          "text": [
            "\n",
            "      Epoch    GPU_mem   box_loss   cls_loss   dfl_loss  Instances       Size\n"
          ]
        },
        {
          "output_type": "stream",
          "name": "stderr",
          "text": [
            "     41/100      2.15G     0.9721     0.6183     0.9891         16        640: 100%|██████████| 44/44 [00:14<00:00,  3.01it/s]\n",
            "                 Class     Images  Instances      Box(P          R      mAP50  mAP50-95): 100%|██████████| 7/7 [00:01<00:00,  4.00it/s]"
          ]
        },
        {
          "output_type": "stream",
          "name": "stdout",
          "text": [
            "                   all        201        201      0.997      0.991      0.995      0.702\n"
          ]
        },
        {
          "output_type": "stream",
          "name": "stderr",
          "text": [
            "\n"
          ]
        },
        {
          "output_type": "stream",
          "name": "stdout",
          "text": [
            "\n",
            "      Epoch    GPU_mem   box_loss   cls_loss   dfl_loss  Instances       Size\n"
          ]
        },
        {
          "output_type": "stream",
          "name": "stderr",
          "text": [
            "     42/100      2.15G     0.9834     0.6405     0.9935         17        640: 100%|██████████| 44/44 [00:14<00:00,  2.95it/s]\n",
            "                 Class     Images  Instances      Box(P          R      mAP50  mAP50-95): 100%|██████████| 7/7 [00:01<00:00,  3.67it/s]"
          ]
        },
        {
          "output_type": "stream",
          "name": "stdout",
          "text": [
            "                   all        201        201      0.991      0.991      0.995       0.74\n"
          ]
        },
        {
          "output_type": "stream",
          "name": "stderr",
          "text": [
            "\n"
          ]
        },
        {
          "output_type": "stream",
          "name": "stdout",
          "text": [
            "\n",
            "      Epoch    GPU_mem   box_loss   cls_loss   dfl_loss  Instances       Size\n"
          ]
        },
        {
          "output_type": "stream",
          "name": "stderr",
          "text": [
            "     43/100      2.15G      1.005     0.6299     0.9978         22        640: 100%|██████████| 44/44 [00:14<00:00,  2.99it/s]\n",
            "                 Class     Images  Instances      Box(P          R      mAP50  mAP50-95): 100%|██████████| 7/7 [00:01<00:00,  3.59it/s]"
          ]
        },
        {
          "output_type": "stream",
          "name": "stdout",
          "text": [
            "                   all        201        201      0.991      0.991      0.995      0.723\n"
          ]
        },
        {
          "output_type": "stream",
          "name": "stderr",
          "text": [
            "\n"
          ]
        },
        {
          "output_type": "stream",
          "name": "stdout",
          "text": [
            "\n",
            "      Epoch    GPU_mem   box_loss   cls_loss   dfl_loss  Instances       Size\n"
          ]
        },
        {
          "output_type": "stream",
          "name": "stderr",
          "text": [
            "     44/100      2.15G          1     0.6284      1.013         19        640: 100%|██████████| 44/44 [00:14<00:00,  2.96it/s]\n",
            "                 Class     Images  Instances      Box(P          R      mAP50  mAP50-95): 100%|██████████| 7/7 [00:01<00:00,  3.87it/s]"
          ]
        },
        {
          "output_type": "stream",
          "name": "stdout",
          "text": [
            "                   all        201        201      0.985      0.999      0.995      0.727\n"
          ]
        },
        {
          "output_type": "stream",
          "name": "stderr",
          "text": [
            "\n"
          ]
        },
        {
          "output_type": "stream",
          "name": "stdout",
          "text": [
            "\n",
            "      Epoch    GPU_mem   box_loss   cls_loss   dfl_loss  Instances       Size\n"
          ]
        },
        {
          "output_type": "stream",
          "name": "stderr",
          "text": [
            "     45/100      2.15G      1.001     0.6426      1.015         19        640: 100%|██████████| 44/44 [00:14<00:00,  3.05it/s]\n",
            "                 Class     Images  Instances      Box(P          R      mAP50  mAP50-95): 100%|██████████| 7/7 [00:01<00:00,  3.76it/s]"
          ]
        },
        {
          "output_type": "stream",
          "name": "stdout",
          "text": [
            "                   all        201        201      0.994          1      0.995      0.734\n"
          ]
        },
        {
          "output_type": "stream",
          "name": "stderr",
          "text": [
            "\n"
          ]
        },
        {
          "output_type": "stream",
          "name": "stdout",
          "text": [
            "\n",
            "      Epoch    GPU_mem   box_loss   cls_loss   dfl_loss  Instances       Size\n"
          ]
        },
        {
          "output_type": "stream",
          "name": "stderr",
          "text": [
            "     46/100      2.15G     0.9941     0.6286      1.002         22        640: 100%|██████████| 44/44 [00:14<00:00,  3.08it/s]\n",
            "                 Class     Images  Instances      Box(P          R      mAP50  mAP50-95): 100%|██████████| 7/7 [00:01<00:00,  3.70it/s]"
          ]
        },
        {
          "output_type": "stream",
          "name": "stdout",
          "text": [
            "                   all        201        201      0.995      0.981      0.995      0.729\n"
          ]
        },
        {
          "output_type": "stream",
          "name": "stderr",
          "text": [
            "\n"
          ]
        },
        {
          "output_type": "stream",
          "name": "stdout",
          "text": [
            "\n",
            "      Epoch    GPU_mem   box_loss   cls_loss   dfl_loss  Instances       Size\n"
          ]
        },
        {
          "output_type": "stream",
          "name": "stderr",
          "text": [
            "     47/100      2.15G     0.9695     0.6014      1.006         15        640: 100%|██████████| 44/44 [00:14<00:00,  2.98it/s]\n",
            "                 Class     Images  Instances      Box(P          R      mAP50  mAP50-95): 100%|██████████| 7/7 [00:01<00:00,  3.56it/s]"
          ]
        },
        {
          "output_type": "stream",
          "name": "stdout",
          "text": [
            "                   all        201        201      0.997          1      0.995      0.715\n"
          ]
        },
        {
          "output_type": "stream",
          "name": "stderr",
          "text": [
            "\n"
          ]
        },
        {
          "output_type": "stream",
          "name": "stdout",
          "text": [
            "\n",
            "      Epoch    GPU_mem   box_loss   cls_loss   dfl_loss  Instances       Size\n"
          ]
        },
        {
          "output_type": "stream",
          "name": "stderr",
          "text": [
            "     48/100      2.15G     0.9721     0.5937     0.9942         19        640: 100%|██████████| 44/44 [00:14<00:00,  2.96it/s]\n",
            "                 Class     Images  Instances      Box(P          R      mAP50  mAP50-95): 100%|██████████| 7/7 [00:01<00:00,  3.96it/s]"
          ]
        },
        {
          "output_type": "stream",
          "name": "stdout",
          "text": [
            "                   all        201        201      0.999      0.999      0.995      0.719\n"
          ]
        },
        {
          "output_type": "stream",
          "name": "stderr",
          "text": [
            "\n"
          ]
        },
        {
          "output_type": "stream",
          "name": "stdout",
          "text": [
            "\n",
            "      Epoch    GPU_mem   box_loss   cls_loss   dfl_loss  Instances       Size\n"
          ]
        },
        {
          "output_type": "stream",
          "name": "stderr",
          "text": [
            "     49/100      2.15G     0.9663     0.6128     0.9969         27        640: 100%|██████████| 44/44 [00:14<00:00,  2.97it/s]\n",
            "                 Class     Images  Instances      Box(P          R      mAP50  mAP50-95): 100%|██████████| 7/7 [00:01<00:00,  3.76it/s]"
          ]
        },
        {
          "output_type": "stream",
          "name": "stdout",
          "text": [
            "                   all        201        201      0.996      0.999      0.995      0.751\n"
          ]
        },
        {
          "output_type": "stream",
          "name": "stderr",
          "text": [
            "\n"
          ]
        },
        {
          "output_type": "stream",
          "name": "stdout",
          "text": [
            "\n",
            "      Epoch    GPU_mem   box_loss   cls_loss   dfl_loss  Instances       Size\n"
          ]
        },
        {
          "output_type": "stream",
          "name": "stderr",
          "text": [
            "     50/100      2.15G      0.965     0.5938      0.999         20        640: 100%|██████████| 44/44 [00:14<00:00,  2.99it/s]\n",
            "                 Class     Images  Instances      Box(P          R      mAP50  mAP50-95): 100%|██████████| 7/7 [00:01<00:00,  3.57it/s]"
          ]
        },
        {
          "output_type": "stream",
          "name": "stdout",
          "text": [
            "                   all        201        201      0.999          1      0.995      0.739\n"
          ]
        },
        {
          "output_type": "stream",
          "name": "stderr",
          "text": [
            "\n"
          ]
        },
        {
          "output_type": "stream",
          "name": "stdout",
          "text": [
            "\n",
            "      Epoch    GPU_mem   box_loss   cls_loss   dfl_loss  Instances       Size\n"
          ]
        },
        {
          "output_type": "stream",
          "name": "stderr",
          "text": [
            "     51/100      2.15G     0.9296     0.5925     0.9734         22        640: 100%|██████████| 44/44 [00:14<00:00,  2.96it/s]\n",
            "                 Class     Images  Instances      Box(P          R      mAP50  mAP50-95): 100%|██████████| 7/7 [00:01<00:00,  3.77it/s]"
          ]
        },
        {
          "output_type": "stream",
          "name": "stdout",
          "text": [
            "                   all        201        201      0.989      0.999      0.995      0.695\n"
          ]
        },
        {
          "output_type": "stream",
          "name": "stderr",
          "text": [
            "\n"
          ]
        },
        {
          "output_type": "stream",
          "name": "stdout",
          "text": [
            "\n",
            "      Epoch    GPU_mem   box_loss   cls_loss   dfl_loss  Instances       Size\n"
          ]
        },
        {
          "output_type": "stream",
          "name": "stderr",
          "text": [
            "     52/100      2.15G     0.9804     0.5853      0.983         23        640: 100%|██████████| 44/44 [00:14<00:00,  3.11it/s]\n",
            "                 Class     Images  Instances      Box(P          R      mAP50  mAP50-95): 100%|██████████| 7/7 [00:01<00:00,  3.77it/s]"
          ]
        },
        {
          "output_type": "stream",
          "name": "stdout",
          "text": [
            "                   all        201        201      0.999          1      0.995      0.714\n"
          ]
        },
        {
          "output_type": "stream",
          "name": "stderr",
          "text": [
            "\n"
          ]
        },
        {
          "output_type": "stream",
          "name": "stdout",
          "text": [
            "\n",
            "      Epoch    GPU_mem   box_loss   cls_loss   dfl_loss  Instances       Size\n"
          ]
        },
        {
          "output_type": "stream",
          "name": "stderr",
          "text": [
            "     53/100      2.15G     0.9464     0.5839     0.9849         31        640: 100%|██████████| 44/44 [00:14<00:00,  3.11it/s]\n",
            "                 Class     Images  Instances      Box(P          R      mAP50  mAP50-95): 100%|██████████| 7/7 [00:01<00:00,  3.82it/s]"
          ]
        },
        {
          "output_type": "stream",
          "name": "stdout",
          "text": [
            "                   all        201        201      0.999          1      0.995      0.741\n"
          ]
        },
        {
          "output_type": "stream",
          "name": "stderr",
          "text": [
            "\n"
          ]
        },
        {
          "output_type": "stream",
          "name": "stdout",
          "text": [
            "\n",
            "      Epoch    GPU_mem   box_loss   cls_loss   dfl_loss  Instances       Size\n"
          ]
        },
        {
          "output_type": "stream",
          "name": "stderr",
          "text": [
            "     54/100      2.15G     0.9564     0.5856     0.9967         27        640: 100%|██████████| 44/44 [00:14<00:00,  2.98it/s]\n",
            "                 Class     Images  Instances      Box(P          R      mAP50  mAP50-95): 100%|██████████| 7/7 [00:01<00:00,  4.00it/s]"
          ]
        },
        {
          "output_type": "stream",
          "name": "stdout",
          "text": [
            "                   all        201        201      0.988          1      0.994      0.745\n"
          ]
        },
        {
          "output_type": "stream",
          "name": "stderr",
          "text": [
            "\n"
          ]
        },
        {
          "output_type": "stream",
          "name": "stdout",
          "text": [
            "\n",
            "      Epoch    GPU_mem   box_loss   cls_loss   dfl_loss  Instances       Size\n"
          ]
        },
        {
          "output_type": "stream",
          "name": "stderr",
          "text": [
            "     55/100      2.15G     0.9305      0.571     0.9715         21        640: 100%|██████████| 44/44 [00:14<00:00,  3.04it/s]\n",
            "                 Class     Images  Instances      Box(P          R      mAP50  mAP50-95): 100%|██████████| 7/7 [00:02<00:00,  3.49it/s]"
          ]
        },
        {
          "output_type": "stream",
          "name": "stdout",
          "text": [
            "                   all        201        201      0.995          1      0.995      0.756\n"
          ]
        },
        {
          "output_type": "stream",
          "name": "stderr",
          "text": [
            "\n"
          ]
        },
        {
          "output_type": "stream",
          "name": "stdout",
          "text": [
            "\n",
            "      Epoch    GPU_mem   box_loss   cls_loss   dfl_loss  Instances       Size\n"
          ]
        },
        {
          "output_type": "stream",
          "name": "stderr",
          "text": [
            "     56/100      2.15G     0.9056     0.5656     0.9753         22        640: 100%|██████████| 44/44 [00:13<00:00,  3.15it/s]\n",
            "                 Class     Images  Instances      Box(P          R      mAP50  mAP50-95): 100%|██████████| 7/7 [00:01<00:00,  3.51it/s]"
          ]
        },
        {
          "output_type": "stream",
          "name": "stdout",
          "text": [
            "                   all        201        201      0.999          1      0.995       0.78\n"
          ]
        },
        {
          "output_type": "stream",
          "name": "stderr",
          "text": [
            "\n"
          ]
        },
        {
          "output_type": "stream",
          "name": "stdout",
          "text": [
            "\n",
            "      Epoch    GPU_mem   box_loss   cls_loss   dfl_loss  Instances       Size\n"
          ]
        },
        {
          "output_type": "stream",
          "name": "stderr",
          "text": [
            "     57/100      2.15G     0.9327     0.5739     0.9898         23        640: 100%|██████████| 44/44 [00:14<00:00,  3.03it/s]\n",
            "                 Class     Images  Instances      Box(P          R      mAP50  mAP50-95): 100%|██████████| 7/7 [00:01<00:00,  3.81it/s]"
          ]
        },
        {
          "output_type": "stream",
          "name": "stdout",
          "text": [
            "                   all        201        201      0.995          1      0.995      0.745\n"
          ]
        },
        {
          "output_type": "stream",
          "name": "stderr",
          "text": [
            "\n"
          ]
        },
        {
          "output_type": "stream",
          "name": "stdout",
          "text": [
            "\n",
            "      Epoch    GPU_mem   box_loss   cls_loss   dfl_loss  Instances       Size\n"
          ]
        },
        {
          "output_type": "stream",
          "name": "stderr",
          "text": [
            "     58/100      2.15G     0.9218     0.5836     0.9754         27        640: 100%|██████████| 44/44 [00:14<00:00,  3.04it/s]\n",
            "                 Class     Images  Instances      Box(P          R      mAP50  mAP50-95): 100%|██████████| 7/7 [00:01<00:00,  3.87it/s]"
          ]
        },
        {
          "output_type": "stream",
          "name": "stdout",
          "text": [
            "                   all        201        201      0.996          1      0.995      0.737\n"
          ]
        },
        {
          "output_type": "stream",
          "name": "stderr",
          "text": [
            "\n"
          ]
        },
        {
          "output_type": "stream",
          "name": "stdout",
          "text": [
            "\n",
            "      Epoch    GPU_mem   box_loss   cls_loss   dfl_loss  Instances       Size\n"
          ]
        },
        {
          "output_type": "stream",
          "name": "stderr",
          "text": [
            "     59/100      2.15G     0.9589     0.5742     0.9835         17        640: 100%|██████████| 44/44 [00:14<00:00,  3.05it/s]\n",
            "                 Class     Images  Instances      Box(P          R      mAP50  mAP50-95): 100%|██████████| 7/7 [00:01<00:00,  3.69it/s]"
          ]
        },
        {
          "output_type": "stream",
          "name": "stdout",
          "text": [
            "                   all        201        201      0.997          1      0.995      0.747\n"
          ]
        },
        {
          "output_type": "stream",
          "name": "stderr",
          "text": [
            "\n"
          ]
        },
        {
          "output_type": "stream",
          "name": "stdout",
          "text": [
            "\n",
            "      Epoch    GPU_mem   box_loss   cls_loss   dfl_loss  Instances       Size\n"
          ]
        },
        {
          "output_type": "stream",
          "name": "stderr",
          "text": [
            "     60/100      2.15G     0.9169     0.5644     0.9684         23        640: 100%|██████████| 44/44 [00:14<00:00,  3.04it/s]\n",
            "                 Class     Images  Instances      Box(P          R      mAP50  mAP50-95): 100%|██████████| 7/7 [00:01<00:00,  3.99it/s]"
          ]
        },
        {
          "output_type": "stream",
          "name": "stdout",
          "text": [
            "                   all        201        201      0.993          1      0.995      0.756\n"
          ]
        },
        {
          "output_type": "stream",
          "name": "stderr",
          "text": [
            "\n"
          ]
        },
        {
          "output_type": "stream",
          "name": "stdout",
          "text": [
            "\n",
            "      Epoch    GPU_mem   box_loss   cls_loss   dfl_loss  Instances       Size\n"
          ]
        },
        {
          "output_type": "stream",
          "name": "stderr",
          "text": [
            "     61/100      2.15G     0.9023     0.5402     0.9704         26        640: 100%|██████████| 44/44 [00:14<00:00,  3.07it/s]\n",
            "                 Class     Images  Instances      Box(P          R      mAP50  mAP50-95): 100%|██████████| 7/7 [00:01<00:00,  3.69it/s]"
          ]
        },
        {
          "output_type": "stream",
          "name": "stdout",
          "text": [
            "                   all        201        201      0.998          1      0.995      0.757\n"
          ]
        },
        {
          "output_type": "stream",
          "name": "stderr",
          "text": [
            "\n"
          ]
        },
        {
          "output_type": "stream",
          "name": "stdout",
          "text": [
            "\n",
            "      Epoch    GPU_mem   box_loss   cls_loss   dfl_loss  Instances       Size\n"
          ]
        },
        {
          "output_type": "stream",
          "name": "stderr",
          "text": [
            "     62/100      2.15G     0.8914     0.5424     0.9713         19        640: 100%|██████████| 44/44 [00:13<00:00,  3.14it/s]\n",
            "                 Class     Images  Instances      Box(P          R      mAP50  mAP50-95): 100%|██████████| 7/7 [00:01<00:00,  3.71it/s]"
          ]
        },
        {
          "output_type": "stream",
          "name": "stdout",
          "text": [
            "                   all        201        201      0.999          1      0.995       0.77\n"
          ]
        },
        {
          "output_type": "stream",
          "name": "stderr",
          "text": [
            "\n"
          ]
        },
        {
          "output_type": "stream",
          "name": "stdout",
          "text": [
            "\n",
            "      Epoch    GPU_mem   box_loss   cls_loss   dfl_loss  Instances       Size\n"
          ]
        },
        {
          "output_type": "stream",
          "name": "stderr",
          "text": [
            "     63/100      2.15G     0.9091     0.5611     0.9778         20        640: 100%|██████████| 44/44 [00:14<00:00,  3.05it/s]\n",
            "                 Class     Images  Instances      Box(P          R      mAP50  mAP50-95): 100%|██████████| 7/7 [00:01<00:00,  3.84it/s]"
          ]
        },
        {
          "output_type": "stream",
          "name": "stdout",
          "text": [
            "                   all        201        201      0.998          1      0.995      0.768\n"
          ]
        },
        {
          "output_type": "stream",
          "name": "stderr",
          "text": [
            "\n"
          ]
        },
        {
          "output_type": "stream",
          "name": "stdout",
          "text": [
            "\n",
            "      Epoch    GPU_mem   box_loss   cls_loss   dfl_loss  Instances       Size\n"
          ]
        },
        {
          "output_type": "stream",
          "name": "stderr",
          "text": [
            "     64/100      2.15G     0.8932     0.5495     0.9663         28        640: 100%|██████████| 44/44 [00:14<00:00,  3.07it/s]\n",
            "                 Class     Images  Instances      Box(P          R      mAP50  mAP50-95): 100%|██████████| 7/7 [00:01<00:00,  3.72it/s]"
          ]
        },
        {
          "output_type": "stream",
          "name": "stdout",
          "text": [
            "                   all        201        201      0.998          1      0.995      0.751\n"
          ]
        },
        {
          "output_type": "stream",
          "name": "stderr",
          "text": [
            "\n"
          ]
        },
        {
          "output_type": "stream",
          "name": "stdout",
          "text": [
            "\n",
            "      Epoch    GPU_mem   box_loss   cls_loss   dfl_loss  Instances       Size\n"
          ]
        },
        {
          "output_type": "stream",
          "name": "stderr",
          "text": [
            "     65/100      2.15G     0.8829     0.5395     0.9704         20        640: 100%|██████████| 44/44 [00:14<00:00,  2.95it/s]\n",
            "                 Class     Images  Instances      Box(P          R      mAP50  mAP50-95): 100%|██████████| 7/7 [00:01<00:00,  3.97it/s]"
          ]
        },
        {
          "output_type": "stream",
          "name": "stdout",
          "text": [
            "                   all        201        201      0.998          1      0.995      0.765\n"
          ]
        },
        {
          "output_type": "stream",
          "name": "stderr",
          "text": [
            "\n"
          ]
        },
        {
          "output_type": "stream",
          "name": "stdout",
          "text": [
            "\n",
            "      Epoch    GPU_mem   box_loss   cls_loss   dfl_loss  Instances       Size\n"
          ]
        },
        {
          "output_type": "stream",
          "name": "stderr",
          "text": [
            "     66/100      2.15G     0.8816     0.5335     0.9643         19        640: 100%|██████████| 44/44 [00:14<00:00,  3.02it/s]\n",
            "                 Class     Images  Instances      Box(P          R      mAP50  mAP50-95): 100%|██████████| 7/7 [00:01<00:00,  4.00it/s]"
          ]
        },
        {
          "output_type": "stream",
          "name": "stdout",
          "text": [
            "                   all        201        201      0.998          1      0.995      0.757\n"
          ]
        },
        {
          "output_type": "stream",
          "name": "stderr",
          "text": [
            "\n"
          ]
        },
        {
          "output_type": "stream",
          "name": "stdout",
          "text": [
            "\n",
            "      Epoch    GPU_mem   box_loss   cls_loss   dfl_loss  Instances       Size\n"
          ]
        },
        {
          "output_type": "stream",
          "name": "stderr",
          "text": [
            "     67/100      2.15G     0.9055     0.5412     0.9723         21        640: 100%|██████████| 44/44 [00:14<00:00,  2.96it/s]\n",
            "                 Class     Images  Instances      Box(P          R      mAP50  mAP50-95): 100%|██████████| 7/7 [00:01<00:00,  3.92it/s]"
          ]
        },
        {
          "output_type": "stream",
          "name": "stdout",
          "text": [
            "                   all        201        201      0.996          1      0.995      0.764\n"
          ]
        },
        {
          "output_type": "stream",
          "name": "stderr",
          "text": [
            "\n"
          ]
        },
        {
          "output_type": "stream",
          "name": "stdout",
          "text": [
            "\n",
            "      Epoch    GPU_mem   box_loss   cls_loss   dfl_loss  Instances       Size\n"
          ]
        },
        {
          "output_type": "stream",
          "name": "stderr",
          "text": [
            "     68/100      2.15G     0.8969     0.5405     0.9604         21        640: 100%|██████████| 44/44 [00:14<00:00,  3.12it/s]\n",
            "                 Class     Images  Instances      Box(P          R      mAP50  mAP50-95): 100%|██████████| 7/7 [00:01<00:00,  3.56it/s]"
          ]
        },
        {
          "output_type": "stream",
          "name": "stdout",
          "text": [
            "                   all        201        201      0.997          1      0.995      0.763\n"
          ]
        },
        {
          "output_type": "stream",
          "name": "stderr",
          "text": [
            "\n"
          ]
        },
        {
          "output_type": "stream",
          "name": "stdout",
          "text": [
            "\n",
            "      Epoch    GPU_mem   box_loss   cls_loss   dfl_loss  Instances       Size\n"
          ]
        },
        {
          "output_type": "stream",
          "name": "stderr",
          "text": [
            "     69/100      2.15G     0.8817     0.5369      0.976         21        640: 100%|██████████| 44/44 [00:14<00:00,  3.10it/s]\n",
            "                 Class     Images  Instances      Box(P          R      mAP50  mAP50-95): 100%|██████████| 7/7 [00:01<00:00,  3.71it/s]"
          ]
        },
        {
          "output_type": "stream",
          "name": "stdout",
          "text": [
            "                   all        201        201      0.998          1      0.995      0.771\n"
          ]
        },
        {
          "output_type": "stream",
          "name": "stderr",
          "text": [
            "\n"
          ]
        },
        {
          "output_type": "stream",
          "name": "stdout",
          "text": [
            "\n",
            "      Epoch    GPU_mem   box_loss   cls_loss   dfl_loss  Instances       Size\n"
          ]
        },
        {
          "output_type": "stream",
          "name": "stderr",
          "text": [
            "     70/100      2.15G     0.9091     0.5405     0.9784         24        640: 100%|██████████| 44/44 [00:14<00:00,  2.97it/s]\n",
            "                 Class     Images  Instances      Box(P          R      mAP50  mAP50-95): 100%|██████████| 7/7 [00:01<00:00,  3.97it/s]"
          ]
        },
        {
          "output_type": "stream",
          "name": "stdout",
          "text": [
            "                   all        201        201      0.999      0.998      0.995      0.779\n"
          ]
        },
        {
          "output_type": "stream",
          "name": "stderr",
          "text": [
            "\n"
          ]
        },
        {
          "output_type": "stream",
          "name": "stdout",
          "text": [
            "\n",
            "      Epoch    GPU_mem   box_loss   cls_loss   dfl_loss  Instances       Size\n"
          ]
        },
        {
          "output_type": "stream",
          "name": "stderr",
          "text": [
            "     71/100      2.15G     0.8614     0.5178     0.9681         19        640: 100%|██████████| 44/44 [00:14<00:00,  3.05it/s]\n",
            "                 Class     Images  Instances      Box(P          R      mAP50  mAP50-95): 100%|██████████| 7/7 [00:01<00:00,  3.56it/s]"
          ]
        },
        {
          "output_type": "stream",
          "name": "stdout",
          "text": [
            "                   all        201        201      0.996      0.991      0.995      0.769\n"
          ]
        },
        {
          "output_type": "stream",
          "name": "stderr",
          "text": [
            "\n"
          ]
        },
        {
          "output_type": "stream",
          "name": "stdout",
          "text": [
            "\n",
            "      Epoch    GPU_mem   box_loss   cls_loss   dfl_loss  Instances       Size\n"
          ]
        },
        {
          "output_type": "stream",
          "name": "stderr",
          "text": [
            "     72/100      2.15G     0.8892     0.5263     0.9745         22        640: 100%|██████████| 44/44 [00:14<00:00,  2.93it/s]\n",
            "                 Class     Images  Instances      Box(P          R      mAP50  mAP50-95): 100%|██████████| 7/7 [00:01<00:00,  4.02it/s]"
          ]
        },
        {
          "output_type": "stream",
          "name": "stdout",
          "text": [
            "                   all        201        201      0.999          1      0.995       0.77\n"
          ]
        },
        {
          "output_type": "stream",
          "name": "stderr",
          "text": [
            "\n"
          ]
        },
        {
          "output_type": "stream",
          "name": "stdout",
          "text": [
            "\n",
            "      Epoch    GPU_mem   box_loss   cls_loss   dfl_loss  Instances       Size\n"
          ]
        },
        {
          "output_type": "stream",
          "name": "stderr",
          "text": [
            "     73/100      2.15G     0.8927     0.5274      0.968         16        640: 100%|██████████| 44/44 [00:14<00:00,  2.97it/s]\n",
            "                 Class     Images  Instances      Box(P          R      mAP50  mAP50-95): 100%|██████████| 7/7 [00:01<00:00,  3.80it/s]"
          ]
        },
        {
          "output_type": "stream",
          "name": "stdout",
          "text": [
            "                   all        201        201      0.999      0.998      0.995      0.743\n"
          ]
        },
        {
          "output_type": "stream",
          "name": "stderr",
          "text": [
            "\n"
          ]
        },
        {
          "output_type": "stream",
          "name": "stdout",
          "text": [
            "\n",
            "      Epoch    GPU_mem   box_loss   cls_loss   dfl_loss  Instances       Size\n"
          ]
        },
        {
          "output_type": "stream",
          "name": "stderr",
          "text": [
            "     74/100      2.15G     0.8504     0.5206     0.9615         18        640: 100%|██████████| 44/44 [00:14<00:00,  3.06it/s]\n",
            "                 Class     Images  Instances      Box(P          R      mAP50  mAP50-95): 100%|██████████| 7/7 [00:01<00:00,  3.66it/s]"
          ]
        },
        {
          "output_type": "stream",
          "name": "stdout",
          "text": [
            "                   all        201        201      0.999          1      0.995      0.778\n"
          ]
        },
        {
          "output_type": "stream",
          "name": "stderr",
          "text": [
            "\n"
          ]
        },
        {
          "output_type": "stream",
          "name": "stdout",
          "text": [
            "\n",
            "      Epoch    GPU_mem   box_loss   cls_loss   dfl_loss  Instances       Size\n"
          ]
        },
        {
          "output_type": "stream",
          "name": "stderr",
          "text": [
            "     75/100      2.15G     0.8339     0.5099      0.951         24        640: 100%|██████████| 44/44 [00:14<00:00,  3.03it/s]\n",
            "                 Class     Images  Instances      Box(P          R      mAP50  mAP50-95): 100%|██████████| 7/7 [00:01<00:00,  3.54it/s]"
          ]
        },
        {
          "output_type": "stream",
          "name": "stdout",
          "text": [
            "                   all        201        201      0.999          1      0.995      0.787\n"
          ]
        },
        {
          "output_type": "stream",
          "name": "stderr",
          "text": [
            "\n"
          ]
        },
        {
          "output_type": "stream",
          "name": "stdout",
          "text": [
            "\n",
            "      Epoch    GPU_mem   box_loss   cls_loss   dfl_loss  Instances       Size\n"
          ]
        },
        {
          "output_type": "stream",
          "name": "stderr",
          "text": [
            "     76/100      2.15G     0.8534     0.5043      0.959         21        640: 100%|██████████| 44/44 [00:14<00:00,  3.03it/s]\n",
            "                 Class     Images  Instances      Box(P          R      mAP50  mAP50-95): 100%|██████████| 7/7 [00:01<00:00,  3.61it/s]"
          ]
        },
        {
          "output_type": "stream",
          "name": "stdout",
          "text": [
            "                   all        201        201      0.999          1      0.995      0.781\n"
          ]
        },
        {
          "output_type": "stream",
          "name": "stderr",
          "text": [
            "\n"
          ]
        },
        {
          "output_type": "stream",
          "name": "stdout",
          "text": [
            "\n",
            "      Epoch    GPU_mem   box_loss   cls_loss   dfl_loss  Instances       Size\n"
          ]
        },
        {
          "output_type": "stream",
          "name": "stderr",
          "text": [
            "     77/100      2.15G     0.8433     0.4893     0.9491         19        640: 100%|██████████| 44/44 [00:14<00:00,  3.07it/s]\n",
            "                 Class     Images  Instances      Box(P          R      mAP50  mAP50-95): 100%|██████████| 7/7 [00:02<00:00,  3.40it/s]"
          ]
        },
        {
          "output_type": "stream",
          "name": "stdout",
          "text": [
            "                   all        201        201      0.999          1      0.995      0.771\n"
          ]
        },
        {
          "output_type": "stream",
          "name": "stderr",
          "text": [
            "\n"
          ]
        },
        {
          "output_type": "stream",
          "name": "stdout",
          "text": [
            "\n",
            "      Epoch    GPU_mem   box_loss   cls_loss   dfl_loss  Instances       Size\n"
          ]
        },
        {
          "output_type": "stream",
          "name": "stderr",
          "text": [
            "     78/100      2.15G     0.8489     0.5035     0.9624         25        640: 100%|██████████| 44/44 [00:14<00:00,  3.09it/s]\n",
            "                 Class     Images  Instances      Box(P          R      mAP50  mAP50-95): 100%|██████████| 7/7 [00:02<00:00,  3.47it/s]"
          ]
        },
        {
          "output_type": "stream",
          "name": "stdout",
          "text": [
            "                   all        201        201      0.999          1      0.995      0.782\n"
          ]
        },
        {
          "output_type": "stream",
          "name": "stderr",
          "text": [
            "\n"
          ]
        },
        {
          "output_type": "stream",
          "name": "stdout",
          "text": [
            "\n",
            "      Epoch    GPU_mem   box_loss   cls_loss   dfl_loss  Instances       Size\n"
          ]
        },
        {
          "output_type": "stream",
          "name": "stderr",
          "text": [
            "     79/100      2.15G     0.8563     0.5044     0.9577         22        640: 100%|██████████| 44/44 [00:14<00:00,  2.96it/s]\n",
            "                 Class     Images  Instances      Box(P          R      mAP50  mAP50-95): 100%|██████████| 7/7 [00:02<00:00,  3.37it/s]"
          ]
        },
        {
          "output_type": "stream",
          "name": "stdout",
          "text": [
            "                   all        201        201      0.999          1      0.995      0.784\n"
          ]
        },
        {
          "output_type": "stream",
          "name": "stderr",
          "text": [
            "\n"
          ]
        },
        {
          "output_type": "stream",
          "name": "stdout",
          "text": [
            "\n",
            "      Epoch    GPU_mem   box_loss   cls_loss   dfl_loss  Instances       Size\n"
          ]
        },
        {
          "output_type": "stream",
          "name": "stderr",
          "text": [
            "     80/100      2.15G     0.8329     0.4911     0.9479         21        640: 100%|██████████| 44/44 [00:14<00:00,  3.00it/s]\n",
            "                 Class     Images  Instances      Box(P          R      mAP50  mAP50-95): 100%|██████████| 7/7 [00:02<00:00,  3.49it/s]"
          ]
        },
        {
          "output_type": "stream",
          "name": "stdout",
          "text": [
            "                   all        201        201      0.999          1      0.995      0.784\n"
          ]
        },
        {
          "output_type": "stream",
          "name": "stderr",
          "text": [
            "\n"
          ]
        },
        {
          "output_type": "stream",
          "name": "stdout",
          "text": [
            "\n",
            "      Epoch    GPU_mem   box_loss   cls_loss   dfl_loss  Instances       Size\n"
          ]
        },
        {
          "output_type": "stream",
          "name": "stderr",
          "text": [
            "     81/100      2.15G     0.8095     0.4854      0.946         19        640: 100%|██████████| 44/44 [00:14<00:00,  3.03it/s]\n",
            "                 Class     Images  Instances      Box(P          R      mAP50  mAP50-95): 100%|██████████| 7/7 [00:02<00:00,  2.92it/s]"
          ]
        },
        {
          "output_type": "stream",
          "name": "stdout",
          "text": [
            "                   all        201        201      0.999          1      0.995      0.784\n"
          ]
        },
        {
          "output_type": "stream",
          "name": "stderr",
          "text": [
            "\n"
          ]
        },
        {
          "output_type": "stream",
          "name": "stdout",
          "text": [
            "\n",
            "      Epoch    GPU_mem   box_loss   cls_loss   dfl_loss  Instances       Size\n"
          ]
        },
        {
          "output_type": "stream",
          "name": "stderr",
          "text": [
            "     82/100      2.15G     0.8224     0.4879     0.9386         23        640: 100%|██████████| 44/44 [00:14<00:00,  3.11it/s]\n",
            "                 Class     Images  Instances      Box(P          R      mAP50  mAP50-95): 100%|██████████| 7/7 [00:02<00:00,  2.54it/s]"
          ]
        },
        {
          "output_type": "stream",
          "name": "stdout",
          "text": [
            "                   all        201        201      0.999          1      0.995       0.76\n"
          ]
        },
        {
          "output_type": "stream",
          "name": "stderr",
          "text": [
            "\n"
          ]
        },
        {
          "output_type": "stream",
          "name": "stdout",
          "text": [
            "\n",
            "      Epoch    GPU_mem   box_loss   cls_loss   dfl_loss  Instances       Size\n"
          ]
        },
        {
          "output_type": "stream",
          "name": "stderr",
          "text": [
            "     83/100      2.15G     0.7992      0.476     0.9391         22        640: 100%|██████████| 44/44 [00:13<00:00,  3.18it/s]\n",
            "                 Class     Images  Instances      Box(P          R      mAP50  mAP50-95): 100%|██████████| 7/7 [00:02<00:00,  2.41it/s]"
          ]
        },
        {
          "output_type": "stream",
          "name": "stdout",
          "text": [
            "                   all        201        201      0.999          1      0.995      0.779\n"
          ]
        },
        {
          "output_type": "stream",
          "name": "stderr",
          "text": [
            "\n"
          ]
        },
        {
          "output_type": "stream",
          "name": "stdout",
          "text": [
            "\n",
            "      Epoch    GPU_mem   box_loss   cls_loss   dfl_loss  Instances       Size\n"
          ]
        },
        {
          "output_type": "stream",
          "name": "stderr",
          "text": [
            "     84/100      2.15G     0.8243     0.4832     0.9445         20        640: 100%|██████████| 44/44 [00:13<00:00,  3.29it/s]\n",
            "                 Class     Images  Instances      Box(P          R      mAP50  mAP50-95): 100%|██████████| 7/7 [00:02<00:00,  2.73it/s]"
          ]
        },
        {
          "output_type": "stream",
          "name": "stdout",
          "text": [
            "                   all        201        201      0.999          1      0.995      0.783\n"
          ]
        },
        {
          "output_type": "stream",
          "name": "stderr",
          "text": [
            "\n"
          ]
        },
        {
          "output_type": "stream",
          "name": "stdout",
          "text": [
            "\n",
            "      Epoch    GPU_mem   box_loss   cls_loss   dfl_loss  Instances       Size\n"
          ]
        },
        {
          "output_type": "stream",
          "name": "stderr",
          "text": [
            "     85/100      2.15G     0.8139     0.4911     0.9497         20        640: 100%|██████████| 44/44 [00:14<00:00,  3.14it/s]\n",
            "                 Class     Images  Instances      Box(P          R      mAP50  mAP50-95): 100%|██████████| 7/7 [00:02<00:00,  2.90it/s]"
          ]
        },
        {
          "output_type": "stream",
          "name": "stdout",
          "text": [
            "                   all        201        201      0.999          1      0.995      0.794\n"
          ]
        },
        {
          "output_type": "stream",
          "name": "stderr",
          "text": [
            "\n"
          ]
        },
        {
          "output_type": "stream",
          "name": "stdout",
          "text": [
            "\n",
            "      Epoch    GPU_mem   box_loss   cls_loss   dfl_loss  Instances       Size\n"
          ]
        },
        {
          "output_type": "stream",
          "name": "stderr",
          "text": [
            "     86/100      2.15G     0.8291     0.4811     0.9372         20        640: 100%|██████████| 44/44 [00:14<00:00,  3.09it/s]\n",
            "                 Class     Images  Instances      Box(P          R      mAP50  mAP50-95): 100%|██████████| 7/7 [00:02<00:00,  3.11it/s]"
          ]
        },
        {
          "output_type": "stream",
          "name": "stdout",
          "text": [
            "                   all        201        201      0.999          1      0.995      0.794\n"
          ]
        },
        {
          "output_type": "stream",
          "name": "stderr",
          "text": [
            "\n"
          ]
        },
        {
          "output_type": "stream",
          "name": "stdout",
          "text": [
            "\n",
            "      Epoch    GPU_mem   box_loss   cls_loss   dfl_loss  Instances       Size\n"
          ]
        },
        {
          "output_type": "stream",
          "name": "stderr",
          "text": [
            "     87/100      2.15G     0.8105     0.4822     0.9456         25        640: 100%|██████████| 44/44 [00:14<00:00,  3.08it/s]\n",
            "                 Class     Images  Instances      Box(P          R      mAP50  mAP50-95): 100%|██████████| 7/7 [00:02<00:00,  3.32it/s]"
          ]
        },
        {
          "output_type": "stream",
          "name": "stdout",
          "text": [
            "                   all        201        201      0.999          1      0.995      0.781\n"
          ]
        },
        {
          "output_type": "stream",
          "name": "stderr",
          "text": [
            "\n"
          ]
        },
        {
          "output_type": "stream",
          "name": "stdout",
          "text": [
            "\n",
            "      Epoch    GPU_mem   box_loss   cls_loss   dfl_loss  Instances       Size\n"
          ]
        },
        {
          "output_type": "stream",
          "name": "stderr",
          "text": [
            "     88/100      2.15G       0.83     0.4795     0.9472         24        640: 100%|██████████| 44/44 [00:14<00:00,  3.09it/s]\n",
            "                 Class     Images  Instances      Box(P          R      mAP50  mAP50-95): 100%|██████████| 7/7 [00:02<00:00,  3.07it/s]"
          ]
        },
        {
          "output_type": "stream",
          "name": "stdout",
          "text": [
            "                   all        201        201      0.999          1      0.995      0.794\n"
          ]
        },
        {
          "output_type": "stream",
          "name": "stderr",
          "text": [
            "\n"
          ]
        },
        {
          "output_type": "stream",
          "name": "stdout",
          "text": [
            "\n",
            "      Epoch    GPU_mem   box_loss   cls_loss   dfl_loss  Instances       Size\n"
          ]
        },
        {
          "output_type": "stream",
          "name": "stderr",
          "text": [
            "     89/100      2.15G     0.7948     0.4704     0.9321         19        640: 100%|██████████| 44/44 [00:14<00:00,  3.08it/s]\n",
            "                 Class     Images  Instances      Box(P          R      mAP50  mAP50-95): 100%|██████████| 7/7 [00:02<00:00,  2.69it/s]"
          ]
        },
        {
          "output_type": "stream",
          "name": "stdout",
          "text": [
            "                   all        201        201      0.998          1      0.995      0.784\n"
          ]
        },
        {
          "output_type": "stream",
          "name": "stderr",
          "text": [
            "\n"
          ]
        },
        {
          "output_type": "stream",
          "name": "stdout",
          "text": [
            "\n",
            "      Epoch    GPU_mem   box_loss   cls_loss   dfl_loss  Instances       Size\n"
          ]
        },
        {
          "output_type": "stream",
          "name": "stderr",
          "text": [
            "     90/100      2.15G     0.8033     0.4597     0.9326         21        640: 100%|██████████| 44/44 [00:13<00:00,  3.19it/s]\n",
            "                 Class     Images  Instances      Box(P          R      mAP50  mAP50-95): 100%|██████████| 7/7 [00:02<00:00,  3.02it/s]"
          ]
        },
        {
          "output_type": "stream",
          "name": "stdout",
          "text": [
            "                   all        201        201      0.999          1      0.995      0.791\n"
          ]
        },
        {
          "output_type": "stream",
          "name": "stderr",
          "text": [
            "\n"
          ]
        },
        {
          "output_type": "stream",
          "name": "stdout",
          "text": [
            "Closing dataloader mosaic\n",
            "\u001b[34m\u001b[1malbumentations: \u001b[0mBlur(p=0.01, blur_limit=(3, 7)), MedianBlur(p=0.01, blur_limit=(3, 7)), ToGray(p=0.01, num_output_channels=3, method='weighted_average'), CLAHE(p=0.01, clip_limit=(1.0, 4.0), tile_grid_size=(8, 8))\n",
            "\n",
            "      Epoch    GPU_mem   box_loss   cls_loss   dfl_loss  Instances       Size\n"
          ]
        },
        {
          "output_type": "stream",
          "name": "stderr",
          "text": [
            "     91/100      2.23G     0.7125     0.4108     0.8958         12        640: 100%|██████████| 44/44 [00:15<00:00,  2.76it/s]\n",
            "                 Class     Images  Instances      Box(P          R      mAP50  mAP50-95): 100%|██████████| 7/7 [00:01<00:00,  3.78it/s]"
          ]
        },
        {
          "output_type": "stream",
          "name": "stdout",
          "text": [
            "                   all        201        201      0.998          1      0.995      0.792\n"
          ]
        },
        {
          "output_type": "stream",
          "name": "stderr",
          "text": [
            "\n"
          ]
        },
        {
          "output_type": "stream",
          "name": "stdout",
          "text": [
            "\n",
            "      Epoch    GPU_mem   box_loss   cls_loss   dfl_loss  Instances       Size\n"
          ]
        },
        {
          "output_type": "stream",
          "name": "stderr",
          "text": [
            "     92/100      2.15G     0.7293     0.4135     0.8991         12        640: 100%|██████████| 44/44 [00:14<00:00,  3.02it/s]\n",
            "                 Class     Images  Instances      Box(P          R      mAP50  mAP50-95): 100%|██████████| 7/7 [00:01<00:00,  3.96it/s]"
          ]
        },
        {
          "output_type": "stream",
          "name": "stdout",
          "text": [
            "                   all        201        201      0.999          1      0.995      0.793\n"
          ]
        },
        {
          "output_type": "stream",
          "name": "stderr",
          "text": [
            "\n"
          ]
        },
        {
          "output_type": "stream",
          "name": "stdout",
          "text": [
            "\n",
            "      Epoch    GPU_mem   box_loss   cls_loss   dfl_loss  Instances       Size\n"
          ]
        },
        {
          "output_type": "stream",
          "name": "stderr",
          "text": [
            "     93/100      2.15G     0.7205     0.4053     0.8952         12        640: 100%|██████████| 44/44 [00:13<00:00,  3.19it/s]\n",
            "                 Class     Images  Instances      Box(P          R      mAP50  mAP50-95): 100%|██████████| 7/7 [00:02<00:00,  2.72it/s]"
          ]
        },
        {
          "output_type": "stream",
          "name": "stdout",
          "text": [
            "                   all        201        201      0.999          1      0.995      0.792\n"
          ]
        },
        {
          "output_type": "stream",
          "name": "stderr",
          "text": [
            "\n"
          ]
        },
        {
          "output_type": "stream",
          "name": "stdout",
          "text": [
            "\n",
            "      Epoch    GPU_mem   box_loss   cls_loss   dfl_loss  Instances       Size\n"
          ]
        },
        {
          "output_type": "stream",
          "name": "stderr",
          "text": [
            "     94/100      2.15G     0.7149     0.4058     0.8902         12        640: 100%|██████████| 44/44 [00:13<00:00,  3.36it/s]\n",
            "                 Class     Images  Instances      Box(P          R      mAP50  mAP50-95): 100%|██████████| 7/7 [00:03<00:00,  2.03it/s]"
          ]
        },
        {
          "output_type": "stream",
          "name": "stdout",
          "text": [
            "                   all        201        201      0.999          1      0.995      0.801\n"
          ]
        },
        {
          "output_type": "stream",
          "name": "stderr",
          "text": [
            "\n"
          ]
        },
        {
          "output_type": "stream",
          "name": "stdout",
          "text": [
            "\n",
            "      Epoch    GPU_mem   box_loss   cls_loss   dfl_loss  Instances       Size\n"
          ]
        },
        {
          "output_type": "stream",
          "name": "stderr",
          "text": [
            "     95/100      2.15G     0.6935     0.4019     0.8879         12        640: 100%|██████████| 44/44 [00:11<00:00,  3.72it/s]\n",
            "                 Class     Images  Instances      Box(P          R      mAP50  mAP50-95): 100%|██████████| 7/7 [00:03<00:00,  2.24it/s]"
          ]
        },
        {
          "output_type": "stream",
          "name": "stdout",
          "text": [
            "                   all        201        201      0.999          1      0.995        0.8\n"
          ]
        },
        {
          "output_type": "stream",
          "name": "stderr",
          "text": [
            "\n"
          ]
        },
        {
          "output_type": "stream",
          "name": "stdout",
          "text": [
            "\n",
            "      Epoch    GPU_mem   box_loss   cls_loss   dfl_loss  Instances       Size\n"
          ]
        },
        {
          "output_type": "stream",
          "name": "stderr",
          "text": [
            "     96/100      2.15G     0.7171     0.4026     0.8814         12        640: 100%|██████████| 44/44 [00:11<00:00,  3.68it/s]\n",
            "                 Class     Images  Instances      Box(P          R      mAP50  mAP50-95): 100%|██████████| 7/7 [00:02<00:00,  2.44it/s]"
          ]
        },
        {
          "output_type": "stream",
          "name": "stdout",
          "text": [
            "                   all        201        201      0.999          1      0.995        0.8\n"
          ]
        },
        {
          "output_type": "stream",
          "name": "stderr",
          "text": [
            "\n"
          ]
        },
        {
          "output_type": "stream",
          "name": "stdout",
          "text": [
            "\n",
            "      Epoch    GPU_mem   box_loss   cls_loss   dfl_loss  Instances       Size\n"
          ]
        },
        {
          "output_type": "stream",
          "name": "stderr",
          "text": [
            "     97/100      2.15G     0.6863     0.3884     0.8922         12        640: 100%|██████████| 44/44 [00:12<00:00,  3.62it/s]\n",
            "                 Class     Images  Instances      Box(P          R      mAP50  mAP50-95): 100%|██████████| 7/7 [00:02<00:00,  2.53it/s]\n"
          ]
        },
        {
          "output_type": "stream",
          "name": "stdout",
          "text": [
            "                   all        201        201      0.999          1      0.995      0.803\n",
            "\n",
            "      Epoch    GPU_mem   box_loss   cls_loss   dfl_loss  Instances       Size\n"
          ]
        },
        {
          "output_type": "stream",
          "name": "stderr",
          "text": [
            "     98/100      2.15G     0.6757     0.3914     0.8935         12        640: 100%|██████████| 44/44 [00:12<00:00,  3.42it/s]\n",
            "                 Class     Images  Instances      Box(P          R      mAP50  mAP50-95): 100%|██████████| 7/7 [00:01<00:00,  3.51it/s]"
          ]
        },
        {
          "output_type": "stream",
          "name": "stdout",
          "text": [
            "                   all        201        201      0.999          1      0.995      0.805\n"
          ]
        },
        {
          "output_type": "stream",
          "name": "stderr",
          "text": [
            "\n"
          ]
        },
        {
          "output_type": "stream",
          "name": "stdout",
          "text": [
            "\n",
            "      Epoch    GPU_mem   box_loss   cls_loss   dfl_loss  Instances       Size\n"
          ]
        },
        {
          "output_type": "stream",
          "name": "stderr",
          "text": [
            "     99/100      2.15G     0.6924     0.3886     0.8879         12        640: 100%|██████████| 44/44 [00:14<00:00,  3.14it/s]\n",
            "                 Class     Images  Instances      Box(P          R      mAP50  mAP50-95): 100%|██████████| 7/7 [00:01<00:00,  3.70it/s]"
          ]
        },
        {
          "output_type": "stream",
          "name": "stdout",
          "text": [
            "                   all        201        201      0.999          1      0.995      0.808\n"
          ]
        },
        {
          "output_type": "stream",
          "name": "stderr",
          "text": [
            "\n"
          ]
        },
        {
          "output_type": "stream",
          "name": "stdout",
          "text": [
            "\n",
            "      Epoch    GPU_mem   box_loss   cls_loss   dfl_loss  Instances       Size\n"
          ]
        },
        {
          "output_type": "stream",
          "name": "stderr",
          "text": [
            "    100/100      2.15G     0.6746     0.3824      0.881         12        640: 100%|██████████| 44/44 [00:14<00:00,  3.07it/s]\n",
            "                 Class     Images  Instances      Box(P          R      mAP50  mAP50-95): 100%|██████████| 7/7 [00:01<00:00,  3.81it/s]"
          ]
        },
        {
          "output_type": "stream",
          "name": "stdout",
          "text": [
            "                   all        201        201      0.999          1      0.995       0.81\n"
          ]
        },
        {
          "output_type": "stream",
          "name": "stderr",
          "text": [
            "\n"
          ]
        },
        {
          "output_type": "stream",
          "name": "stdout",
          "text": [
            "\n",
            "100 epochs completed in 0.479 hours.\n",
            "Optimizer stripped from runs/detect/train/weights/last.pt, 6.3MB\n",
            "Optimizer stripped from runs/detect/train/weights/best.pt, 6.3MB\n",
            "\n",
            "Validating runs/detect/train/weights/best.pt...\n",
            "WARNING ⚠️ validating an untrained model YAML will result in 0 mAP.\n",
            "Ultralytics 8.3.37 🚀 Python-3.10.12 torch-2.5.1+cu121 CUDA:0 (Tesla T4, 15102MiB)\n",
            "YOLOv8n summary (fused): 168 layers, 3,006,038 parameters, 0 gradients, 8.1 GFLOPs\n"
          ]
        },
        {
          "output_type": "stream",
          "name": "stderr",
          "text": [
            "                 Class     Images  Instances      Box(P          R      mAP50  mAP50-95): 100%|██████████| 7/7 [00:05<00:00,  1.21it/s]\n"
          ]
        },
        {
          "output_type": "stream",
          "name": "stdout",
          "text": [
            "                   all        201        201      0.999          1      0.995       0.81\n",
            "      PolisiTidurPolos         54         54      0.999          1      0.995      0.773\n",
            "      PolisiTidurWarna        147        147      0.999          1      0.995      0.847\n",
            "Speed: 0.4ms preprocess, 3.0ms inference, 0.0ms loss, 6.5ms postprocess per image\n",
            "Results saved to \u001b[1mruns/detect/train\u001b[0m\n"
          ]
        }
      ],
      "source": [
        "from ultralytics import YOLO\n",
        "\n",
        "# Load a model\n",
        "model = YOLO('yolov8n.yaml')  # build a new model from YAML\n",
        "model = YOLO('yolov8n.pt')  # load a pretrained model (recommended for training)\n",
        "model = YOLO('yolov8n.yaml').load('yolov8n.pt')  # build from YAML and transfer weights\n",
        "\n",
        "# Train the model\n",
        "results = model.train(data='/content/Deteksi-Polisi-Tidur-1/data.yaml', epochs=100, imgsz=640) #change data path to your data.yaml path (you will get data.yaml when you download the dataset from the roboflow)"
      ]
    },
    {
      "cell_type": "markdown",
      "source": [
        "Convert a folder that contain model and the analytic graphics to be downloaded."
      ],
      "metadata": {
        "id": "_saigACpXfe2"
      }
    },
    {
      "cell_type": "code",
      "execution_count": 6,
      "metadata": {
        "id": "0Pf-yYkv4OGy"
      },
      "outputs": [],
      "source": [
        "import zipfile\n",
        "import os\n",
        "\n",
        "def zip_dir(folder_path, output_path):\n",
        "    with zipfile.ZipFile(output_path, 'w', zipfile.ZIP_DEFLATED) as zipf:\n",
        "        for root, _, files in os.walk(folder_path):\n",
        "            for file in files:\n",
        "                zipf.write(os.path.join(root, file), os.path.relpath(os.path.join(root, file), folder_path))\n",
        "\n",
        "folder_to_zip = '/content/runs/detect/train'\n",
        "zip_output_path = '/content/runs/PolisiTidur.zip'\n",
        "\n",
        "zip_dir(folder_to_zip, zip_output_path)"
      ]
    },
    {
      "cell_type": "code",
      "source": [
        "from google.colab import files\n",
        "\n",
        "# Mengunggah file video\n",
        "uploaded = files.upload()"
      ],
      "metadata": {
        "colab": {
          "base_uri": "https://localhost:8080/",
          "height": 73
        },
        "id": "EpEgCLJrc3ht",
        "outputId": "5474f217-f349-429d-cc9d-d0e8dc04c27d"
      },
      "execution_count": 8,
      "outputs": [
        {
          "output_type": "display_data",
          "data": {
            "text/plain": [
              "<IPython.core.display.HTML object>"
            ],
            "text/html": [
              "\n",
              "     <input type=\"file\" id=\"files-a300d746-3791-4d46-8755-1d4a592b6795\" name=\"files[]\" multiple disabled\n",
              "        style=\"border:none\" />\n",
              "     <output id=\"result-a300d746-3791-4d46-8755-1d4a592b6795\">\n",
              "      Upload widget is only available when the cell has been executed in the\n",
              "      current browser session. Please rerun this cell to enable.\n",
              "      </output>\n",
              "      <script>// Copyright 2017 Google LLC\n",
              "//\n",
              "// Licensed under the Apache License, Version 2.0 (the \"License\");\n",
              "// you may not use this file except in compliance with the License.\n",
              "// You may obtain a copy of the License at\n",
              "//\n",
              "//      http://www.apache.org/licenses/LICENSE-2.0\n",
              "//\n",
              "// Unless required by applicable law or agreed to in writing, software\n",
              "// distributed under the License is distributed on an \"AS IS\" BASIS,\n",
              "// WITHOUT WARRANTIES OR CONDITIONS OF ANY KIND, either express or implied.\n",
              "// See the License for the specific language governing permissions and\n",
              "// limitations under the License.\n",
              "\n",
              "/**\n",
              " * @fileoverview Helpers for google.colab Python module.\n",
              " */\n",
              "(function(scope) {\n",
              "function span(text, styleAttributes = {}) {\n",
              "  const element = document.createElement('span');\n",
              "  element.textContent = text;\n",
              "  for (const key of Object.keys(styleAttributes)) {\n",
              "    element.style[key] = styleAttributes[key];\n",
              "  }\n",
              "  return element;\n",
              "}\n",
              "\n",
              "// Max number of bytes which will be uploaded at a time.\n",
              "const MAX_PAYLOAD_SIZE = 100 * 1024;\n",
              "\n",
              "function _uploadFiles(inputId, outputId) {\n",
              "  const steps = uploadFilesStep(inputId, outputId);\n",
              "  const outputElement = document.getElementById(outputId);\n",
              "  // Cache steps on the outputElement to make it available for the next call\n",
              "  // to uploadFilesContinue from Python.\n",
              "  outputElement.steps = steps;\n",
              "\n",
              "  return _uploadFilesContinue(outputId);\n",
              "}\n",
              "\n",
              "// This is roughly an async generator (not supported in the browser yet),\n",
              "// where there are multiple asynchronous steps and the Python side is going\n",
              "// to poll for completion of each step.\n",
              "// This uses a Promise to block the python side on completion of each step,\n",
              "// then passes the result of the previous step as the input to the next step.\n",
              "function _uploadFilesContinue(outputId) {\n",
              "  const outputElement = document.getElementById(outputId);\n",
              "  const steps = outputElement.steps;\n",
              "\n",
              "  const next = steps.next(outputElement.lastPromiseValue);\n",
              "  return Promise.resolve(next.value.promise).then((value) => {\n",
              "    // Cache the last promise value to make it available to the next\n",
              "    // step of the generator.\n",
              "    outputElement.lastPromiseValue = value;\n",
              "    return next.value.response;\n",
              "  });\n",
              "}\n",
              "\n",
              "/**\n",
              " * Generator function which is called between each async step of the upload\n",
              " * process.\n",
              " * @param {string} inputId Element ID of the input file picker element.\n",
              " * @param {string} outputId Element ID of the output display.\n",
              " * @return {!Iterable<!Object>} Iterable of next steps.\n",
              " */\n",
              "function* uploadFilesStep(inputId, outputId) {\n",
              "  const inputElement = document.getElementById(inputId);\n",
              "  inputElement.disabled = false;\n",
              "\n",
              "  const outputElement = document.getElementById(outputId);\n",
              "  outputElement.innerHTML = '';\n",
              "\n",
              "  const pickedPromise = new Promise((resolve) => {\n",
              "    inputElement.addEventListener('change', (e) => {\n",
              "      resolve(e.target.files);\n",
              "    });\n",
              "  });\n",
              "\n",
              "  const cancel = document.createElement('button');\n",
              "  inputElement.parentElement.appendChild(cancel);\n",
              "  cancel.textContent = 'Cancel upload';\n",
              "  const cancelPromise = new Promise((resolve) => {\n",
              "    cancel.onclick = () => {\n",
              "      resolve(null);\n",
              "    };\n",
              "  });\n",
              "\n",
              "  // Wait for the user to pick the files.\n",
              "  const files = yield {\n",
              "    promise: Promise.race([pickedPromise, cancelPromise]),\n",
              "    response: {\n",
              "      action: 'starting',\n",
              "    }\n",
              "  };\n",
              "\n",
              "  cancel.remove();\n",
              "\n",
              "  // Disable the input element since further picks are not allowed.\n",
              "  inputElement.disabled = true;\n",
              "\n",
              "  if (!files) {\n",
              "    return {\n",
              "      response: {\n",
              "        action: 'complete',\n",
              "      }\n",
              "    };\n",
              "  }\n",
              "\n",
              "  for (const file of files) {\n",
              "    const li = document.createElement('li');\n",
              "    li.append(span(file.name, {fontWeight: 'bold'}));\n",
              "    li.append(span(\n",
              "        `(${file.type || 'n/a'}) - ${file.size} bytes, ` +\n",
              "        `last modified: ${\n",
              "            file.lastModifiedDate ? file.lastModifiedDate.toLocaleDateString() :\n",
              "                                    'n/a'} - `));\n",
              "    const percent = span('0% done');\n",
              "    li.appendChild(percent);\n",
              "\n",
              "    outputElement.appendChild(li);\n",
              "\n",
              "    const fileDataPromise = new Promise((resolve) => {\n",
              "      const reader = new FileReader();\n",
              "      reader.onload = (e) => {\n",
              "        resolve(e.target.result);\n",
              "      };\n",
              "      reader.readAsArrayBuffer(file);\n",
              "    });\n",
              "    // Wait for the data to be ready.\n",
              "    let fileData = yield {\n",
              "      promise: fileDataPromise,\n",
              "      response: {\n",
              "        action: 'continue',\n",
              "      }\n",
              "    };\n",
              "\n",
              "    // Use a chunked sending to avoid message size limits. See b/62115660.\n",
              "    let position = 0;\n",
              "    do {\n",
              "      const length = Math.min(fileData.byteLength - position, MAX_PAYLOAD_SIZE);\n",
              "      const chunk = new Uint8Array(fileData, position, length);\n",
              "      position += length;\n",
              "\n",
              "      const base64 = btoa(String.fromCharCode.apply(null, chunk));\n",
              "      yield {\n",
              "        response: {\n",
              "          action: 'append',\n",
              "          file: file.name,\n",
              "          data: base64,\n",
              "        },\n",
              "      };\n",
              "\n",
              "      let percentDone = fileData.byteLength === 0 ?\n",
              "          100 :\n",
              "          Math.round((position / fileData.byteLength) * 100);\n",
              "      percent.textContent = `${percentDone}% done`;\n",
              "\n",
              "    } while (position < fileData.byteLength);\n",
              "  }\n",
              "\n",
              "  // All done.\n",
              "  yield {\n",
              "    response: {\n",
              "      action: 'complete',\n",
              "    }\n",
              "  };\n",
              "}\n",
              "\n",
              "scope.google = scope.google || {};\n",
              "scope.google.colab = scope.google.colab || {};\n",
              "scope.google.colab._files = {\n",
              "  _uploadFiles,\n",
              "  _uploadFilesContinue,\n",
              "};\n",
              "})(self);\n",
              "</script> "
            ]
          },
          "metadata": {}
        },
        {
          "output_type": "stream",
          "name": "stdout",
          "text": [
            "Saving PolisiTidur26.mp4 to PolisiTidur26.mp4\n"
          ]
        }
      ]
    },
    {
      "cell_type": "code",
      "source": [
        "from ultralytics import YOLO\n",
        "\n",
        "# Muat model YOLOv8\n",
        "model = YOLO('/content/runs/detect/train/weights/best.pt')\n",
        "\n",
        "# Jalankan deteksi pada video\n",
        "results = model.predict(source='PolisiTidur26.mp4', save=True)\n",
        "\n",
        "# Output video akan disimpan di folder runs/predict/exp"
      ],
      "metadata": {
        "colab": {
          "base_uri": "https://localhost:8080/"
        },
        "id": "00SivIbfgUea",
        "outputId": "b72fcf66-d7c8-454b-a7ec-0db90018bfda"
      },
      "execution_count": 10,
      "outputs": [
        {
          "output_type": "stream",
          "name": "stdout",
          "text": [
            "\n",
            "\n",
            "WARNING ⚠️ inference results will accumulate in RAM unless `stream=True` is passed, causing potential out-of-memory\n",
            "errors for large sources or long-running streams and videos. See https://docs.ultralytics.com/modes/predict/ for help.\n",
            "\n",
            "Example:\n",
            "    results = model(source=..., stream=True)  # generator of Results objects\n",
            "    for r in results:\n",
            "        boxes = r.boxes  # Boxes object for bbox outputs\n",
            "        masks = r.masks  # Masks object for segment masks outputs\n",
            "        probs = r.probs  # Class probabilities for classification outputs\n",
            "\n",
            "video 1/1 (frame 1/807) /content/PolisiTidur26.mp4: 384x640 1 PolisiTidurWarna, 39.9ms\n",
            "video 1/1 (frame 2/807) /content/PolisiTidur26.mp4: 384x640 1 PolisiTidurWarna, 10.4ms\n",
            "video 1/1 (frame 3/807) /content/PolisiTidur26.mp4: 384x640 1 PolisiTidurWarna, 9.3ms\n",
            "video 1/1 (frame 4/807) /content/PolisiTidur26.mp4: 384x640 1 PolisiTidurWarna, 14.3ms\n",
            "video 1/1 (frame 5/807) /content/PolisiTidur26.mp4: 384x640 1 PolisiTidurWarna, 15.9ms\n",
            "video 1/1 (frame 6/807) /content/PolisiTidur26.mp4: 384x640 1 PolisiTidurWarna, 9.1ms\n",
            "video 1/1 (frame 7/807) /content/PolisiTidur26.mp4: 384x640 1 PolisiTidurWarna, 14.4ms\n",
            "video 1/1 (frame 8/807) /content/PolisiTidur26.mp4: 384x640 1 PolisiTidurWarna, 15.9ms\n",
            "video 1/1 (frame 9/807) /content/PolisiTidur26.mp4: 384x640 1 PolisiTidurWarna, 15.3ms\n",
            "video 1/1 (frame 10/807) /content/PolisiTidur26.mp4: 384x640 1 PolisiTidurWarna, 12.2ms\n",
            "video 1/1 (frame 11/807) /content/PolisiTidur26.mp4: 384x640 2 PolisiTidurWarnas, 9.9ms\n",
            "video 1/1 (frame 12/807) /content/PolisiTidur26.mp4: 384x640 1 PolisiTidurWarna, 21.6ms\n",
            "video 1/1 (frame 13/807) /content/PolisiTidur26.mp4: 384x640 2 PolisiTidurWarnas, 20.3ms\n",
            "video 1/1 (frame 14/807) /content/PolisiTidur26.mp4: 384x640 1 PolisiTidurWarna, 13.8ms\n",
            "video 1/1 (frame 15/807) /content/PolisiTidur26.mp4: 384x640 1 PolisiTidurWarna, 11.4ms\n",
            "video 1/1 (frame 16/807) /content/PolisiTidur26.mp4: 384x640 1 PolisiTidurWarna, 15.1ms\n",
            "video 1/1 (frame 17/807) /content/PolisiTidur26.mp4: 384x640 2 PolisiTidurWarnas, 14.1ms\n",
            "video 1/1 (frame 18/807) /content/PolisiTidur26.mp4: 384x640 2 PolisiTidurWarnas, 15.8ms\n",
            "video 1/1 (frame 19/807) /content/PolisiTidur26.mp4: 384x640 2 PolisiTidurWarnas, 16.0ms\n",
            "video 1/1 (frame 20/807) /content/PolisiTidur26.mp4: 384x640 1 PolisiTidurWarna, 9.3ms\n",
            "video 1/1 (frame 21/807) /content/PolisiTidur26.mp4: 384x640 1 PolisiTidurWarna, 13.2ms\n",
            "video 1/1 (frame 22/807) /content/PolisiTidur26.mp4: 384x640 1 PolisiTidurWarna, 15.6ms\n",
            "video 1/1 (frame 23/807) /content/PolisiTidur26.mp4: 384x640 1 PolisiTidurWarna, 17.1ms\n",
            "video 1/1 (frame 24/807) /content/PolisiTidur26.mp4: 384x640 1 PolisiTidurWarna, 15.5ms\n",
            "video 1/1 (frame 25/807) /content/PolisiTidur26.mp4: 384x640 1 PolisiTidurWarna, 13.1ms\n",
            "video 1/1 (frame 26/807) /content/PolisiTidur26.mp4: 384x640 1 PolisiTidurWarna, 12.8ms\n",
            "video 1/1 (frame 27/807) /content/PolisiTidur26.mp4: 384x640 2 PolisiTidurWarnas, 17.0ms\n",
            "video 1/1 (frame 28/807) /content/PolisiTidur26.mp4: 384x640 1 PolisiTidurWarna, 10.5ms\n",
            "video 1/1 (frame 29/807) /content/PolisiTidur26.mp4: 384x640 1 PolisiTidurWarna, 16.0ms\n",
            "video 1/1 (frame 30/807) /content/PolisiTidur26.mp4: 384x640 1 PolisiTidurWarna, 18.6ms\n",
            "video 1/1 (frame 31/807) /content/PolisiTidur26.mp4: 384x640 1 PolisiTidurWarna, 11.2ms\n",
            "video 1/1 (frame 32/807) /content/PolisiTidur26.mp4: 384x640 2 PolisiTidurWarnas, 13.9ms\n",
            "video 1/1 (frame 33/807) /content/PolisiTidur26.mp4: 384x640 2 PolisiTidurWarnas, 19.6ms\n",
            "video 1/1 (frame 34/807) /content/PolisiTidur26.mp4: 384x640 2 PolisiTidurWarnas, 11.5ms\n",
            "video 1/1 (frame 35/807) /content/PolisiTidur26.mp4: 384x640 1 PolisiTidurWarna, 13.8ms\n",
            "video 1/1 (frame 36/807) /content/PolisiTidur26.mp4: 384x640 1 PolisiTidurWarna, 15.9ms\n",
            "video 1/1 (frame 37/807) /content/PolisiTidur26.mp4: 384x640 2 PolisiTidurWarnas, 11.4ms\n",
            "video 1/1 (frame 38/807) /content/PolisiTidur26.mp4: 384x640 2 PolisiTidurWarnas, 13.6ms\n",
            "video 1/1 (frame 39/807) /content/PolisiTidur26.mp4: 384x640 2 PolisiTidurWarnas, 10.1ms\n",
            "video 1/1 (frame 40/807) /content/PolisiTidur26.mp4: 384x640 2 PolisiTidurWarnas, 12.1ms\n",
            "video 1/1 (frame 41/807) /content/PolisiTidur26.mp4: 384x640 2 PolisiTidurWarnas, 9.9ms\n",
            "video 1/1 (frame 42/807) /content/PolisiTidur26.mp4: 384x640 2 PolisiTidurWarnas, 15.3ms\n",
            "video 1/1 (frame 43/807) /content/PolisiTidur26.mp4: 384x640 2 PolisiTidurWarnas, 10.6ms\n",
            "video 1/1 (frame 44/807) /content/PolisiTidur26.mp4: 384x640 2 PolisiTidurWarnas, 14.8ms\n",
            "video 1/1 (frame 45/807) /content/PolisiTidur26.mp4: 384x640 2 PolisiTidurWarnas, 16.3ms\n",
            "video 1/1 (frame 46/807) /content/PolisiTidur26.mp4: 384x640 2 PolisiTidurWarnas, 14.5ms\n",
            "video 1/1 (frame 47/807) /content/PolisiTidur26.mp4: 384x640 2 PolisiTidurWarnas, 10.8ms\n",
            "video 1/1 (frame 48/807) /content/PolisiTidur26.mp4: 384x640 2 PolisiTidurWarnas, 16.0ms\n",
            "video 1/1 (frame 49/807) /content/PolisiTidur26.mp4: 384x640 2 PolisiTidurWarnas, 11.2ms\n",
            "video 1/1 (frame 50/807) /content/PolisiTidur26.mp4: 384x640 3 PolisiTidurWarnas, 16.1ms\n",
            "video 1/1 (frame 51/807) /content/PolisiTidur26.mp4: 384x640 2 PolisiTidurWarnas, 10.4ms\n",
            "video 1/1 (frame 52/807) /content/PolisiTidur26.mp4: 384x640 2 PolisiTidurWarnas, 18.6ms\n",
            "video 1/1 (frame 53/807) /content/PolisiTidur26.mp4: 384x640 2 PolisiTidurWarnas, 10.5ms\n",
            "video 1/1 (frame 54/807) /content/PolisiTidur26.mp4: 384x640 1 PolisiTidurWarna, 13.3ms\n",
            "video 1/1 (frame 55/807) /content/PolisiTidur26.mp4: 384x640 1 PolisiTidurWarna, 12.5ms\n",
            "video 1/1 (frame 56/807) /content/PolisiTidur26.mp4: 384x640 2 PolisiTidurWarnas, 9.6ms\n",
            "video 1/1 (frame 57/807) /content/PolisiTidur26.mp4: 384x640 2 PolisiTidurWarnas, 15.6ms\n",
            "video 1/1 (frame 58/807) /content/PolisiTidur26.mp4: 384x640 2 PolisiTidurWarnas, 10.4ms\n",
            "video 1/1 (frame 59/807) /content/PolisiTidur26.mp4: 384x640 2 PolisiTidurWarnas, 10.2ms\n",
            "video 1/1 (frame 60/807) /content/PolisiTidur26.mp4: 384x640 2 PolisiTidurWarnas, 12.3ms\n",
            "video 1/1 (frame 61/807) /content/PolisiTidur26.mp4: 384x640 2 PolisiTidurWarnas, 10.9ms\n",
            "video 1/1 (frame 62/807) /content/PolisiTidur26.mp4: 384x640 2 PolisiTidurWarnas, 10.6ms\n",
            "video 1/1 (frame 63/807) /content/PolisiTidur26.mp4: 384x640 2 PolisiTidurWarnas, 17.5ms\n",
            "video 1/1 (frame 64/807) /content/PolisiTidur26.mp4: 384x640 2 PolisiTidurWarnas, 22.5ms\n",
            "video 1/1 (frame 65/807) /content/PolisiTidur26.mp4: 384x640 2 PolisiTidurWarnas, 10.4ms\n",
            "video 1/1 (frame 66/807) /content/PolisiTidur26.mp4: 384x640 2 PolisiTidurWarnas, 16.4ms\n",
            "video 1/1 (frame 67/807) /content/PolisiTidur26.mp4: 384x640 2 PolisiTidurWarnas, 17.3ms\n",
            "video 1/1 (frame 68/807) /content/PolisiTidur26.mp4: 384x640 2 PolisiTidurWarnas, 17.6ms\n",
            "video 1/1 (frame 69/807) /content/PolisiTidur26.mp4: 384x640 2 PolisiTidurWarnas, 14.8ms\n",
            "video 1/1 (frame 70/807) /content/PolisiTidur26.mp4: 384x640 1 PolisiTidurWarna, 12.2ms\n",
            "video 1/1 (frame 71/807) /content/PolisiTidur26.mp4: 384x640 2 PolisiTidurWarnas, 15.8ms\n",
            "video 1/1 (frame 72/807) /content/PolisiTidur26.mp4: 384x640 1 PolisiTidurWarna, 25.3ms\n",
            "video 1/1 (frame 73/807) /content/PolisiTidur26.mp4: 384x640 1 PolisiTidurWarna, 11.4ms\n",
            "video 1/1 (frame 74/807) /content/PolisiTidur26.mp4: 384x640 1 PolisiTidurWarna, 8.8ms\n",
            "video 1/1 (frame 75/807) /content/PolisiTidur26.mp4: 384x640 1 PolisiTidurWarna, 9.9ms\n",
            "video 1/1 (frame 76/807) /content/PolisiTidur26.mp4: 384x640 1 PolisiTidurWarna, 12.7ms\n",
            "video 1/1 (frame 77/807) /content/PolisiTidur26.mp4: 384x640 1 PolisiTidurWarna, 15.4ms\n",
            "video 1/1 (frame 78/807) /content/PolisiTidur26.mp4: 384x640 1 PolisiTidurWarna, 7.9ms\n",
            "video 1/1 (frame 79/807) /content/PolisiTidur26.mp4: 384x640 1 PolisiTidurWarna, 10.1ms\n",
            "video 1/1 (frame 80/807) /content/PolisiTidur26.mp4: 384x640 1 PolisiTidurWarna, 10.0ms\n",
            "video 1/1 (frame 81/807) /content/PolisiTidur26.mp4: 384x640 1 PolisiTidurWarna, 10.2ms\n",
            "video 1/1 (frame 82/807) /content/PolisiTidur26.mp4: 384x640 1 PolisiTidurWarna, 9.3ms\n",
            "video 1/1 (frame 83/807) /content/PolisiTidur26.mp4: 384x640 1 PolisiTidurWarna, 9.5ms\n",
            "video 1/1 (frame 84/807) /content/PolisiTidur26.mp4: 384x640 1 PolisiTidurWarna, 10.6ms\n",
            "video 1/1 (frame 85/807) /content/PolisiTidur26.mp4: 384x640 1 PolisiTidurWarna, 10.0ms\n",
            "video 1/1 (frame 86/807) /content/PolisiTidur26.mp4: 384x640 2 PolisiTidurWarnas, 9.7ms\n",
            "video 1/1 (frame 87/807) /content/PolisiTidur26.mp4: 384x640 1 PolisiTidurWarna, 9.7ms\n",
            "video 1/1 (frame 88/807) /content/PolisiTidur26.mp4: 384x640 1 PolisiTidurWarna, 8.8ms\n",
            "video 1/1 (frame 89/807) /content/PolisiTidur26.mp4: 384x640 2 PolisiTidurWarnas, 10.0ms\n",
            "video 1/1 (frame 90/807) /content/PolisiTidur26.mp4: 384x640 1 PolisiTidurWarna, 9.3ms\n",
            "video 1/1 (frame 91/807) /content/PolisiTidur26.mp4: 384x640 1 PolisiTidurWarna, 9.2ms\n",
            "video 1/1 (frame 92/807) /content/PolisiTidur26.mp4: 384x640 1 PolisiTidurWarna, 9.7ms\n",
            "video 1/1 (frame 93/807) /content/PolisiTidur26.mp4: 384x640 1 PolisiTidurWarna, 9.3ms\n",
            "video 1/1 (frame 94/807) /content/PolisiTidur26.mp4: 384x640 1 PolisiTidurWarna, 12.4ms\n",
            "video 1/1 (frame 95/807) /content/PolisiTidur26.mp4: 384x640 1 PolisiTidurWarna, 8.7ms\n",
            "video 1/1 (frame 96/807) /content/PolisiTidur26.mp4: 384x640 1 PolisiTidurWarna, 9.3ms\n",
            "video 1/1 (frame 97/807) /content/PolisiTidur26.mp4: 384x640 1 PolisiTidurWarna, 8.8ms\n",
            "video 1/1 (frame 98/807) /content/PolisiTidur26.mp4: 384x640 1 PolisiTidurWarna, 10.8ms\n",
            "video 1/1 (frame 99/807) /content/PolisiTidur26.mp4: 384x640 1 PolisiTidurWarna, 10.6ms\n",
            "video 1/1 (frame 100/807) /content/PolisiTidur26.mp4: 384x640 1 PolisiTidurWarna, 8.5ms\n",
            "video 1/1 (frame 101/807) /content/PolisiTidur26.mp4: 384x640 1 PolisiTidurWarna, 9.8ms\n",
            "video 1/1 (frame 102/807) /content/PolisiTidur26.mp4: 384x640 1 PolisiTidurWarna, 8.4ms\n",
            "video 1/1 (frame 103/807) /content/PolisiTidur26.mp4: 384x640 1 PolisiTidurWarna, 10.1ms\n",
            "video 1/1 (frame 104/807) /content/PolisiTidur26.mp4: 384x640 1 PolisiTidurWarna, 8.8ms\n",
            "video 1/1 (frame 105/807) /content/PolisiTidur26.mp4: 384x640 1 PolisiTidurWarna, 9.7ms\n",
            "video 1/1 (frame 106/807) /content/PolisiTidur26.mp4: 384x640 1 PolisiTidurWarna, 10.9ms\n",
            "video 1/1 (frame 107/807) /content/PolisiTidur26.mp4: 384x640 1 PolisiTidurWarna, 10.7ms\n",
            "video 1/1 (frame 108/807) /content/PolisiTidur26.mp4: 384x640 1 PolisiTidurWarna, 8.9ms\n",
            "video 1/1 (frame 109/807) /content/PolisiTidur26.mp4: 384x640 1 PolisiTidurWarna, 10.2ms\n",
            "video 1/1 (frame 110/807) /content/PolisiTidur26.mp4: 384x640 1 PolisiTidurWarna, 8.6ms\n",
            "video 1/1 (frame 111/807) /content/PolisiTidur26.mp4: 384x640 1 PolisiTidurWarna, 8.9ms\n",
            "video 1/1 (frame 112/807) /content/PolisiTidur26.mp4: 384x640 1 PolisiTidurWarna, 10.2ms\n",
            "video 1/1 (frame 113/807) /content/PolisiTidur26.mp4: 384x640 1 PolisiTidurWarna, 10.4ms\n",
            "video 1/1 (frame 114/807) /content/PolisiTidur26.mp4: 384x640 1 PolisiTidurWarna, 9.1ms\n",
            "video 1/1 (frame 115/807) /content/PolisiTidur26.mp4: 384x640 1 PolisiTidurWarna, 9.9ms\n",
            "video 1/1 (frame 116/807) /content/PolisiTidur26.mp4: 384x640 1 PolisiTidurWarna, 9.2ms\n",
            "video 1/1 (frame 117/807) /content/PolisiTidur26.mp4: 384x640 1 PolisiTidurWarna, 11.9ms\n",
            "video 1/1 (frame 118/807) /content/PolisiTidur26.mp4: 384x640 1 PolisiTidurWarna, 9.8ms\n",
            "video 1/1 (frame 119/807) /content/PolisiTidur26.mp4: 384x640 1 PolisiTidurWarna, 10.2ms\n",
            "video 1/1 (frame 120/807) /content/PolisiTidur26.mp4: 384x640 1 PolisiTidurWarna, 10.9ms\n",
            "video 1/1 (frame 121/807) /content/PolisiTidur26.mp4: 384x640 1 PolisiTidurWarna, 8.2ms\n",
            "video 1/1 (frame 122/807) /content/PolisiTidur26.mp4: 384x640 1 PolisiTidurWarna, 9.6ms\n",
            "video 1/1 (frame 123/807) /content/PolisiTidur26.mp4: 384x640 1 PolisiTidurWarna, 8.4ms\n",
            "video 1/1 (frame 124/807) /content/PolisiTidur26.mp4: 384x640 1 PolisiTidurWarna, 8.9ms\n",
            "video 1/1 (frame 125/807) /content/PolisiTidur26.mp4: 384x640 1 PolisiTidurWarna, 8.0ms\n",
            "video 1/1 (frame 126/807) /content/PolisiTidur26.mp4: 384x640 1 PolisiTidurWarna, 9.4ms\n",
            "video 1/1 (frame 127/807) /content/PolisiTidur26.mp4: 384x640 1 PolisiTidurWarna, 9.0ms\n",
            "video 1/1 (frame 128/807) /content/PolisiTidur26.mp4: 384x640 2 PolisiTidurWarnas, 9.3ms\n",
            "video 1/1 (frame 129/807) /content/PolisiTidur26.mp4: 384x640 1 PolisiTidurWarna, 10.0ms\n",
            "video 1/1 (frame 130/807) /content/PolisiTidur26.mp4: 384x640 1 PolisiTidurWarna, 9.8ms\n",
            "video 1/1 (frame 131/807) /content/PolisiTidur26.mp4: 384x640 1 PolisiTidurWarna, 11.1ms\n",
            "video 1/1 (frame 132/807) /content/PolisiTidur26.mp4: 384x640 1 PolisiTidurWarna, 10.1ms\n",
            "video 1/1 (frame 133/807) /content/PolisiTidur26.mp4: 384x640 1 PolisiTidurWarna, 9.9ms\n",
            "video 1/1 (frame 134/807) /content/PolisiTidur26.mp4: 384x640 1 PolisiTidurWarna, 9.8ms\n",
            "video 1/1 (frame 135/807) /content/PolisiTidur26.mp4: 384x640 1 PolisiTidurWarna, 10.5ms\n",
            "video 1/1 (frame 136/807) /content/PolisiTidur26.mp4: 384x640 1 PolisiTidurWarna, 9.5ms\n",
            "video 1/1 (frame 137/807) /content/PolisiTidur26.mp4: 384x640 1 PolisiTidurWarna, 9.6ms\n",
            "video 1/1 (frame 138/807) /content/PolisiTidur26.mp4: 384x640 1 PolisiTidurWarna, 9.1ms\n",
            "video 1/1 (frame 139/807) /content/PolisiTidur26.mp4: 384x640 1 PolisiTidurWarna, 8.1ms\n",
            "video 1/1 (frame 140/807) /content/PolisiTidur26.mp4: 384x640 1 PolisiTidurWarna, 9.6ms\n",
            "video 1/1 (frame 141/807) /content/PolisiTidur26.mp4: 384x640 1 PolisiTidurWarna, 9.1ms\n",
            "video 1/1 (frame 142/807) /content/PolisiTidur26.mp4: 384x640 1 PolisiTidurWarna, 9.5ms\n",
            "video 1/1 (frame 143/807) /content/PolisiTidur26.mp4: 384x640 1 PolisiTidurWarna, 9.1ms\n",
            "video 1/1 (frame 144/807) /content/PolisiTidur26.mp4: 384x640 1 PolisiTidurWarna, 9.8ms\n",
            "video 1/1 (frame 145/807) /content/PolisiTidur26.mp4: 384x640 1 PolisiTidurWarna, 9.6ms\n",
            "video 1/1 (frame 146/807) /content/PolisiTidur26.mp4: 384x640 1 PolisiTidurWarna, 9.3ms\n",
            "video 1/1 (frame 147/807) /content/PolisiTidur26.mp4: 384x640 1 PolisiTidurWarna, 9.7ms\n",
            "video 1/1 (frame 148/807) /content/PolisiTidur26.mp4: 384x640 1 PolisiTidurWarna, 8.7ms\n",
            "video 1/1 (frame 149/807) /content/PolisiTidur26.mp4: 384x640 1 PolisiTidurWarna, 12.8ms\n",
            "video 1/1 (frame 150/807) /content/PolisiTidur26.mp4: 384x640 1 PolisiTidurWarna, 10.0ms\n",
            "video 1/1 (frame 151/807) /content/PolisiTidur26.mp4: 384x640 1 PolisiTidurWarna, 9.4ms\n",
            "video 1/1 (frame 152/807) /content/PolisiTidur26.mp4: 384x640 1 PolisiTidurWarna, 9.2ms\n",
            "video 1/1 (frame 153/807) /content/PolisiTidur26.mp4: 384x640 1 PolisiTidurWarna, 8.7ms\n",
            "video 1/1 (frame 154/807) /content/PolisiTidur26.mp4: 384x640 1 PolisiTidurWarna, 9.0ms\n",
            "video 1/1 (frame 155/807) /content/PolisiTidur26.mp4: 384x640 1 PolisiTidurWarna, 9.7ms\n",
            "video 1/1 (frame 156/807) /content/PolisiTidur26.mp4: 384x640 1 PolisiTidurWarna, 9.2ms\n",
            "video 1/1 (frame 157/807) /content/PolisiTidur26.mp4: 384x640 1 PolisiTidurWarna, 9.4ms\n",
            "video 1/1 (frame 158/807) /content/PolisiTidur26.mp4: 384x640 1 PolisiTidurWarna, 9.9ms\n",
            "video 1/1 (frame 159/807) /content/PolisiTidur26.mp4: 384x640 1 PolisiTidurWarna, 9.5ms\n",
            "video 1/1 (frame 160/807) /content/PolisiTidur26.mp4: 384x640 1 PolisiTidurWarna, 8.1ms\n",
            "video 1/1 (frame 161/807) /content/PolisiTidur26.mp4: 384x640 1 PolisiTidurWarna, 10.3ms\n",
            "video 1/1 (frame 162/807) /content/PolisiTidur26.mp4: 384x640 1 PolisiTidurWarna, 9.7ms\n",
            "video 1/1 (frame 163/807) /content/PolisiTidur26.mp4: 384x640 1 PolisiTidurWarna, 9.2ms\n",
            "video 1/1 (frame 164/807) /content/PolisiTidur26.mp4: 384x640 1 PolisiTidurWarna, 9.2ms\n",
            "video 1/1 (frame 165/807) /content/PolisiTidur26.mp4: 384x640 1 PolisiTidurWarna, 9.4ms\n",
            "video 1/1 (frame 166/807) /content/PolisiTidur26.mp4: 384x640 1 PolisiTidurWarna, 13.9ms\n",
            "video 1/1 (frame 167/807) /content/PolisiTidur26.mp4: 384x640 1 PolisiTidurWarna, 13.0ms\n",
            "video 1/1 (frame 168/807) /content/PolisiTidur26.mp4: 384x640 1 PolisiTidurWarna, 8.9ms\n",
            "video 1/1 (frame 169/807) /content/PolisiTidur26.mp4: 384x640 1 PolisiTidurWarna, 10.4ms\n",
            "video 1/1 (frame 170/807) /content/PolisiTidur26.mp4: 384x640 1 PolisiTidurWarna, 9.7ms\n",
            "video 1/1 (frame 171/807) /content/PolisiTidur26.mp4: 384x640 1 PolisiTidurWarna, 9.5ms\n",
            "video 1/1 (frame 172/807) /content/PolisiTidur26.mp4: 384x640 1 PolisiTidurWarna, 9.7ms\n",
            "video 1/1 (frame 173/807) /content/PolisiTidur26.mp4: 384x640 1 PolisiTidurWarna, 7.5ms\n",
            "video 1/1 (frame 174/807) /content/PolisiTidur26.mp4: 384x640 1 PolisiTidurWarna, 10.0ms\n",
            "video 1/1 (frame 175/807) /content/PolisiTidur26.mp4: 384x640 1 PolisiTidurWarna, 10.3ms\n",
            "video 1/1 (frame 176/807) /content/PolisiTidur26.mp4: 384x640 1 PolisiTidurWarna, 11.0ms\n",
            "video 1/1 (frame 177/807) /content/PolisiTidur26.mp4: 384x640 1 PolisiTidurWarna, 9.5ms\n",
            "video 1/1 (frame 178/807) /content/PolisiTidur26.mp4: 384x640 1 PolisiTidurWarna, 9.8ms\n",
            "video 1/1 (frame 179/807) /content/PolisiTidur26.mp4: 384x640 1 PolisiTidurWarna, 9.9ms\n",
            "video 1/1 (frame 180/807) /content/PolisiTidur26.mp4: 384x640 1 PolisiTidurWarna, 9.7ms\n",
            "video 1/1 (frame 181/807) /content/PolisiTidur26.mp4: 384x640 1 PolisiTidurWarna, 8.5ms\n",
            "video 1/1 (frame 182/807) /content/PolisiTidur26.mp4: 384x640 1 PolisiTidurWarna, 9.3ms\n",
            "video 1/1 (frame 183/807) /content/PolisiTidur26.mp4: 384x640 1 PolisiTidurWarna, 8.5ms\n",
            "video 1/1 (frame 184/807) /content/PolisiTidur26.mp4: 384x640 1 PolisiTidurWarna, 18.8ms\n",
            "video 1/1 (frame 185/807) /content/PolisiTidur26.mp4: 384x640 1 PolisiTidurWarna, 11.6ms\n",
            "video 1/1 (frame 186/807) /content/PolisiTidur26.mp4: 384x640 1 PolisiTidurWarna, 9.2ms\n",
            "video 1/1 (frame 187/807) /content/PolisiTidur26.mp4: 384x640 1 PolisiTidurWarna, 9.6ms\n",
            "video 1/1 (frame 188/807) /content/PolisiTidur26.mp4: 384x640 1 PolisiTidurWarna, 9.8ms\n",
            "video 1/1 (frame 189/807) /content/PolisiTidur26.mp4: 384x640 1 PolisiTidurWarna, 9.7ms\n",
            "video 1/1 (frame 190/807) /content/PolisiTidur26.mp4: 384x640 1 PolisiTidurWarna, 9.8ms\n",
            "video 1/1 (frame 191/807) /content/PolisiTidur26.mp4: 384x640 1 PolisiTidurWarna, 8.7ms\n",
            "video 1/1 (frame 192/807) /content/PolisiTidur26.mp4: 384x640 1 PolisiTidurWarna, 11.1ms\n",
            "video 1/1 (frame 193/807) /content/PolisiTidur26.mp4: 384x640 1 PolisiTidurWarna, 9.1ms\n",
            "video 1/1 (frame 194/807) /content/PolisiTidur26.mp4: 384x640 1 PolisiTidurWarna, 9.5ms\n",
            "video 1/1 (frame 195/807) /content/PolisiTidur26.mp4: 384x640 1 PolisiTidurWarna, 8.4ms\n",
            "video 1/1 (frame 196/807) /content/PolisiTidur26.mp4: 384x640 1 PolisiTidurWarna, 10.3ms\n",
            "video 1/1 (frame 197/807) /content/PolisiTidur26.mp4: 384x640 1 PolisiTidurWarna, 9.1ms\n",
            "video 1/1 (frame 198/807) /content/PolisiTidur26.mp4: 384x640 1 PolisiTidurWarna, 10.9ms\n",
            "video 1/1 (frame 199/807) /content/PolisiTidur26.mp4: 384x640 1 PolisiTidurWarna, 10.7ms\n",
            "video 1/1 (frame 200/807) /content/PolisiTidur26.mp4: 384x640 1 PolisiTidurWarna, 11.1ms\n",
            "video 1/1 (frame 201/807) /content/PolisiTidur26.mp4: 384x640 1 PolisiTidurWarna, 11.3ms\n",
            "video 1/1 (frame 202/807) /content/PolisiTidur26.mp4: 384x640 1 PolisiTidurWarna, 13.9ms\n",
            "video 1/1 (frame 203/807) /content/PolisiTidur26.mp4: 384x640 1 PolisiTidurWarna, 10.2ms\n",
            "video 1/1 (frame 204/807) /content/PolisiTidur26.mp4: 384x640 1 PolisiTidurWarna, 9.9ms\n",
            "video 1/1 (frame 205/807) /content/PolisiTidur26.mp4: 384x640 1 PolisiTidurWarna, 9.3ms\n",
            "video 1/1 (frame 206/807) /content/PolisiTidur26.mp4: 384x640 1 PolisiTidurWarna, 9.4ms\n",
            "video 1/1 (frame 207/807) /content/PolisiTidur26.mp4: 384x640 1 PolisiTidurWarna, 9.9ms\n",
            "video 1/1 (frame 208/807) /content/PolisiTidur26.mp4: 384x640 1 PolisiTidurWarna, 8.9ms\n",
            "video 1/1 (frame 209/807) /content/PolisiTidur26.mp4: 384x640 1 PolisiTidurWarna, 8.8ms\n",
            "video 1/1 (frame 210/807) /content/PolisiTidur26.mp4: 384x640 1 PolisiTidurWarna, 8.6ms\n",
            "video 1/1 (frame 211/807) /content/PolisiTidur26.mp4: 384x640 1 PolisiTidurWarna, 9.7ms\n",
            "video 1/1 (frame 212/807) /content/PolisiTidur26.mp4: 384x640 1 PolisiTidurWarna, 9.1ms\n",
            "video 1/1 (frame 213/807) /content/PolisiTidur26.mp4: 384x640 1 PolisiTidurWarna, 9.6ms\n",
            "video 1/1 (frame 214/807) /content/PolisiTidur26.mp4: 384x640 1 PolisiTidurWarna, 9.8ms\n",
            "video 1/1 (frame 215/807) /content/PolisiTidur26.mp4: 384x640 1 PolisiTidurWarna, 9.1ms\n",
            "video 1/1 (frame 216/807) /content/PolisiTidur26.mp4: 384x640 1 PolisiTidurWarna, 8.9ms\n",
            "video 1/1 (frame 217/807) /content/PolisiTidur26.mp4: 384x640 1 PolisiTidurWarna, 9.4ms\n",
            "video 1/1 (frame 218/807) /content/PolisiTidur26.mp4: 384x640 1 PolisiTidurWarna, 9.4ms\n",
            "video 1/1 (frame 219/807) /content/PolisiTidur26.mp4: 384x640 1 PolisiTidurWarna, 13.0ms\n",
            "video 1/1 (frame 220/807) /content/PolisiTidur26.mp4: 384x640 1 PolisiTidurWarna, 9.6ms\n",
            "video 1/1 (frame 221/807) /content/PolisiTidur26.mp4: 384x640 1 PolisiTidurWarna, 9.6ms\n",
            "video 1/1 (frame 222/807) /content/PolisiTidur26.mp4: 384x640 2 PolisiTidurWarnas, 9.9ms\n",
            "video 1/1 (frame 223/807) /content/PolisiTidur26.mp4: 384x640 1 PolisiTidurWarna, 9.5ms\n",
            "video 1/1 (frame 224/807) /content/PolisiTidur26.mp4: 384x640 1 PolisiTidurWarna, 9.1ms\n",
            "video 1/1 (frame 225/807) /content/PolisiTidur26.mp4: 384x640 1 PolisiTidurWarna, 10.1ms\n",
            "video 1/1 (frame 226/807) /content/PolisiTidur26.mp4: 384x640 1 PolisiTidurWarna, 14.7ms\n",
            "video 1/1 (frame 227/807) /content/PolisiTidur26.mp4: 384x640 1 PolisiTidurWarna, 9.3ms\n",
            "video 1/1 (frame 228/807) /content/PolisiTidur26.mp4: 384x640 1 PolisiTidurWarna, 9.0ms\n",
            "video 1/1 (frame 229/807) /content/PolisiTidur26.mp4: 384x640 1 PolisiTidurWarna, 9.4ms\n",
            "video 1/1 (frame 230/807) /content/PolisiTidur26.mp4: 384x640 1 PolisiTidurWarna, 10.0ms\n",
            "video 1/1 (frame 231/807) /content/PolisiTidur26.mp4: 384x640 1 PolisiTidurWarna, 10.1ms\n",
            "video 1/1 (frame 232/807) /content/PolisiTidur26.mp4: 384x640 1 PolisiTidurWarna, 9.2ms\n",
            "video 1/1 (frame 233/807) /content/PolisiTidur26.mp4: 384x640 1 PolisiTidurWarna, 9.0ms\n",
            "video 1/1 (frame 234/807) /content/PolisiTidur26.mp4: 384x640 1 PolisiTidurWarna, 9.5ms\n",
            "video 1/1 (frame 235/807) /content/PolisiTidur26.mp4: 384x640 1 PolisiTidurWarna, 13.1ms\n",
            "video 1/1 (frame 236/807) /content/PolisiTidur26.mp4: 384x640 1 PolisiTidurWarna, 14.6ms\n",
            "video 1/1 (frame 237/807) /content/PolisiTidur26.mp4: 384x640 1 PolisiTidurWarna, 10.0ms\n",
            "video 1/1 (frame 238/807) /content/PolisiTidur26.mp4: 384x640 1 PolisiTidurWarna, 10.8ms\n",
            "video 1/1 (frame 239/807) /content/PolisiTidur26.mp4: 384x640 1 PolisiTidurWarna, 10.3ms\n",
            "video 1/1 (frame 240/807) /content/PolisiTidur26.mp4: 384x640 2 PolisiTidurWarnas, 9.0ms\n",
            "video 1/1 (frame 241/807) /content/PolisiTidur26.mp4: 384x640 2 PolisiTidurWarnas, 9.4ms\n",
            "video 1/1 (frame 242/807) /content/PolisiTidur26.mp4: 384x640 2 PolisiTidurWarnas, 7.7ms\n",
            "video 1/1 (frame 243/807) /content/PolisiTidur26.mp4: 384x640 2 PolisiTidurWarnas, 12.1ms\n",
            "video 1/1 (frame 244/807) /content/PolisiTidur26.mp4: 384x640 2 PolisiTidurWarnas, 9.5ms\n",
            "video 1/1 (frame 245/807) /content/PolisiTidur26.mp4: 384x640 2 PolisiTidurWarnas, 10.0ms\n",
            "video 1/1 (frame 246/807) /content/PolisiTidur26.mp4: 384x640 2 PolisiTidurWarnas, 8.9ms\n",
            "video 1/1 (frame 247/807) /content/PolisiTidur26.mp4: 384x640 1 PolisiTidurWarna, 10.6ms\n",
            "video 1/1 (frame 248/807) /content/PolisiTidur26.mp4: 384x640 2 PolisiTidurWarnas, 8.5ms\n",
            "video 1/1 (frame 249/807) /content/PolisiTidur26.mp4: 384x640 1 PolisiTidurWarna, 10.6ms\n",
            "video 1/1 (frame 250/807) /content/PolisiTidur26.mp4: 384x640 1 PolisiTidurWarna, 11.3ms\n",
            "video 1/1 (frame 251/807) /content/PolisiTidur26.mp4: 384x640 2 PolisiTidurWarnas, 8.9ms\n",
            "video 1/1 (frame 252/807) /content/PolisiTidur26.mp4: 384x640 2 PolisiTidurWarnas, 15.8ms\n",
            "video 1/1 (frame 253/807) /content/PolisiTidur26.mp4: 384x640 1 PolisiTidurWarna, 12.8ms\n",
            "video 1/1 (frame 254/807) /content/PolisiTidur26.mp4: 384x640 1 PolisiTidurWarna, 17.7ms\n",
            "video 1/1 (frame 255/807) /content/PolisiTidur26.mp4: 384x640 2 PolisiTidurWarnas, 9.3ms\n",
            "video 1/1 (frame 256/807) /content/PolisiTidur26.mp4: 384x640 2 PolisiTidurWarnas, 16.3ms\n",
            "video 1/1 (frame 257/807) /content/PolisiTidur26.mp4: 384x640 2 PolisiTidurWarnas, 9.5ms\n",
            "video 1/1 (frame 258/807) /content/PolisiTidur26.mp4: 384x640 2 PolisiTidurWarnas, 9.0ms\n",
            "video 1/1 (frame 259/807) /content/PolisiTidur26.mp4: 384x640 2 PolisiTidurWarnas, 9.3ms\n",
            "video 1/1 (frame 260/807) /content/PolisiTidur26.mp4: 384x640 2 PolisiTidurWarnas, 10.9ms\n",
            "video 1/1 (frame 261/807) /content/PolisiTidur26.mp4: 384x640 2 PolisiTidurWarnas, 8.9ms\n",
            "video 1/1 (frame 262/807) /content/PolisiTidur26.mp4: 384x640 2 PolisiTidurWarnas, 16.7ms\n",
            "video 1/1 (frame 263/807) /content/PolisiTidur26.mp4: 384x640 2 PolisiTidurWarnas, 8.8ms\n",
            "video 1/1 (frame 264/807) /content/PolisiTidur26.mp4: 384x640 2 PolisiTidurWarnas, 16.3ms\n",
            "video 1/1 (frame 265/807) /content/PolisiTidur26.mp4: 384x640 2 PolisiTidurWarnas, 13.8ms\n",
            "video 1/1 (frame 266/807) /content/PolisiTidur26.mp4: 384x640 2 PolisiTidurWarnas, 15.2ms\n",
            "video 1/1 (frame 267/807) /content/PolisiTidur26.mp4: 384x640 2 PolisiTidurWarnas, 12.8ms\n",
            "video 1/1 (frame 268/807) /content/PolisiTidur26.mp4: 384x640 2 PolisiTidurWarnas, 18.8ms\n",
            "video 1/1 (frame 269/807) /content/PolisiTidur26.mp4: 384x640 2 PolisiTidurWarnas, 12.1ms\n",
            "video 1/1 (frame 270/807) /content/PolisiTidur26.mp4: 384x640 2 PolisiTidurWarnas, 8.8ms\n",
            "video 1/1 (frame 271/807) /content/PolisiTidur26.mp4: 384x640 2 PolisiTidurWarnas, 12.8ms\n",
            "video 1/1 (frame 272/807) /content/PolisiTidur26.mp4: 384x640 1 PolisiTidurWarna, 18.8ms\n",
            "video 1/1 (frame 273/807) /content/PolisiTidur26.mp4: 384x640 2 PolisiTidurWarnas, 19.2ms\n",
            "video 1/1 (frame 274/807) /content/PolisiTidur26.mp4: 384x640 2 PolisiTidurWarnas, 11.3ms\n",
            "video 1/1 (frame 275/807) /content/PolisiTidur26.mp4: 384x640 2 PolisiTidurWarnas, 10.4ms\n",
            "video 1/1 (frame 276/807) /content/PolisiTidur26.mp4: 384x640 2 PolisiTidurWarnas, 18.1ms\n",
            "video 1/1 (frame 277/807) /content/PolisiTidur26.mp4: 384x640 2 PolisiTidurWarnas, 9.9ms\n",
            "video 1/1 (frame 278/807) /content/PolisiTidur26.mp4: 384x640 2 PolisiTidurWarnas, 9.9ms\n",
            "video 1/1 (frame 279/807) /content/PolisiTidur26.mp4: 384x640 2 PolisiTidurWarnas, 9.9ms\n",
            "video 1/1 (frame 280/807) /content/PolisiTidur26.mp4: 384x640 2 PolisiTidurWarnas, 14.2ms\n",
            "video 1/1 (frame 281/807) /content/PolisiTidur26.mp4: 384x640 2 PolisiTidurWarnas, 16.9ms\n",
            "video 1/1 (frame 282/807) /content/PolisiTidur26.mp4: 384x640 2 PolisiTidurWarnas, 17.3ms\n",
            "video 1/1 (frame 283/807) /content/PolisiTidur26.mp4: 384x640 2 PolisiTidurWarnas, 11.3ms\n",
            "video 1/1 (frame 284/807) /content/PolisiTidur26.mp4: 384x640 2 PolisiTidurWarnas, 16.6ms\n",
            "video 1/1 (frame 285/807) /content/PolisiTidur26.mp4: 384x640 2 PolisiTidurWarnas, 10.3ms\n",
            "video 1/1 (frame 286/807) /content/PolisiTidur26.mp4: 384x640 2 PolisiTidurWarnas, 16.4ms\n",
            "video 1/1 (frame 287/807) /content/PolisiTidur26.mp4: 384x640 2 PolisiTidurWarnas, 9.7ms\n",
            "video 1/1 (frame 288/807) /content/PolisiTidur26.mp4: 384x640 1 PolisiTidurWarna, 16.0ms\n",
            "video 1/1 (frame 289/807) /content/PolisiTidur26.mp4: 384x640 1 PolisiTidurWarna, 10.0ms\n",
            "video 1/1 (frame 290/807) /content/PolisiTidur26.mp4: 384x640 1 PolisiTidurWarna, 13.0ms\n",
            "video 1/1 (frame 291/807) /content/PolisiTidur26.mp4: 384x640 2 PolisiTidurWarnas, 13.1ms\n",
            "video 1/1 (frame 292/807) /content/PolisiTidur26.mp4: 384x640 2 PolisiTidurWarnas, 16.4ms\n",
            "video 1/1 (frame 293/807) /content/PolisiTidur26.mp4: 384x640 2 PolisiTidurWarnas, 10.0ms\n",
            "video 1/1 (frame 294/807) /content/PolisiTidur26.mp4: 384x640 2 PolisiTidurWarnas, 17.4ms\n",
            "video 1/1 (frame 295/807) /content/PolisiTidur26.mp4: 384x640 2 PolisiTidurWarnas, 9.9ms\n",
            "video 1/1 (frame 296/807) /content/PolisiTidur26.mp4: 384x640 2 PolisiTidurWarnas, 17.1ms\n",
            "video 1/1 (frame 297/807) /content/PolisiTidur26.mp4: 384x640 1 PolisiTidurWarna, 9.6ms\n",
            "video 1/1 (frame 298/807) /content/PolisiTidur26.mp4: 384x640 1 PolisiTidurWarna, 18.7ms\n",
            "video 1/1 (frame 299/807) /content/PolisiTidur26.mp4: 384x640 1 PolisiTidurWarna, 11.0ms\n",
            "video 1/1 (frame 300/807) /content/PolisiTidur26.mp4: 384x640 1 PolisiTidurWarna, 11.0ms\n",
            "video 1/1 (frame 301/807) /content/PolisiTidur26.mp4: 384x640 1 PolisiTidurWarna, 12.3ms\n",
            "video 1/1 (frame 302/807) /content/PolisiTidur26.mp4: 384x640 1 PolisiTidurWarna, 17.5ms\n",
            "video 1/1 (frame 303/807) /content/PolisiTidur26.mp4: 384x640 1 PolisiTidurWarna, 13.5ms\n",
            "video 1/1 (frame 304/807) /content/PolisiTidur26.mp4: 384x640 1 PolisiTidurWarna, 16.5ms\n",
            "video 1/1 (frame 305/807) /content/PolisiTidur26.mp4: 384x640 1 PolisiTidurWarna, 13.6ms\n",
            "video 1/1 (frame 306/807) /content/PolisiTidur26.mp4: 384x640 1 PolisiTidurWarna, 10.4ms\n",
            "video 1/1 (frame 307/807) /content/PolisiTidur26.mp4: 384x640 1 PolisiTidurWarna, 11.7ms\n",
            "video 1/1 (frame 308/807) /content/PolisiTidur26.mp4: 384x640 1 PolisiTidurWarna, 10.5ms\n",
            "video 1/1 (frame 309/807) /content/PolisiTidur26.mp4: 384x640 1 PolisiTidurWarna, 11.1ms\n",
            "video 1/1 (frame 310/807) /content/PolisiTidur26.mp4: 384x640 1 PolisiTidurWarna, 10.1ms\n",
            "video 1/1 (frame 311/807) /content/PolisiTidur26.mp4: 384x640 1 PolisiTidurWarna, 22.4ms\n",
            "video 1/1 (frame 312/807) /content/PolisiTidur26.mp4: 384x640 1 PolisiTidurWarna, 16.8ms\n",
            "video 1/1 (frame 313/807) /content/PolisiTidur26.mp4: 384x640 2 PolisiTidurWarnas, 11.4ms\n",
            "video 1/1 (frame 314/807) /content/PolisiTidur26.mp4: 384x640 1 PolisiTidurWarna, 12.9ms\n",
            "video 1/1 (frame 315/807) /content/PolisiTidur26.mp4: 384x640 1 PolisiTidurWarna, 10.8ms\n",
            "video 1/1 (frame 316/807) /content/PolisiTidur26.mp4: 384x640 2 PolisiTidurWarnas, 13.1ms\n",
            "video 1/1 (frame 317/807) /content/PolisiTidur26.mp4: 384x640 2 PolisiTidurWarnas, 12.8ms\n",
            "video 1/1 (frame 318/807) /content/PolisiTidur26.mp4: 384x640 1 PolisiTidurWarna, 21.6ms\n",
            "video 1/1 (frame 319/807) /content/PolisiTidur26.mp4: 384x640 1 PolisiTidurWarna, 15.4ms\n",
            "video 1/1 (frame 320/807) /content/PolisiTidur26.mp4: 384x640 1 PolisiTidurWarna, 13.5ms\n",
            "video 1/1 (frame 321/807) /content/PolisiTidur26.mp4: 384x640 1 PolisiTidurWarna, 15.6ms\n",
            "video 1/1 (frame 322/807) /content/PolisiTidur26.mp4: 384x640 1 PolisiTidurWarna, 16.4ms\n",
            "video 1/1 (frame 323/807) /content/PolisiTidur26.mp4: 384x640 1 PolisiTidurWarna, 21.4ms\n",
            "video 1/1 (frame 324/807) /content/PolisiTidur26.mp4: 384x640 1 PolisiTidurWarna, 10.4ms\n",
            "video 1/1 (frame 325/807) /content/PolisiTidur26.mp4: 384x640 2 PolisiTidurWarnas, 8.0ms\n",
            "video 1/1 (frame 326/807) /content/PolisiTidur26.mp4: 384x640 1 PolisiTidurWarna, 9.4ms\n",
            "video 1/1 (frame 327/807) /content/PolisiTidur26.mp4: 384x640 1 PolisiTidurWarna, 10.6ms\n",
            "video 1/1 (frame 328/807) /content/PolisiTidur26.mp4: 384x640 1 PolisiTidurWarna, 10.3ms\n",
            "video 1/1 (frame 329/807) /content/PolisiTidur26.mp4: 384x640 1 PolisiTidurWarna, 8.8ms\n",
            "video 1/1 (frame 330/807) /content/PolisiTidur26.mp4: 384x640 1 PolisiTidurWarna, 9.9ms\n",
            "video 1/1 (frame 331/807) /content/PolisiTidur26.mp4: 384x640 1 PolisiTidurWarna, 9.1ms\n",
            "video 1/1 (frame 332/807) /content/PolisiTidur26.mp4: 384x640 1 PolisiTidurWarna, 9.8ms\n",
            "video 1/1 (frame 333/807) /content/PolisiTidur26.mp4: 384x640 1 PolisiTidurWarna, 9.0ms\n",
            "video 1/1 (frame 334/807) /content/PolisiTidur26.mp4: 384x640 1 PolisiTidurWarna, 9.4ms\n",
            "video 1/1 (frame 335/807) /content/PolisiTidur26.mp4: 384x640 1 PolisiTidurWarna, 10.9ms\n",
            "video 1/1 (frame 336/807) /content/PolisiTidur26.mp4: 384x640 1 PolisiTidurWarna, 13.2ms\n",
            "video 1/1 (frame 337/807) /content/PolisiTidur26.mp4: 384x640 1 PolisiTidurWarna, 9.0ms\n",
            "video 1/1 (frame 338/807) /content/PolisiTidur26.mp4: 384x640 2 PolisiTidurWarnas, 9.5ms\n",
            "video 1/1 (frame 339/807) /content/PolisiTidur26.mp4: 384x640 1 PolisiTidurWarna, 10.1ms\n",
            "video 1/1 (frame 340/807) /content/PolisiTidur26.mp4: 384x640 1 PolisiTidurWarna, 9.2ms\n",
            "video 1/1 (frame 341/807) /content/PolisiTidur26.mp4: 384x640 1 PolisiTidurWarna, 9.1ms\n",
            "video 1/1 (frame 342/807) /content/PolisiTidur26.mp4: 384x640 2 PolisiTidurWarnas, 11.8ms\n",
            "video 1/1 (frame 343/807) /content/PolisiTidur26.mp4: 384x640 1 PolisiTidurWarna, 12.3ms\n",
            "video 1/1 (frame 344/807) /content/PolisiTidur26.mp4: 384x640 1 PolisiTidurWarna, 9.4ms\n",
            "video 1/1 (frame 345/807) /content/PolisiTidur26.mp4: 384x640 1 PolisiTidurWarna, 9.2ms\n",
            "video 1/1 (frame 346/807) /content/PolisiTidur26.mp4: 384x640 1 PolisiTidurWarna, 9.7ms\n",
            "video 1/1 (frame 347/807) /content/PolisiTidur26.mp4: 384x640 1 PolisiTidurWarna, 8.6ms\n",
            "video 1/1 (frame 348/807) /content/PolisiTidur26.mp4: 384x640 1 PolisiTidurWarna, 8.8ms\n",
            "video 1/1 (frame 349/807) /content/PolisiTidur26.mp4: 384x640 2 PolisiTidurWarnas, 8.9ms\n",
            "video 1/1 (frame 350/807) /content/PolisiTidur26.mp4: 384x640 1 PolisiTidurWarna, 9.5ms\n",
            "video 1/1 (frame 351/807) /content/PolisiTidur26.mp4: 384x640 2 PolisiTidurWarnas, 9.1ms\n",
            "video 1/1 (frame 352/807) /content/PolisiTidur26.mp4: 384x640 2 PolisiTidurWarnas, 6.9ms\n",
            "video 1/1 (frame 353/807) /content/PolisiTidur26.mp4: 384x640 3 PolisiTidurWarnas, 8.8ms\n",
            "video 1/1 (frame 354/807) /content/PolisiTidur26.mp4: 384x640 1 PolisiTidurWarna, 9.4ms\n",
            "video 1/1 (frame 355/807) /content/PolisiTidur26.mp4: 384x640 1 PolisiTidurWarna, 8.8ms\n",
            "video 1/1 (frame 356/807) /content/PolisiTidur26.mp4: 384x640 1 PolisiTidurWarna, 9.6ms\n",
            "video 1/1 (frame 357/807) /content/PolisiTidur26.mp4: 384x640 1 PolisiTidurWarna, 9.7ms\n",
            "video 1/1 (frame 358/807) /content/PolisiTidur26.mp4: 384x640 1 PolisiTidurWarna, 9.5ms\n",
            "video 1/1 (frame 359/807) /content/PolisiTidur26.mp4: 384x640 1 PolisiTidurWarna, 18.0ms\n",
            "video 1/1 (frame 360/807) /content/PolisiTidur26.mp4: 384x640 1 PolisiTidurWarna, 11.0ms\n",
            "video 1/1 (frame 361/807) /content/PolisiTidur26.mp4: 384x640 1 PolisiTidurWarna, 8.3ms\n",
            "video 1/1 (frame 362/807) /content/PolisiTidur26.mp4: 384x640 1 PolisiTidurWarna, 9.6ms\n",
            "video 1/1 (frame 363/807) /content/PolisiTidur26.mp4: 384x640 1 PolisiTidurWarna, 9.5ms\n",
            "video 1/1 (frame 364/807) /content/PolisiTidur26.mp4: 384x640 1 PolisiTidurWarna, 8.5ms\n",
            "video 1/1 (frame 365/807) /content/PolisiTidur26.mp4: 384x640 2 PolisiTidurWarnas, 14.9ms\n",
            "video 1/1 (frame 366/807) /content/PolisiTidur26.mp4: 384x640 2 PolisiTidurWarnas, 8.4ms\n",
            "video 1/1 (frame 367/807) /content/PolisiTidur26.mp4: 384x640 1 PolisiTidurWarna, 8.9ms\n",
            "video 1/1 (frame 368/807) /content/PolisiTidur26.mp4: 384x640 1 PolisiTidurWarna, 6.8ms\n",
            "video 1/1 (frame 369/807) /content/PolisiTidur26.mp4: 384x640 1 PolisiTidurWarna, 9.2ms\n",
            "video 1/1 (frame 370/807) /content/PolisiTidur26.mp4: 384x640 2 PolisiTidurWarnas, 9.3ms\n",
            "video 1/1 (frame 371/807) /content/PolisiTidur26.mp4: 384x640 1 PolisiTidurWarna, 8.6ms\n",
            "video 1/1 (frame 372/807) /content/PolisiTidur26.mp4: 384x640 1 PolisiTidurWarna, 6.7ms\n",
            "video 1/1 (frame 373/807) /content/PolisiTidur26.mp4: 384x640 2 PolisiTidurWarnas, 6.5ms\n",
            "video 1/1 (frame 374/807) /content/PolisiTidur26.mp4: 384x640 2 PolisiTidurWarnas, 9.4ms\n",
            "video 1/1 (frame 375/807) /content/PolisiTidur26.mp4: 384x640 2 PolisiTidurWarnas, 10.4ms\n",
            "video 1/1 (frame 376/807) /content/PolisiTidur26.mp4: 384x640 1 PolisiTidurWarna, 14.4ms\n",
            "video 1/1 (frame 377/807) /content/PolisiTidur26.mp4: 384x640 2 PolisiTidurWarnas, 8.0ms\n",
            "video 1/1 (frame 378/807) /content/PolisiTidur26.mp4: 384x640 2 PolisiTidurWarnas, 9.3ms\n",
            "video 1/1 (frame 379/807) /content/PolisiTidur26.mp4: 384x640 2 PolisiTidurWarnas, 8.0ms\n",
            "video 1/1 (frame 380/807) /content/PolisiTidur26.mp4: 384x640 1 PolisiTidurWarna, 9.6ms\n",
            "video 1/1 (frame 381/807) /content/PolisiTidur26.mp4: 384x640 1 PolisiTidurWarna, 9.8ms\n",
            "video 1/1 (frame 382/807) /content/PolisiTidur26.mp4: 384x640 1 PolisiTidurWarna, 7.0ms\n",
            "video 1/1 (frame 383/807) /content/PolisiTidur26.mp4: 384x640 2 PolisiTidurWarnas, 8.7ms\n",
            "video 1/1 (frame 384/807) /content/PolisiTidur26.mp4: 384x640 2 PolisiTidurWarnas, 9.8ms\n",
            "video 1/1 (frame 385/807) /content/PolisiTidur26.mp4: 384x640 2 PolisiTidurWarnas, 7.2ms\n",
            "video 1/1 (frame 386/807) /content/PolisiTidur26.mp4: 384x640 2 PolisiTidurWarnas, 9.1ms\n",
            "video 1/1 (frame 387/807) /content/PolisiTidur26.mp4: 384x640 1 PolisiTidurWarna, 7.0ms\n",
            "video 1/1 (frame 388/807) /content/PolisiTidur26.mp4: 384x640 1 PolisiTidurWarna, 10.9ms\n",
            "video 1/1 (frame 389/807) /content/PolisiTidur26.mp4: 384x640 1 PolisiTidurWarna, 7.7ms\n",
            "video 1/1 (frame 390/807) /content/PolisiTidur26.mp4: 384x640 1 PolisiTidurWarna, 9.1ms\n",
            "video 1/1 (frame 391/807) /content/PolisiTidur26.mp4: 384x640 2 PolisiTidurWarnas, 9.1ms\n",
            "video 1/1 (frame 392/807) /content/PolisiTidur26.mp4: 384x640 2 PolisiTidurWarnas, 9.1ms\n",
            "video 1/1 (frame 393/807) /content/PolisiTidur26.mp4: 384x640 1 PolisiTidurWarna, 7.0ms\n",
            "video 1/1 (frame 394/807) /content/PolisiTidur26.mp4: 384x640 1 PolisiTidurWarna, 7.7ms\n",
            "video 1/1 (frame 395/807) /content/PolisiTidur26.mp4: 384x640 2 PolisiTidurWarnas, 9.8ms\n",
            "video 1/1 (frame 396/807) /content/PolisiTidur26.mp4: 384x640 2 PolisiTidurWarnas, 7.2ms\n",
            "video 1/1 (frame 397/807) /content/PolisiTidur26.mp4: 384x640 2 PolisiTidurWarnas, 9.5ms\n",
            "video 1/1 (frame 398/807) /content/PolisiTidur26.mp4: 384x640 2 PolisiTidurWarnas, 10.1ms\n",
            "video 1/1 (frame 399/807) /content/PolisiTidur26.mp4: 384x640 1 PolisiTidurWarna, 8.5ms\n",
            "video 1/1 (frame 400/807) /content/PolisiTidur26.mp4: 384x640 1 PolisiTidurWarna, 10.1ms\n",
            "video 1/1 (frame 401/807) /content/PolisiTidur26.mp4: 384x640 3 PolisiTidurWarnas, 7.4ms\n",
            "video 1/1 (frame 402/807) /content/PolisiTidur26.mp4: 384x640 3 PolisiTidurWarnas, 14.2ms\n",
            "video 1/1 (frame 403/807) /content/PolisiTidur26.mp4: 384x640 3 PolisiTidurWarnas, 7.0ms\n",
            "video 1/1 (frame 404/807) /content/PolisiTidur26.mp4: 384x640 3 PolisiTidurWarnas, 9.9ms\n",
            "video 1/1 (frame 405/807) /content/PolisiTidur26.mp4: 384x640 3 PolisiTidurWarnas, 13.8ms\n",
            "video 1/1 (frame 406/807) /content/PolisiTidur26.mp4: 384x640 3 PolisiTidurWarnas, 10.1ms\n",
            "video 1/1 (frame 407/807) /content/PolisiTidur26.mp4: 384x640 2 PolisiTidurWarnas, 8.0ms\n",
            "video 1/1 (frame 408/807) /content/PolisiTidur26.mp4: 384x640 2 PolisiTidurWarnas, 13.3ms\n",
            "video 1/1 (frame 409/807) /content/PolisiTidur26.mp4: 384x640 1 PolisiTidurWarna, 10.1ms\n",
            "video 1/1 (frame 410/807) /content/PolisiTidur26.mp4: 384x640 1 PolisiTidurWarna, 10.2ms\n",
            "video 1/1 (frame 411/807) /content/PolisiTidur26.mp4: 384x640 1 PolisiTidurWarna, 9.5ms\n",
            "video 1/1 (frame 412/807) /content/PolisiTidur26.mp4: 384x640 1 PolisiTidurWarna, 10.6ms\n",
            "video 1/1 (frame 413/807) /content/PolisiTidur26.mp4: 384x640 2 PolisiTidurWarnas, 10.2ms\n",
            "video 1/1 (frame 414/807) /content/PolisiTidur26.mp4: 384x640 1 PolisiTidurWarna, 10.0ms\n",
            "video 1/1 (frame 415/807) /content/PolisiTidur26.mp4: 384x640 2 PolisiTidurWarnas, 8.6ms\n",
            "video 1/1 (frame 416/807) /content/PolisiTidur26.mp4: 384x640 1 PolisiTidurWarna, 10.3ms\n",
            "video 1/1 (frame 417/807) /content/PolisiTidur26.mp4: 384x640 2 PolisiTidurWarnas, 13.9ms\n",
            "video 1/1 (frame 418/807) /content/PolisiTidur26.mp4: 384x640 1 PolisiTidurWarna, 13.9ms\n",
            "video 1/1 (frame 419/807) /content/PolisiTidur26.mp4: 384x640 1 PolisiTidurWarna, 11.7ms\n",
            "video 1/1 (frame 420/807) /content/PolisiTidur26.mp4: 384x640 1 PolisiTidurWarna, 18.5ms\n",
            "video 1/1 (frame 421/807) /content/PolisiTidur26.mp4: 384x640 1 PolisiTidurWarna, 13.2ms\n",
            "video 1/1 (frame 422/807) /content/PolisiTidur26.mp4: 384x640 1 PolisiTidurWarna, 10.3ms\n",
            "video 1/1 (frame 423/807) /content/PolisiTidur26.mp4: 384x640 1 PolisiTidurWarna, 7.8ms\n",
            "video 1/1 (frame 424/807) /content/PolisiTidur26.mp4: 384x640 1 PolisiTidurWarna, 9.9ms\n",
            "video 1/1 (frame 425/807) /content/PolisiTidur26.mp4: 384x640 1 PolisiTidurWarna, 9.7ms\n",
            "video 1/1 (frame 426/807) /content/PolisiTidur26.mp4: 384x640 1 PolisiTidurWarna, 9.2ms\n",
            "video 1/1 (frame 427/807) /content/PolisiTidur26.mp4: 384x640 2 PolisiTidurWarnas, 8.0ms\n",
            "video 1/1 (frame 428/807) /content/PolisiTidur26.mp4: 384x640 1 PolisiTidurWarna, 10.4ms\n",
            "video 1/1 (frame 429/807) /content/PolisiTidur26.mp4: 384x640 1 PolisiTidurWarna, 9.7ms\n",
            "video 1/1 (frame 430/807) /content/PolisiTidur26.mp4: 384x640 1 PolisiTidurWarna, 9.4ms\n",
            "video 1/1 (frame 431/807) /content/PolisiTidur26.mp4: 384x640 2 PolisiTidurPoloss, 6.8ms\n",
            "video 1/1 (frame 432/807) /content/PolisiTidur26.mp4: 384x640 2 PolisiTidurPoloss, 8.5ms\n",
            "video 1/1 (frame 433/807) /content/PolisiTidur26.mp4: 384x640 1 PolisiTidurPolos, 8.7ms\n",
            "video 1/1 (frame 434/807) /content/PolisiTidur26.mp4: 384x640 2 PolisiTidurPoloss, 9.8ms\n",
            "video 1/1 (frame 435/807) /content/PolisiTidur26.mp4: 384x640 1 PolisiTidurPolos, 7.1ms\n",
            "video 1/1 (frame 436/807) /content/PolisiTidur26.mp4: 384x640 1 PolisiTidurPolos, 10.4ms\n",
            "video 1/1 (frame 437/807) /content/PolisiTidur26.mp4: 384x640 1 PolisiTidurPolos, 6.8ms\n",
            "video 1/1 (frame 438/807) /content/PolisiTidur26.mp4: 384x640 1 PolisiTidurPolos, 9.7ms\n",
            "video 1/1 (frame 439/807) /content/PolisiTidur26.mp4: 384x640 1 PolisiTidurPolos, 8.1ms\n",
            "video 1/1 (frame 440/807) /content/PolisiTidur26.mp4: 384x640 2 PolisiTidurPoloss, 12.0ms\n",
            "video 1/1 (frame 441/807) /content/PolisiTidur26.mp4: 384x640 2 PolisiTidurPoloss, 9.8ms\n",
            "video 1/1 (frame 442/807) /content/PolisiTidur26.mp4: 384x640 1 PolisiTidurPolos, 9.2ms\n",
            "video 1/1 (frame 443/807) /content/PolisiTidur26.mp4: 384x640 2 PolisiTidurPoloss, 9.9ms\n",
            "video 1/1 (frame 444/807) /content/PolisiTidur26.mp4: 384x640 1 PolisiTidurPolos, 8.8ms\n",
            "video 1/1 (frame 445/807) /content/PolisiTidur26.mp4: 384x640 3 PolisiTidurPoloss, 9.3ms\n",
            "video 1/1 (frame 446/807) /content/PolisiTidur26.mp4: 384x640 2 PolisiTidurPoloss, 9.1ms\n",
            "video 1/1 (frame 447/807) /content/PolisiTidur26.mp4: 384x640 1 PolisiTidurPolos, 9.4ms\n",
            "video 1/1 (frame 448/807) /content/PolisiTidur26.mp4: 384x640 2 PolisiTidurPoloss, 9.2ms\n",
            "video 1/1 (frame 449/807) /content/PolisiTidur26.mp4: 384x640 2 PolisiTidurPoloss, 9.1ms\n",
            "video 1/1 (frame 450/807) /content/PolisiTidur26.mp4: 384x640 2 PolisiTidurPoloss, 9.4ms\n",
            "video 1/1 (frame 451/807) /content/PolisiTidur26.mp4: 384x640 2 PolisiTidurPoloss, 11.7ms\n",
            "video 1/1 (frame 452/807) /content/PolisiTidur26.mp4: 384x640 2 PolisiTidurPoloss, 9.3ms\n",
            "video 1/1 (frame 453/807) /content/PolisiTidur26.mp4: 384x640 2 PolisiTidurPoloss, 16.4ms\n",
            "video 1/1 (frame 454/807) /content/PolisiTidur26.mp4: 384x640 1 PolisiTidurPolos, 15.9ms\n",
            "video 1/1 (frame 455/807) /content/PolisiTidur26.mp4: 384x640 1 PolisiTidurPolos, 10.0ms\n",
            "video 1/1 (frame 456/807) /content/PolisiTidur26.mp4: 384x640 1 PolisiTidurPolos, 9.2ms\n",
            "video 1/1 (frame 457/807) /content/PolisiTidur26.mp4: 384x640 1 PolisiTidurPolos, 9.2ms\n",
            "video 1/1 (frame 458/807) /content/PolisiTidur26.mp4: 384x640 1 PolisiTidurPolos, 9.9ms\n",
            "video 1/1 (frame 459/807) /content/PolisiTidur26.mp4: 384x640 1 PolisiTidurPolos, 9.2ms\n",
            "video 1/1 (frame 460/807) /content/PolisiTidur26.mp4: 384x640 1 PolisiTidurPolos, 9.0ms\n",
            "video 1/1 (frame 461/807) /content/PolisiTidur26.mp4: 384x640 1 PolisiTidurPolos, 9.6ms\n",
            "video 1/1 (frame 462/807) /content/PolisiTidur26.mp4: 384x640 1 PolisiTidurPolos, 9.5ms\n",
            "video 1/1 (frame 463/807) /content/PolisiTidur26.mp4: 384x640 1 PolisiTidurPolos, 9.3ms\n",
            "video 1/1 (frame 464/807) /content/PolisiTidur26.mp4: 384x640 1 PolisiTidurPolos, 10.7ms\n",
            "video 1/1 (frame 465/807) /content/PolisiTidur26.mp4: 384x640 1 PolisiTidurPolos, 8.9ms\n",
            "video 1/1 (frame 466/807) /content/PolisiTidur26.mp4: 384x640 1 PolisiTidurPolos, 15.8ms\n",
            "video 1/1 (frame 467/807) /content/PolisiTidur26.mp4: 384x640 1 PolisiTidurPolos, 9.2ms\n",
            "video 1/1 (frame 468/807) /content/PolisiTidur26.mp4: 384x640 1 PolisiTidurPolos, 10.0ms\n",
            "video 1/1 (frame 469/807) /content/PolisiTidur26.mp4: 384x640 1 PolisiTidurPolos, 9.3ms\n",
            "video 1/1 (frame 470/807) /content/PolisiTidur26.mp4: 384x640 1 PolisiTidurPolos, 10.2ms\n",
            "video 1/1 (frame 471/807) /content/PolisiTidur26.mp4: 384x640 2 PolisiTidurPoloss, 8.9ms\n",
            "video 1/1 (frame 472/807) /content/PolisiTidur26.mp4: 384x640 1 PolisiTidurPolos, 10.3ms\n",
            "video 1/1 (frame 473/807) /content/PolisiTidur26.mp4: 384x640 1 PolisiTidurPolos, 9.4ms\n",
            "video 1/1 (frame 474/807) /content/PolisiTidur26.mp4: 384x640 1 PolisiTidurPolos, 9.5ms\n",
            "video 1/1 (frame 475/807) /content/PolisiTidur26.mp4: 384x640 1 PolisiTidurPolos, 8.6ms\n",
            "video 1/1 (frame 476/807) /content/PolisiTidur26.mp4: 384x640 1 PolisiTidurPolos, 10.4ms\n",
            "video 1/1 (frame 477/807) /content/PolisiTidur26.mp4: 384x640 1 PolisiTidurPolos, 9.6ms\n",
            "video 1/1 (frame 478/807) /content/PolisiTidur26.mp4: 384x640 1 PolisiTidurPolos, 9.1ms\n",
            "video 1/1 (frame 479/807) /content/PolisiTidur26.mp4: 384x640 1 PolisiTidurPolos, 10.1ms\n",
            "video 1/1 (frame 480/807) /content/PolisiTidur26.mp4: 384x640 1 PolisiTidurPolos, 10.1ms\n",
            "video 1/1 (frame 481/807) /content/PolisiTidur26.mp4: 384x640 1 PolisiTidurPolos, 11.6ms\n",
            "video 1/1 (frame 482/807) /content/PolisiTidur26.mp4: 384x640 1 PolisiTidurPolos, 18.5ms\n",
            "video 1/1 (frame 483/807) /content/PolisiTidur26.mp4: 384x640 1 PolisiTidurPolos, 9.0ms\n",
            "video 1/1 (frame 484/807) /content/PolisiTidur26.mp4: 384x640 1 PolisiTidurPolos, 19.9ms\n",
            "video 1/1 (frame 485/807) /content/PolisiTidur26.mp4: 384x640 1 PolisiTidurPolos, 12.2ms\n",
            "video 1/1 (frame 486/807) /content/PolisiTidur26.mp4: 384x640 1 PolisiTidurPolos, 8.3ms\n",
            "video 1/1 (frame 487/807) /content/PolisiTidur26.mp4: 384x640 2 PolisiTidurPoloss, 9.3ms\n",
            "video 1/1 (frame 488/807) /content/PolisiTidur26.mp4: 384x640 1 PolisiTidurPolos, 15.3ms\n",
            "video 1/1 (frame 489/807) /content/PolisiTidur26.mp4: 384x640 1 PolisiTidurPolos, 15.9ms\n",
            "video 1/1 (frame 490/807) /content/PolisiTidur26.mp4: 384x640 1 PolisiTidurPolos, 9.4ms\n",
            "video 1/1 (frame 491/807) /content/PolisiTidur26.mp4: 384x640 2 PolisiTidurPoloss, 10.2ms\n",
            "video 1/1 (frame 492/807) /content/PolisiTidur26.mp4: 384x640 1 PolisiTidurPolos, 17.8ms\n",
            "video 1/1 (frame 493/807) /content/PolisiTidur26.mp4: 384x640 1 PolisiTidurPolos, 15.6ms\n",
            "video 1/1 (frame 494/807) /content/PolisiTidur26.mp4: 384x640 3 PolisiTidurPoloss, 11.5ms\n",
            "video 1/1 (frame 495/807) /content/PolisiTidur26.mp4: 384x640 1 PolisiTidurPolos, 16.0ms\n",
            "video 1/1 (frame 496/807) /content/PolisiTidur26.mp4: 384x640 2 PolisiTidurPoloss, 8.4ms\n",
            "video 1/1 (frame 497/807) /content/PolisiTidur26.mp4: 384x640 2 PolisiTidurPoloss, 12.6ms\n",
            "video 1/1 (frame 498/807) /content/PolisiTidur26.mp4: 384x640 3 PolisiTidurPoloss, 9.8ms\n",
            "video 1/1 (frame 499/807) /content/PolisiTidur26.mp4: 384x640 3 PolisiTidurPoloss, 12.5ms\n",
            "video 1/1 (frame 500/807) /content/PolisiTidur26.mp4: 384x640 3 PolisiTidurPoloss, 12.5ms\n",
            "video 1/1 (frame 501/807) /content/PolisiTidur26.mp4: 384x640 3 PolisiTidurPoloss, 11.0ms\n",
            "video 1/1 (frame 502/807) /content/PolisiTidur26.mp4: 384x640 3 PolisiTidurPoloss, 9.0ms\n",
            "video 1/1 (frame 503/807) /content/PolisiTidur26.mp4: 384x640 3 PolisiTidurPoloss, 20.7ms\n",
            "video 1/1 (frame 504/807) /content/PolisiTidur26.mp4: 384x640 4 PolisiTidurPoloss, 13.7ms\n",
            "video 1/1 (frame 505/807) /content/PolisiTidur26.mp4: 384x640 3 PolisiTidurPoloss, 9.8ms\n",
            "video 1/1 (frame 506/807) /content/PolisiTidur26.mp4: 384x640 3 PolisiTidurPoloss, 16.5ms\n",
            "video 1/1 (frame 507/807) /content/PolisiTidur26.mp4: 384x640 3 PolisiTidurPoloss, 12.6ms\n",
            "video 1/1 (frame 508/807) /content/PolisiTidur26.mp4: 384x640 3 PolisiTidurPoloss, 10.6ms\n",
            "video 1/1 (frame 509/807) /content/PolisiTidur26.mp4: 384x640 3 PolisiTidurPoloss, 16.2ms\n",
            "video 1/1 (frame 510/807) /content/PolisiTidur26.mp4: 384x640 3 PolisiTidurPoloss, 10.2ms\n",
            "video 1/1 (frame 511/807) /content/PolisiTidur26.mp4: 384x640 3 PolisiTidurPoloss, 16.6ms\n",
            "video 1/1 (frame 512/807) /content/PolisiTidur26.mp4: 384x640 3 PolisiTidurPoloss, 17.2ms\n",
            "video 1/1 (frame 513/807) /content/PolisiTidur26.mp4: 384x640 3 PolisiTidurPoloss, 14.8ms\n",
            "video 1/1 (frame 514/807) /content/PolisiTidur26.mp4: 384x640 3 PolisiTidurPoloss, 11.0ms\n",
            "video 1/1 (frame 515/807) /content/PolisiTidur26.mp4: 384x640 4 PolisiTidurPoloss, 10.5ms\n",
            "video 1/1 (frame 516/807) /content/PolisiTidur26.mp4: 384x640 4 PolisiTidurPoloss, 20.9ms\n",
            "video 1/1 (frame 517/807) /content/PolisiTidur26.mp4: 384x640 4 PolisiTidurPoloss, 15.7ms\n",
            "video 1/1 (frame 518/807) /content/PolisiTidur26.mp4: 384x640 3 PolisiTidurPoloss, 10.0ms\n",
            "video 1/1 (frame 519/807) /content/PolisiTidur26.mp4: 384x640 4 PolisiTidurPoloss, 10.3ms\n",
            "video 1/1 (frame 520/807) /content/PolisiTidur26.mp4: 384x640 3 PolisiTidurPoloss, 9.6ms\n",
            "video 1/1 (frame 521/807) /content/PolisiTidur26.mp4: 384x640 3 PolisiTidurPoloss, 9.7ms\n",
            "video 1/1 (frame 522/807) /content/PolisiTidur26.mp4: 384x640 2 PolisiTidurPoloss, 13.3ms\n",
            "video 1/1 (frame 523/807) /content/PolisiTidur26.mp4: 384x640 2 PolisiTidurPoloss, 19.5ms\n",
            "video 1/1 (frame 524/807) /content/PolisiTidur26.mp4: 384x640 2 PolisiTidurPoloss, 9.9ms\n",
            "video 1/1 (frame 525/807) /content/PolisiTidur26.mp4: 384x640 3 PolisiTidurPoloss, 10.5ms\n",
            "video 1/1 (frame 526/807) /content/PolisiTidur26.mp4: 384x640 2 PolisiTidurPoloss, 17.9ms\n",
            "video 1/1 (frame 527/807) /content/PolisiTidur26.mp4: 384x640 3 PolisiTidurPoloss, 10.0ms\n",
            "video 1/1 (frame 528/807) /content/PolisiTidur26.mp4: 384x640 3 PolisiTidurPoloss, 14.0ms\n",
            "video 1/1 (frame 529/807) /content/PolisiTidur26.mp4: 384x640 2 PolisiTidurPoloss, 15.9ms\n",
            "video 1/1 (frame 530/807) /content/PolisiTidur26.mp4: 384x640 1 PolisiTidurPolos, 14.2ms\n",
            "video 1/1 (frame 531/807) /content/PolisiTidur26.mp4: 384x640 1 PolisiTidurPolos, 9.9ms\n",
            "video 1/1 (frame 532/807) /content/PolisiTidur26.mp4: 384x640 1 PolisiTidurPolos, 10.5ms\n",
            "video 1/1 (frame 533/807) /content/PolisiTidur26.mp4: 384x640 2 PolisiTidurPoloss, 28.3ms\n",
            "video 1/1 (frame 534/807) /content/PolisiTidur26.mp4: 384x640 3 PolisiTidurPoloss, 18.7ms\n",
            "video 1/1 (frame 535/807) /content/PolisiTidur26.mp4: 384x640 3 PolisiTidurPoloss, 9.9ms\n",
            "video 1/1 (frame 536/807) /content/PolisiTidur26.mp4: 384x640 4 PolisiTidurPoloss, 9.6ms\n",
            "video 1/1 (frame 537/807) /content/PolisiTidur26.mp4: 384x640 4 PolisiTidurPoloss, 11.0ms\n",
            "video 1/1 (frame 538/807) /content/PolisiTidur26.mp4: 384x640 3 PolisiTidurPoloss, 12.9ms\n",
            "video 1/1 (frame 539/807) /content/PolisiTidur26.mp4: 384x640 4 PolisiTidurPoloss, 9.8ms\n",
            "video 1/1 (frame 540/807) /content/PolisiTidur26.mp4: 384x640 3 PolisiTidurPoloss, 10.4ms\n",
            "video 1/1 (frame 541/807) /content/PolisiTidur26.mp4: 384x640 3 PolisiTidurPoloss, 10.4ms\n",
            "video 1/1 (frame 542/807) /content/PolisiTidur26.mp4: 384x640 3 PolisiTidurPoloss, 18.1ms\n",
            "video 1/1 (frame 543/807) /content/PolisiTidur26.mp4: 384x640 1 PolisiTidurPolos, 19.2ms\n",
            "video 1/1 (frame 544/807) /content/PolisiTidur26.mp4: 384x640 1 PolisiTidurPolos, 19.1ms\n",
            "video 1/1 (frame 545/807) /content/PolisiTidur26.mp4: 384x640 1 PolisiTidurPolos, 13.2ms\n",
            "video 1/1 (frame 546/807) /content/PolisiTidur26.mp4: 384x640 1 PolisiTidurPolos, 18.9ms\n",
            "video 1/1 (frame 547/807) /content/PolisiTidur26.mp4: 384x640 1 PolisiTidurPolos, 16.6ms\n",
            "video 1/1 (frame 548/807) /content/PolisiTidur26.mp4: 384x640 1 PolisiTidurPolos, 15.7ms\n",
            "video 1/1 (frame 549/807) /content/PolisiTidur26.mp4: 384x640 2 PolisiTidurPoloss, 11.4ms\n",
            "video 1/1 (frame 550/807) /content/PolisiTidur26.mp4: 384x640 1 PolisiTidurPolos, 10.6ms\n",
            "video 1/1 (frame 551/807) /content/PolisiTidur26.mp4: 384x640 3 PolisiTidurPoloss, 8.4ms\n",
            "video 1/1 (frame 552/807) /content/PolisiTidur26.mp4: 384x640 3 PolisiTidurPoloss, 10.0ms\n",
            "video 1/1 (frame 553/807) /content/PolisiTidur26.mp4: 384x640 2 PolisiTidurPoloss, 9.9ms\n",
            "video 1/1 (frame 554/807) /content/PolisiTidur26.mp4: 384x640 2 PolisiTidurPoloss, 11.9ms\n",
            "video 1/1 (frame 555/807) /content/PolisiTidur26.mp4: 384x640 3 PolisiTidurPoloss, 7.5ms\n",
            "video 1/1 (frame 556/807) /content/PolisiTidur26.mp4: 384x640 2 PolisiTidurPoloss, 15.8ms\n",
            "video 1/1 (frame 557/807) /content/PolisiTidur26.mp4: 384x640 2 PolisiTidurPoloss, 9.1ms\n",
            "video 1/1 (frame 558/807) /content/PolisiTidur26.mp4: 384x640 2 PolisiTidurPoloss, 9.4ms\n",
            "video 1/1 (frame 559/807) /content/PolisiTidur26.mp4: 384x640 2 PolisiTidurPoloss, 9.7ms\n",
            "video 1/1 (frame 560/807) /content/PolisiTidur26.mp4: 384x640 2 PolisiTidurPoloss, 9.4ms\n",
            "video 1/1 (frame 561/807) /content/PolisiTidur26.mp4: 384x640 3 PolisiTidurPoloss, 9.0ms\n",
            "video 1/1 (frame 562/807) /content/PolisiTidur26.mp4: 384x640 2 PolisiTidurPoloss, 11.2ms\n",
            "video 1/1 (frame 563/807) /content/PolisiTidur26.mp4: 384x640 3 PolisiTidurPoloss, 16.1ms\n",
            "video 1/1 (frame 564/807) /content/PolisiTidur26.mp4: 384x640 2 PolisiTidurPoloss, 9.5ms\n",
            "video 1/1 (frame 565/807) /content/PolisiTidur26.mp4: 384x640 2 PolisiTidurPoloss, 9.2ms\n",
            "video 1/1 (frame 566/807) /content/PolisiTidur26.mp4: 384x640 2 PolisiTidurPoloss, 10.4ms\n",
            "video 1/1 (frame 567/807) /content/PolisiTidur26.mp4: 384x640 2 PolisiTidurPoloss, 9.7ms\n",
            "video 1/1 (frame 568/807) /content/PolisiTidur26.mp4: 384x640 2 PolisiTidurPoloss, 9.6ms\n",
            "video 1/1 (frame 569/807) /content/PolisiTidur26.mp4: 384x640 2 PolisiTidurPoloss, 12.8ms\n",
            "video 1/1 (frame 570/807) /content/PolisiTidur26.mp4: 384x640 2 PolisiTidurPoloss, 8.5ms\n",
            "video 1/1 (frame 571/807) /content/PolisiTidur26.mp4: 384x640 2 PolisiTidurPoloss, 10.1ms\n",
            "video 1/1 (frame 572/807) /content/PolisiTidur26.mp4: 384x640 3 PolisiTidurPoloss, 9.9ms\n",
            "video 1/1 (frame 573/807) /content/PolisiTidur26.mp4: 384x640 3 PolisiTidurPoloss, 9.8ms\n",
            "video 1/1 (frame 574/807) /content/PolisiTidur26.mp4: 384x640 3 PolisiTidurPoloss, 9.2ms\n",
            "video 1/1 (frame 575/807) /content/PolisiTidur26.mp4: 384x640 2 PolisiTidurPoloss, 8.6ms\n",
            "video 1/1 (frame 576/807) /content/PolisiTidur26.mp4: 384x640 1 PolisiTidurPolos, 8.8ms\n",
            "video 1/1 (frame 577/807) /content/PolisiTidur26.mp4: 384x640 1 PolisiTidurPolos, 9.2ms\n",
            "video 1/1 (frame 578/807) /content/PolisiTidur26.mp4: 384x640 1 PolisiTidurPolos, 10.0ms\n",
            "video 1/1 (frame 579/807) /content/PolisiTidur26.mp4: 384x640 2 PolisiTidurPoloss, 15.6ms\n",
            "video 1/1 (frame 580/807) /content/PolisiTidur26.mp4: 384x640 1 PolisiTidurPolos, 9.6ms\n",
            "video 1/1 (frame 581/807) /content/PolisiTidur26.mp4: 384x640 1 PolisiTidurPolos, 7.9ms\n",
            "video 1/1 (frame 582/807) /content/PolisiTidur26.mp4: 384x640 1 PolisiTidurPolos, 10.6ms\n",
            "video 1/1 (frame 583/807) /content/PolisiTidur26.mp4: 384x640 3 PolisiTidurPoloss, 9.4ms\n",
            "video 1/1 (frame 584/807) /content/PolisiTidur26.mp4: 384x640 1 PolisiTidurPolos, 12.1ms\n",
            "video 1/1 (frame 585/807) /content/PolisiTidur26.mp4: 384x640 1 PolisiTidurPolos, 12.6ms\n",
            "video 1/1 (frame 586/807) /content/PolisiTidur26.mp4: 384x640 1 PolisiTidurPolos, 9.4ms\n",
            "video 1/1 (frame 587/807) /content/PolisiTidur26.mp4: 384x640 1 PolisiTidurPolos, 7.9ms\n",
            "video 1/1 (frame 588/807) /content/PolisiTidur26.mp4: 384x640 1 PolisiTidurPolos, 8.7ms\n",
            "video 1/1 (frame 589/807) /content/PolisiTidur26.mp4: 384x640 1 PolisiTidurPolos, 10.5ms\n",
            "video 1/1 (frame 590/807) /content/PolisiTidur26.mp4: 384x640 1 PolisiTidurPolos, 9.0ms\n",
            "video 1/1 (frame 591/807) /content/PolisiTidur26.mp4: 384x640 1 PolisiTidurPolos, 8.5ms\n",
            "video 1/1 (frame 592/807) /content/PolisiTidur26.mp4: 384x640 1 PolisiTidurPolos, 9.2ms\n",
            "video 1/1 (frame 593/807) /content/PolisiTidur26.mp4: 384x640 1 PolisiTidurPolos, 10.6ms\n",
            "video 1/1 (frame 594/807) /content/PolisiTidur26.mp4: 384x640 1 PolisiTidurPolos, 8.3ms\n",
            "video 1/1 (frame 595/807) /content/PolisiTidur26.mp4: 384x640 1 PolisiTidurPolos, 12.8ms\n",
            "video 1/1 (frame 596/807) /content/PolisiTidur26.mp4: 384x640 1 PolisiTidurPolos, 10.2ms\n",
            "video 1/1 (frame 597/807) /content/PolisiTidur26.mp4: 384x640 1 PolisiTidurPolos, 9.5ms\n",
            "video 1/1 (frame 598/807) /content/PolisiTidur26.mp4: 384x640 1 PolisiTidurPolos, 9.4ms\n",
            "video 1/1 (frame 599/807) /content/PolisiTidur26.mp4: 384x640 1 PolisiTidurPolos, 9.9ms\n",
            "video 1/1 (frame 600/807) /content/PolisiTidur26.mp4: 384x640 1 PolisiTidurPolos, 11.9ms\n",
            "video 1/1 (frame 601/807) /content/PolisiTidur26.mp4: 384x640 1 PolisiTidurPolos, 9.5ms\n",
            "video 1/1 (frame 602/807) /content/PolisiTidur26.mp4: 384x640 1 PolisiTidurPolos, 9.2ms\n",
            "video 1/1 (frame 603/807) /content/PolisiTidur26.mp4: 384x640 1 PolisiTidurPolos, 10.1ms\n",
            "video 1/1 (frame 604/807) /content/PolisiTidur26.mp4: 384x640 1 PolisiTidurPolos, 9.5ms\n",
            "video 1/1 (frame 605/807) /content/PolisiTidur26.mp4: 384x640 1 PolisiTidurPolos, 9.5ms\n",
            "video 1/1 (frame 606/807) /content/PolisiTidur26.mp4: 384x640 1 PolisiTidurPolos, 9.6ms\n",
            "video 1/1 (frame 607/807) /content/PolisiTidur26.mp4: 384x640 1 PolisiTidurPolos, 12.8ms\n",
            "video 1/1 (frame 608/807) /content/PolisiTidur26.mp4: 384x640 1 PolisiTidurPolos, 8.8ms\n",
            "video 1/1 (frame 609/807) /content/PolisiTidur26.mp4: 384x640 2 PolisiTidurPoloss, 10.7ms\n",
            "video 1/1 (frame 610/807) /content/PolisiTidur26.mp4: 384x640 1 PolisiTidurPolos, 9.7ms\n",
            "video 1/1 (frame 611/807) /content/PolisiTidur26.mp4: 384x640 1 PolisiTidurPolos, 9.7ms\n",
            "video 1/1 (frame 612/807) /content/PolisiTidur26.mp4: 384x640 1 PolisiTidurPolos, 9.3ms\n",
            "video 1/1 (frame 613/807) /content/PolisiTidur26.mp4: 384x640 1 PolisiTidurPolos, 9.4ms\n",
            "video 1/1 (frame 614/807) /content/PolisiTidur26.mp4: 384x640 1 PolisiTidurPolos, 9.9ms\n",
            "video 1/1 (frame 615/807) /content/PolisiTidur26.mp4: 384x640 1 PolisiTidurPolos, 9.6ms\n",
            "video 1/1 (frame 616/807) /content/PolisiTidur26.mp4: 384x640 1 PolisiTidurPolos, 10.7ms\n",
            "video 1/1 (frame 617/807) /content/PolisiTidur26.mp4: 384x640 1 PolisiTidurPolos, 7.6ms\n",
            "video 1/1 (frame 618/807) /content/PolisiTidur26.mp4: 384x640 1 PolisiTidurPolos, 12.2ms\n",
            "video 1/1 (frame 619/807) /content/PolisiTidur26.mp4: 384x640 1 PolisiTidurPolos, 11.2ms\n",
            "video 1/1 (frame 620/807) /content/PolisiTidur26.mp4: 384x640 1 PolisiTidurPolos, 10.0ms\n",
            "video 1/1 (frame 621/807) /content/PolisiTidur26.mp4: 384x640 1 PolisiTidurPolos, 9.3ms\n",
            "video 1/1 (frame 622/807) /content/PolisiTidur26.mp4: 384x640 1 PolisiTidurPolos, 9.2ms\n",
            "video 1/1 (frame 623/807) /content/PolisiTidur26.mp4: 384x640 1 PolisiTidurPolos, 9.1ms\n",
            "video 1/1 (frame 624/807) /content/PolisiTidur26.mp4: 384x640 1 PolisiTidurPolos, 8.9ms\n",
            "video 1/1 (frame 625/807) /content/PolisiTidur26.mp4: 384x640 1 PolisiTidurPolos, 9.3ms\n",
            "video 1/1 (frame 626/807) /content/PolisiTidur26.mp4: 384x640 1 PolisiTidurPolos, 7.8ms\n",
            "video 1/1 (frame 627/807) /content/PolisiTidur26.mp4: 384x640 1 PolisiTidurPolos, 9.5ms\n",
            "video 1/1 (frame 628/807) /content/PolisiTidur26.mp4: 384x640 2 PolisiTidurPoloss, 9.5ms\n",
            "video 1/1 (frame 629/807) /content/PolisiTidur26.mp4: 384x640 1 PolisiTidurPolos, 12.9ms\n",
            "video 1/1 (frame 630/807) /content/PolisiTidur26.mp4: 384x640 2 PolisiTidurPoloss, 11.6ms\n",
            "video 1/1 (frame 631/807) /content/PolisiTidur26.mp4: 384x640 1 PolisiTidurPolos, 9.5ms\n",
            "video 1/1 (frame 632/807) /content/PolisiTidur26.mp4: 384x640 1 PolisiTidurPolos, 12.1ms\n",
            "video 1/1 (frame 633/807) /content/PolisiTidur26.mp4: 384x640 1 PolisiTidurPolos, 9.7ms\n",
            "video 1/1 (frame 634/807) /content/PolisiTidur26.mp4: 384x640 1 PolisiTidurPolos, 9.7ms\n",
            "video 1/1 (frame 635/807) /content/PolisiTidur26.mp4: 384x640 1 PolisiTidurPolos, 9.1ms\n",
            "video 1/1 (frame 636/807) /content/PolisiTidur26.mp4: 384x640 2 PolisiTidurPoloss, 9.5ms\n",
            "video 1/1 (frame 637/807) /content/PolisiTidur26.mp4: 384x640 1 PolisiTidurPolos, 9.7ms\n",
            "video 1/1 (frame 638/807) /content/PolisiTidur26.mp4: 384x640 1 PolisiTidurPolos, 9.9ms\n",
            "video 1/1 (frame 639/807) /content/PolisiTidur26.mp4: 384x640 1 PolisiTidurPolos, 9.6ms\n",
            "video 1/1 (frame 640/807) /content/PolisiTidur26.mp4: 384x640 1 PolisiTidurPolos, 9.1ms\n",
            "video 1/1 (frame 641/807) /content/PolisiTidur26.mp4: 384x640 2 PolisiTidurPoloss, 9.6ms\n",
            "video 1/1 (frame 642/807) /content/PolisiTidur26.mp4: 384x640 3 PolisiTidurPoloss, 8.0ms\n",
            "video 1/1 (frame 643/807) /content/PolisiTidur26.mp4: 384x640 3 PolisiTidurPoloss, 10.5ms\n",
            "video 1/1 (frame 644/807) /content/PolisiTidur26.mp4: 384x640 1 PolisiTidurPolos, 10.9ms\n",
            "video 1/1 (frame 645/807) /content/PolisiTidur26.mp4: 384x640 2 PolisiTidurPoloss, 9.8ms\n",
            "video 1/1 (frame 646/807) /content/PolisiTidur26.mp4: 384x640 2 PolisiTidurPoloss, 9.4ms\n",
            "video 1/1 (frame 647/807) /content/PolisiTidur26.mp4: 384x640 1 PolisiTidurPolos, 10.4ms\n",
            "video 1/1 (frame 648/807) /content/PolisiTidur26.mp4: 384x640 1 PolisiTidurPolos, 9.9ms\n",
            "video 1/1 (frame 649/807) /content/PolisiTidur26.mp4: 384x640 1 PolisiTidurPolos, 7.9ms\n",
            "video 1/1 (frame 650/807) /content/PolisiTidur26.mp4: 384x640 1 PolisiTidurPolos, 11.1ms\n",
            "video 1/1 (frame 651/807) /content/PolisiTidur26.mp4: 384x640 1 PolisiTidurPolos, 9.8ms\n",
            "video 1/1 (frame 652/807) /content/PolisiTidur26.mp4: 384x640 1 PolisiTidurPolos, 10.0ms\n",
            "video 1/1 (frame 653/807) /content/PolisiTidur26.mp4: 384x640 2 PolisiTidurPoloss, 9.8ms\n",
            "video 1/1 (frame 654/807) /content/PolisiTidur26.mp4: 384x640 2 PolisiTidurPoloss, 9.2ms\n",
            "video 1/1 (frame 655/807) /content/PolisiTidur26.mp4: 384x640 2 PolisiTidurPoloss, 9.5ms\n",
            "video 1/1 (frame 656/807) /content/PolisiTidur26.mp4: 384x640 2 PolisiTidurPoloss, 8.4ms\n",
            "video 1/1 (frame 657/807) /content/PolisiTidur26.mp4: 384x640 1 PolisiTidurPolos, 9.6ms\n",
            "video 1/1 (frame 658/807) /content/PolisiTidur26.mp4: 384x640 2 PolisiTidurPoloss, 10.2ms\n",
            "video 1/1 (frame 659/807) /content/PolisiTidur26.mp4: 384x640 2 PolisiTidurPoloss, 9.6ms\n",
            "video 1/1 (frame 660/807) /content/PolisiTidur26.mp4: 384x640 2 PolisiTidurPoloss, 14.5ms\n",
            "video 1/1 (frame 661/807) /content/PolisiTidur26.mp4: 384x640 2 PolisiTidurPoloss, 9.8ms\n",
            "video 1/1 (frame 662/807) /content/PolisiTidur26.mp4: 384x640 2 PolisiTidurPoloss, 9.5ms\n",
            "video 1/1 (frame 663/807) /content/PolisiTidur26.mp4: 384x640 2 PolisiTidurPoloss, 8.7ms\n",
            "video 1/1 (frame 664/807) /content/PolisiTidur26.mp4: 384x640 2 PolisiTidurPoloss, 13.0ms\n",
            "video 1/1 (frame 665/807) /content/PolisiTidur26.mp4: 384x640 2 PolisiTidurPoloss, 12.1ms\n",
            "video 1/1 (frame 666/807) /content/PolisiTidur26.mp4: 384x640 2 PolisiTidurPoloss, 9.3ms\n",
            "video 1/1 (frame 667/807) /content/PolisiTidur26.mp4: 384x640 1 PolisiTidurPolos, 12.0ms\n",
            "video 1/1 (frame 668/807) /content/PolisiTidur26.mp4: 384x640 1 PolisiTidurPolos, 9.2ms\n",
            "video 1/1 (frame 669/807) /content/PolisiTidur26.mp4: 384x640 2 PolisiTidurPoloss, 9.6ms\n",
            "video 1/1 (frame 670/807) /content/PolisiTidur26.mp4: 384x640 1 PolisiTidurPolos, 9.5ms\n",
            "video 1/1 (frame 671/807) /content/PolisiTidur26.mp4: 384x640 1 PolisiTidurPolos, 8.1ms\n",
            "video 1/1 (frame 672/807) /content/PolisiTidur26.mp4: 384x640 1 PolisiTidurPolos, 9.9ms\n",
            "video 1/1 (frame 673/807) /content/PolisiTidur26.mp4: 384x640 2 PolisiTidurPoloss, 9.3ms\n",
            "video 1/1 (frame 674/807) /content/PolisiTidur26.mp4: 384x640 2 PolisiTidurPoloss, 9.6ms\n",
            "video 1/1 (frame 675/807) /content/PolisiTidur26.mp4: 384x640 2 PolisiTidurPoloss, 9.7ms\n",
            "video 1/1 (frame 676/807) /content/PolisiTidur26.mp4: 384x640 2 PolisiTidurPoloss, 9.7ms\n",
            "video 1/1 (frame 677/807) /content/PolisiTidur26.mp4: 384x640 1 PolisiTidurPolos, 8.4ms\n",
            "video 1/1 (frame 678/807) /content/PolisiTidur26.mp4: 384x640 1 PolisiTidurPolos, 10.9ms\n",
            "video 1/1 (frame 679/807) /content/PolisiTidur26.mp4: 384x640 2 PolisiTidurPoloss, 8.9ms\n",
            "video 1/1 (frame 680/807) /content/PolisiTidur26.mp4: 384x640 2 PolisiTidurPoloss, 15.4ms\n",
            "video 1/1 (frame 681/807) /content/PolisiTidur26.mp4: 384x640 1 PolisiTidurPolos, 9.9ms\n",
            "video 1/1 (frame 682/807) /content/PolisiTidur26.mp4: 384x640 2 PolisiTidurPoloss, 9.8ms\n",
            "video 1/1 (frame 683/807) /content/PolisiTidur26.mp4: 384x640 1 PolisiTidurPolos, 9.7ms\n",
            "video 1/1 (frame 684/807) /content/PolisiTidur26.mp4: 384x640 1 PolisiTidurPolos, 10.5ms\n",
            "video 1/1 (frame 685/807) /content/PolisiTidur26.mp4: 384x640 1 PolisiTidurPolos, 10.9ms\n",
            "video 1/1 (frame 686/807) /content/PolisiTidur26.mp4: 384x640 1 PolisiTidurPolos, 9.3ms\n",
            "video 1/1 (frame 687/807) /content/PolisiTidur26.mp4: 384x640 1 PolisiTidurPolos, 10.1ms\n",
            "video 1/1 (frame 688/807) /content/PolisiTidur26.mp4: 384x640 1 PolisiTidurPolos, 9.1ms\n",
            "video 1/1 (frame 689/807) /content/PolisiTidur26.mp4: 384x640 2 PolisiTidurPoloss, 9.4ms\n",
            "video 1/1 (frame 690/807) /content/PolisiTidur26.mp4: 384x640 1 PolisiTidurPolos, 9.2ms\n",
            "video 1/1 (frame 691/807) /content/PolisiTidur26.mp4: 384x640 1 PolisiTidurPolos, 11.1ms\n",
            "video 1/1 (frame 692/807) /content/PolisiTidur26.mp4: 384x640 1 PolisiTidurPolos, 9.3ms\n",
            "video 1/1 (frame 693/807) /content/PolisiTidur26.mp4: 384x640 2 PolisiTidurPoloss, 10.6ms\n",
            "video 1/1 (frame 694/807) /content/PolisiTidur26.mp4: 384x640 2 PolisiTidurPoloss, 9.8ms\n",
            "video 1/1 (frame 695/807) /content/PolisiTidur26.mp4: 384x640 2 PolisiTidurPoloss, 9.5ms\n",
            "video 1/1 (frame 696/807) /content/PolisiTidur26.mp4: 384x640 1 PolisiTidurPolos, 11.8ms\n",
            "video 1/1 (frame 697/807) /content/PolisiTidur26.mp4: 384x640 2 PolisiTidurPoloss, 17.8ms\n",
            "video 1/1 (frame 698/807) /content/PolisiTidur26.mp4: 384x640 1 PolisiTidurPolos, 15.1ms\n",
            "video 1/1 (frame 699/807) /content/PolisiTidur26.mp4: 384x640 2 PolisiTidurPoloss, 14.9ms\n",
            "video 1/1 (frame 700/807) /content/PolisiTidur26.mp4: 384x640 1 PolisiTidurPolos, 10.9ms\n",
            "video 1/1 (frame 701/807) /content/PolisiTidur26.mp4: 384x640 1 PolisiTidurPolos, 9.4ms\n",
            "video 1/1 (frame 702/807) /content/PolisiTidur26.mp4: 384x640 1 PolisiTidurPolos, 9.8ms\n",
            "video 1/1 (frame 703/807) /content/PolisiTidur26.mp4: 384x640 1 PolisiTidurPolos, 9.5ms\n",
            "video 1/1 (frame 704/807) /content/PolisiTidur26.mp4: 384x640 1 PolisiTidurPolos, 9.4ms\n",
            "video 1/1 (frame 705/807) /content/PolisiTidur26.mp4: 384x640 1 PolisiTidurPolos, 9.8ms\n",
            "video 1/1 (frame 706/807) /content/PolisiTidur26.mp4: 384x640 1 PolisiTidurPolos, 16.7ms\n",
            "video 1/1 (frame 707/807) /content/PolisiTidur26.mp4: 384x640 1 PolisiTidurPolos, 14.8ms\n",
            "video 1/1 (frame 708/807) /content/PolisiTidur26.mp4: 384x640 1 PolisiTidurPolos, 15.3ms\n",
            "video 1/1 (frame 709/807) /content/PolisiTidur26.mp4: 384x640 1 PolisiTidurPolos, 16.8ms\n",
            "video 1/1 (frame 710/807) /content/PolisiTidur26.mp4: 384x640 1 PolisiTidurPolos, 23.3ms\n",
            "video 1/1 (frame 711/807) /content/PolisiTidur26.mp4: 384x640 2 PolisiTidurPoloss, 16.5ms\n",
            "video 1/1 (frame 712/807) /content/PolisiTidur26.mp4: 384x640 1 PolisiTidurPolos, 12.8ms\n",
            "video 1/1 (frame 713/807) /content/PolisiTidur26.mp4: 384x640 1 PolisiTidurPolos, 9.6ms\n",
            "video 1/1 (frame 714/807) /content/PolisiTidur26.mp4: 384x640 1 PolisiTidurPolos, 12.2ms\n",
            "video 1/1 (frame 715/807) /content/PolisiTidur26.mp4: 384x640 1 PolisiTidurPolos, 10.9ms\n",
            "video 1/1 (frame 716/807) /content/PolisiTidur26.mp4: 384x640 1 PolisiTidurPolos, 8.9ms\n",
            "video 1/1 (frame 717/807) /content/PolisiTidur26.mp4: 384x640 1 PolisiTidurPolos, 17.0ms\n",
            "video 1/1 (frame 718/807) /content/PolisiTidur26.mp4: 384x640 1 PolisiTidurPolos, 12.9ms\n",
            "video 1/1 (frame 719/807) /content/PolisiTidur26.mp4: 384x640 1 PolisiTidurPolos, 9.1ms\n",
            "video 1/1 (frame 720/807) /content/PolisiTidur26.mp4: 384x640 1 PolisiTidurPolos, 9.3ms\n",
            "video 1/1 (frame 721/807) /content/PolisiTidur26.mp4: 384x640 1 PolisiTidurPolos, 16.5ms\n",
            "video 1/1 (frame 722/807) /content/PolisiTidur26.mp4: 384x640 1 PolisiTidurPolos, 11.0ms\n",
            "video 1/1 (frame 723/807) /content/PolisiTidur26.mp4: 384x640 1 PolisiTidurPolos, 11.6ms\n",
            "video 1/1 (frame 724/807) /content/PolisiTidur26.mp4: 384x640 2 PolisiTidurPoloss, 15.9ms\n",
            "video 1/1 (frame 725/807) /content/PolisiTidur26.mp4: 384x640 1 PolisiTidurPolos, 15.6ms\n",
            "video 1/1 (frame 726/807) /content/PolisiTidur26.mp4: 384x640 1 PolisiTidurPolos, 25.0ms\n",
            "video 1/1 (frame 727/807) /content/PolisiTidur26.mp4: 384x640 1 PolisiTidurPolos, 23.2ms\n",
            "video 1/1 (frame 728/807) /content/PolisiTidur26.mp4: 384x640 1 PolisiTidurPolos, 16.2ms\n",
            "video 1/1 (frame 729/807) /content/PolisiTidur26.mp4: 384x640 1 PolisiTidurPolos, 18.8ms\n",
            "video 1/1 (frame 730/807) /content/PolisiTidur26.mp4: 384x640 1 PolisiTidurPolos, 9.0ms\n",
            "video 1/1 (frame 731/807) /content/PolisiTidur26.mp4: 384x640 1 PolisiTidurPolos, 18.0ms\n",
            "video 1/1 (frame 732/807) /content/PolisiTidur26.mp4: 384x640 1 PolisiTidurPolos, 18.8ms\n",
            "video 1/1 (frame 733/807) /content/PolisiTidur26.mp4: 384x640 1 PolisiTidurPolos, 13.7ms\n",
            "video 1/1 (frame 734/807) /content/PolisiTidur26.mp4: 384x640 1 PolisiTidurPolos, 11.4ms\n",
            "video 1/1 (frame 735/807) /content/PolisiTidur26.mp4: 384x640 1 PolisiTidurPolos, 17.1ms\n",
            "video 1/1 (frame 736/807) /content/PolisiTidur26.mp4: 384x640 1 PolisiTidurPolos, 14.9ms\n",
            "video 1/1 (frame 737/807) /content/PolisiTidur26.mp4: 384x640 1 PolisiTidurPolos, 10.2ms\n",
            "video 1/1 (frame 738/807) /content/PolisiTidur26.mp4: 384x640 1 PolisiTidurPolos, 10.0ms\n",
            "video 1/1 (frame 739/807) /content/PolisiTidur26.mp4: 384x640 1 PolisiTidurPolos, 10.5ms\n",
            "video 1/1 (frame 740/807) /content/PolisiTidur26.mp4: 384x640 1 PolisiTidurPolos, 21.1ms\n",
            "video 1/1 (frame 741/807) /content/PolisiTidur26.mp4: 384x640 1 PolisiTidurPolos, 20.5ms\n",
            "video 1/1 (frame 742/807) /content/PolisiTidur26.mp4: 384x640 1 PolisiTidurPolos, 16.9ms\n",
            "video 1/1 (frame 743/807) /content/PolisiTidur26.mp4: 384x640 1 PolisiTidurPolos, 16.2ms\n",
            "video 1/1 (frame 744/807) /content/PolisiTidur26.mp4: 384x640 1 PolisiTidurPolos, 20.6ms\n",
            "video 1/1 (frame 745/807) /content/PolisiTidur26.mp4: 384x640 1 PolisiTidurPolos, 17.3ms\n",
            "video 1/1 (frame 746/807) /content/PolisiTidur26.mp4: 384x640 1 PolisiTidurPolos, 13.8ms\n",
            "video 1/1 (frame 747/807) /content/PolisiTidur26.mp4: 384x640 1 PolisiTidurPolos, 15.1ms\n",
            "video 1/1 (frame 748/807) /content/PolisiTidur26.mp4: 384x640 1 PolisiTidurPolos, 15.6ms\n",
            "video 1/1 (frame 749/807) /content/PolisiTidur26.mp4: 384x640 1 PolisiTidurPolos, 14.3ms\n",
            "video 1/1 (frame 750/807) /content/PolisiTidur26.mp4: 384x640 1 PolisiTidurPolos, 9.5ms\n",
            "video 1/1 (frame 751/807) /content/PolisiTidur26.mp4: 384x640 1 PolisiTidurPolos, 11.3ms\n",
            "video 1/1 (frame 752/807) /content/PolisiTidur26.mp4: 384x640 1 PolisiTidurPolos, 12.8ms\n",
            "video 1/1 (frame 753/807) /content/PolisiTidur26.mp4: 384x640 1 PolisiTidurPolos, 25.8ms\n",
            "video 1/1 (frame 754/807) /content/PolisiTidur26.mp4: 384x640 1 PolisiTidurPolos, 13.4ms\n",
            "video 1/1 (frame 755/807) /content/PolisiTidur26.mp4: 384x640 1 PolisiTidurPolos, 13.9ms\n",
            "video 1/1 (frame 756/807) /content/PolisiTidur26.mp4: 384x640 1 PolisiTidurPolos, 16.3ms\n",
            "video 1/1 (frame 757/807) /content/PolisiTidur26.mp4: 384x640 1 PolisiTidurPolos, 14.6ms\n",
            "video 1/1 (frame 758/807) /content/PolisiTidur26.mp4: 384x640 1 PolisiTidurPolos, 9.8ms\n",
            "video 1/1 (frame 759/807) /content/PolisiTidur26.mp4: 384x640 1 PolisiTidurPolos, 20.6ms\n",
            "video 1/1 (frame 760/807) /content/PolisiTidur26.mp4: 384x640 1 PolisiTidurPolos, 13.5ms\n",
            "video 1/1 (frame 761/807) /content/PolisiTidur26.mp4: 384x640 1 PolisiTidurPolos, 20.2ms\n",
            "video 1/1 (frame 762/807) /content/PolisiTidur26.mp4: 384x640 1 PolisiTidurPolos, 18.6ms\n",
            "video 1/1 (frame 763/807) /content/PolisiTidur26.mp4: 384x640 1 PolisiTidurPolos, 17.0ms\n",
            "video 1/1 (frame 764/807) /content/PolisiTidur26.mp4: 384x640 1 PolisiTidurPolos, 15.1ms\n",
            "video 1/1 (frame 765/807) /content/PolisiTidur26.mp4: 384x640 1 PolisiTidurPolos, 16.6ms\n",
            "video 1/1 (frame 766/807) /content/PolisiTidur26.mp4: 384x640 1 PolisiTidurPolos, 19.1ms\n",
            "video 1/1 (frame 767/807) /content/PolisiTidur26.mp4: 384x640 1 PolisiTidurPolos, 24.3ms\n",
            "video 1/1 (frame 768/807) /content/PolisiTidur26.mp4: 384x640 1 PolisiTidurPolos, 10.8ms\n",
            "video 1/1 (frame 769/807) /content/PolisiTidur26.mp4: 384x640 1 PolisiTidurPolos, 10.4ms\n",
            "video 1/1 (frame 770/807) /content/PolisiTidur26.mp4: 384x640 1 PolisiTidurPolos, 20.6ms\n",
            "video 1/1 (frame 771/807) /content/PolisiTidur26.mp4: 384x640 1 PolisiTidurPolos, 15.4ms\n",
            "video 1/1 (frame 772/807) /content/PolisiTidur26.mp4: 384x640 1 PolisiTidurPolos, 11.4ms\n",
            "video 1/1 (frame 773/807) /content/PolisiTidur26.mp4: 384x640 1 PolisiTidurPolos, 15.6ms\n",
            "video 1/1 (frame 774/807) /content/PolisiTidur26.mp4: 384x640 1 PolisiTidurPolos, 17.1ms\n",
            "video 1/1 (frame 775/807) /content/PolisiTidur26.mp4: 384x640 1 PolisiTidurPolos, 22.5ms\n",
            "video 1/1 (frame 776/807) /content/PolisiTidur26.mp4: 384x640 1 PolisiTidurPolos, 16.3ms\n",
            "video 1/1 (frame 777/807) /content/PolisiTidur26.mp4: 384x640 1 PolisiTidurPolos, 19.0ms\n",
            "video 1/1 (frame 778/807) /content/PolisiTidur26.mp4: 384x640 1 PolisiTidurPolos, 9.7ms\n",
            "video 1/1 (frame 779/807) /content/PolisiTidur26.mp4: 384x640 1 PolisiTidurPolos, 12.3ms\n",
            "video 1/1 (frame 780/807) /content/PolisiTidur26.mp4: 384x640 1 PolisiTidurPolos, 19.5ms\n",
            "video 1/1 (frame 781/807) /content/PolisiTidur26.mp4: 384x640 1 PolisiTidurPolos, 14.0ms\n",
            "video 1/1 (frame 782/807) /content/PolisiTidur26.mp4: 384x640 1 PolisiTidurPolos, 21.4ms\n",
            "video 1/1 (frame 783/807) /content/PolisiTidur26.mp4: 384x640 1 PolisiTidurPolos, 9.7ms\n",
            "video 1/1 (frame 784/807) /content/PolisiTidur26.mp4: 384x640 1 PolisiTidurPolos, 11.6ms\n",
            "video 1/1 (frame 785/807) /content/PolisiTidur26.mp4: 384x640 1 PolisiTidurPolos, 9.4ms\n",
            "video 1/1 (frame 786/807) /content/PolisiTidur26.mp4: 384x640 1 PolisiTidurPolos, 9.8ms\n",
            "video 1/1 (frame 787/807) /content/PolisiTidur26.mp4: 384x640 1 PolisiTidurPolos, 9.5ms\n",
            "video 1/1 (frame 788/807) /content/PolisiTidur26.mp4: 384x640 1 PolisiTidurPolos, 10.3ms\n",
            "video 1/1 (frame 789/807) /content/PolisiTidur26.mp4: 384x640 1 PolisiTidurPolos, 8.2ms\n",
            "video 1/1 (frame 790/807) /content/PolisiTidur26.mp4: 384x640 1 PolisiTidurPolos, 9.3ms\n",
            "video 1/1 (frame 791/807) /content/PolisiTidur26.mp4: 384x640 1 PolisiTidurPolos, 10.1ms\n",
            "video 1/1 (frame 792/807) /content/PolisiTidur26.mp4: 384x640 1 PolisiTidurPolos, 9.1ms\n",
            "video 1/1 (frame 793/807) /content/PolisiTidur26.mp4: 384x640 1 PolisiTidurPolos, 9.8ms\n",
            "video 1/1 (frame 794/807) /content/PolisiTidur26.mp4: 384x640 1 PolisiTidurPolos, 9.6ms\n",
            "video 1/1 (frame 795/807) /content/PolisiTidur26.mp4: 384x640 1 PolisiTidurPolos, 10.0ms\n",
            "video 1/1 (frame 796/807) /content/PolisiTidur26.mp4: 384x640 1 PolisiTidurPolos, 8.2ms\n",
            "video 1/1 (frame 797/807) /content/PolisiTidur26.mp4: 384x640 1 PolisiTidurPolos, 9.4ms\n",
            "video 1/1 (frame 798/807) /content/PolisiTidur26.mp4: 384x640 1 PolisiTidurPolos, 9.9ms\n",
            "video 1/1 (frame 799/807) /content/PolisiTidur26.mp4: 384x640 1 PolisiTidurPolos, 13.4ms\n",
            "video 1/1 (frame 800/807) /content/PolisiTidur26.mp4: 384x640 1 PolisiTidurPolos, 11.5ms\n",
            "video 1/1 (frame 801/807) /content/PolisiTidur26.mp4: 384x640 1 PolisiTidurPolos, 10.9ms\n",
            "video 1/1 (frame 802/807) /content/PolisiTidur26.mp4: 384x640 1 PolisiTidurPolos, 10.7ms\n",
            "video 1/1 (frame 803/807) /content/PolisiTidur26.mp4: 384x640 1 PolisiTidurPolos, 10.3ms\n",
            "video 1/1 (frame 804/807) /content/PolisiTidur26.mp4: 384x640 1 PolisiTidurPolos, 9.6ms\n",
            "video 1/1 (frame 805/807) /content/PolisiTidur26.mp4: 384x640 1 PolisiTidurPolos, 9.6ms\n",
            "video 1/1 (frame 806/807) /content/PolisiTidur26.mp4: 384x640 1 PolisiTidurPolos, 9.9ms\n",
            "video 1/1 (frame 807/807) /content/PolisiTidur26.mp4: 384x640 1 PolisiTidurPolos, 7.3ms\n",
            "Speed: 4.4ms preprocess, 11.5ms inference, 1.8ms postprocess per image at shape (1, 3, 384, 640)\n",
            "Results saved to \u001b[1mruns/detect/predict\u001b[0m\n"
          ]
        }
      ]
    }
  ],
  "metadata": {
    "accelerator": "GPU",
    "colab": {
      "gpuType": "T4",
      "provenance": []
    },
    "kernelspec": {
      "display_name": "Python 3",
      "name": "python3"
    },
    "language_info": {
      "name": "python"
    }
  },
  "nbformat": 4,
  "nbformat_minor": 0
}